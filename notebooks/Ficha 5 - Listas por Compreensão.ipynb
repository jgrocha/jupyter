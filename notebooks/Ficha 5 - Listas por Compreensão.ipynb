{
 "cells": [
  {
   "cell_type": "markdown",
   "metadata": {},
   "source": [
    "# Listas\n",
    "\n",
    "As listas fazem parte das mais importantes estruturas de dados usadas na programação.\n",
    "\n",
    "Podemos definir as listas de três formas: em extensão, enumerando todos os seus elementos, por compreensão, através de propriedades que caraterizam os elementos ou, por fim, por repetição.\n",
    "\n",
    "## Listas por extensão\n",
    "\n",
    "Criação de uma lista por extensão:\n",
    "\n",
    "```\n",
    "planetas = [ 'Mercúrio', 'Vénus', 'Terra', 'Marte', 'Júpiter', 'Saturno', 'Urano', 'Neptuno']\n",
    "numeros = [ 2+2, 7-5, 7*2]\n",
    "```\n",
    "\n",
    "## Listas por compreensão \n",
    "\n",
    "A sintaxe para definir uma lista por compreensão é a seguinte:\n",
    "```\n",
    "lista = [expression for item in iterable if condition] \n",
    "```\n",
    "\n",
    "O elemento __iterable__ pode ser qualquer sequência que se pode percorrer com um ciclo `for`, como conjuntos, listas, tuplos, dicionários ou funções que devolvam sequências. A função `range()`, por exemplo, devolve um __iterable__.\n",
    "\n",
    "Um __iterable__ pode ser convertido diretamente para uma lista com `list()`, em vez de se usar a sintaxe anterior.\n",
    "\n",
    "Ou seja, as seguintes expressões são equivalentes:\n",
    "\n",
    "```\n",
    "list(range(10,20))\n",
    "[x for x in range(10,20)]\n",
    "```\n",
    "\n",
    "Para exemplos mais complicados, consulte a documentação do Python sobre [Listas por compreensão](https://docs.python.org/3/tutorial/datastructures.html#list-comprehensions).\n",
    "\n",
    "## Listas por repetição\n",
    "\n",
    "Esta forma é muito simples. Pega-se numa lista e multiplica-se pelo número de repetições desejada.\n",
    "\n",
    "Uma lista com 10 zeros:\n",
    "\n",
    "```\n",
    "[0] * 10\n",
    "[0, 0, 0, 0, 0, 0, 0, 0, 0, 0]\n",
    "```\n",
    "\n",
    "Uma lista com 3 vivas:\n",
    "\n",
    "```\n",
    "[ 'viva' ] * 3\n",
    "['viva', 'viva', 'viva']\n",
    "```\n",
    "\n",
    "Uma lista com 9 elementos:\n",
    "\n",
    "```\n",
    "[1, 2, 3] * 3\n",
    "[1, 2, 3, 1, 2, 3, 1, 2, 3]\n",
    "```\n",
    "\n",
    "Pode-se escrever igualmente `3 * [1, 2, 3]`.\n"
   ]
  },
  {
   "cell_type": "markdown",
   "metadata": {},
   "source": [
    "### Exemplos de listas por compreensão"
   ]
  },
  {
   "cell_type": "code",
   "execution_count": 55,
   "metadata": {},
   "outputs": [
    {
     "name": "stdout",
     "output_type": "stream",
     "text": [
      "[10, 12, 14, 16, 18, 20]\n"
     ]
    }
   ],
   "source": [
    "res = []\n",
    "for x in range(10,21):\n",
    "    if x % 2 == 0:\n",
    "        res.append(x)\n",
    "print(res)\n"
   ]
  },
  {
   "cell_type": "code",
   "execution_count": 51,
   "metadata": {},
   "outputs": [
    {
     "data": {
      "text/plain": [
       "[10, 12, 14, 16, 18, 20]"
      ]
     },
     "execution_count": 51,
     "metadata": {},
     "output_type": "execute_result"
    }
   ],
   "source": [
    "res"
   ]
  },
  {
   "cell_type": "code",
   "execution_count": 18,
   "metadata": {},
   "outputs": [
    {
     "data": {
      "text/plain": [
       "[10, 12, 14, 16, 18, 20]"
      ]
     },
     "execution_count": 18,
     "metadata": {},
     "output_type": "execute_result"
    }
   ],
   "source": [
    "[x for x in range(10,21) if x %2 == 0]"
   ]
  },
  {
   "cell_type": "code",
   "execution_count": 59,
   "metadata": {},
   "outputs": [
    {
     "data": {
      "text/plain": [
       "[100, 144, 196, 256, 324, 400]"
      ]
     },
     "execution_count": 59,
     "metadata": {},
     "output_type": "execute_result"
    }
   ],
   "source": [
    "[x**2 for x in range(10,21) if x %2 == 0]"
   ]
  },
  {
   "cell_type": "code",
   "execution_count": 58,
   "metadata": {},
   "outputs": [
    {
     "data": {
      "text/plain": [
       "[10, 12, 14, 16, 18, 20]"
      ]
     },
     "execution_count": 58,
     "metadata": {},
     "output_type": "execute_result"
    }
   ],
   "source": [
    "list(range(10,21,2))"
   ]
  },
  {
   "cell_type": "markdown",
   "metadata": {},
   "source": [
    "Note que a função `range()` pode ser invocada de três formas:\n",
    "- `range(stop)`\n",
    "- `range(start, stop)`\n",
    "- `range(start, stop, step)`\n",
    "\n",
    "O valor `stop` fica de fora da lista.\n",
    "\n",
    "As duas expressões seguintes geram a mesma lista."
   ]
  },
  {
   "cell_type": "code",
   "execution_count": 1,
   "metadata": {},
   "outputs": [
    {
     "data": {
      "text/plain": [
       "[25, 100, 225, 400, 625, 900, 1225, 1600, 2025, 2500]"
      ]
     },
     "execution_count": 1,
     "metadata": {},
     "output_type": "execute_result"
    }
   ],
   "source": [
    "[x**2 for x in range(5, 51) if x % 5 == 0]"
   ]
  },
  {
   "cell_type": "code",
   "execution_count": 32,
   "metadata": {},
   "outputs": [
    {
     "data": {
      "text/plain": [
       "46"
      ]
     },
     "execution_count": 32,
     "metadata": {},
     "output_type": "execute_result"
    }
   ],
   "source": [
    "len(list(range(5, 51)))"
   ]
  },
  {
   "cell_type": "markdown",
   "metadata": {},
   "source": [
    "A mesma lista, gerada de forma ligeiramente diferente."
   ]
  },
  {
   "cell_type": "code",
   "execution_count": 40,
   "metadata": {},
   "outputs": [
    {
     "data": {
      "text/plain": [
       "[25, 100, 225, 400, 625, 900, 1225, 1600, 2025, 2500]"
      ]
     },
     "execution_count": 40,
     "metadata": {},
     "output_type": "execute_result"
    }
   ],
   "source": [
    "[x**2 for x in range(5, 51, 5)]"
   ]
  },
  {
   "cell_type": "markdown",
   "metadata": {},
   "source": [
    "### Listas a partir de outras listas\n",
    "\n",
    "No primeiro exemplo obtemos uma nova lista aplicando um tratamento a cada um dos elementos.\n",
    "\n",
    "Em vez de `x for x`, usamos `x.upper() for x`."
   ]
  },
  {
   "cell_type": "code",
   "execution_count": 6,
   "metadata": {},
   "outputs": [
    {
     "name": "stdout",
     "output_type": "stream",
     "text": [
      "['MERCÚRIO', 'VÉNUS', 'TERRA', 'MARTE', 'JÚPITER', 'SATURNO', 'URANO', 'NEPTUNO']\n"
     ]
    }
   ],
   "source": [
    "planetas = [ 'Mercúrio', 'Vénus', 'Terra', 'Marte', 'Júpiter', 'Saturno', 'Urano', 'Neptuno']\n",
    "novos = [x.upper() for x in planetas]\n",
    "print(novos)"
   ]
  },
  {
   "cell_type": "code",
   "execution_count": 63,
   "metadata": {},
   "outputs": [
    {
     "name": "stdout",
     "output_type": "stream",
     "text": [
      "[8, 5, 5, 5, 7, 7, 5, 7]\n"
     ]
    }
   ],
   "source": [
    "planetas = [ 'Mercúrio', 'Vénus', 'Terra', 'Marte', 'Júpiter', 'Saturno', 'Urano', 'Neptuno']\n",
    "novos = [len(x) for x in planetas]\n",
    "print(novos)"
   ]
  },
  {
   "cell_type": "markdown",
   "metadata": {},
   "source": [
    "Aplicando um filtro:"
   ]
  },
  {
   "cell_type": "code",
   "execution_count": 64,
   "metadata": {},
   "outputs": [
    {
     "name": "stdout",
     "output_type": "stream",
     "text": [
      "['MERCÚRIO', 'SATURNO', 'URANO', 'NEPTUNO']\n"
     ]
    }
   ],
   "source": [
    "planetas = [ 'Mercúrio', 'Vénus', 'Terra', 'Marte', 'Júpiter', 'Saturno', 'Urano', 'Neptuno']\n",
    "# novos = [x.upper() for x in planetas if x[len(x)-1] != \"o\" ]\n",
    "novos = [x.upper() for x in planetas if x[-1] == \"o\" ]\n",
    "print(novos)"
   ]
  },
  {
   "cell_type": "markdown",
   "metadata": {},
   "source": [
    "E exemplo seguinte mostra que a expressão não filtra. Apenas processa o elemento.\n",
    "\n",
    "Em vez de `x for x`, usamos a expressão `x if x != \"Terra\" else x.upper() for x`. \n",
    "\n",
    "A expressão pode ser usada noutros contextos. Exemplo:\n",
    "\n",
    "```\n",
    "x = \"Mercúrio\"\n",
    "x if x != \"Terra\" else x.upper()\n",
    "```\n",
    "Resultado:\n",
    "```\n",
    "'Mercúrio'\n",
    "```"
   ]
  },
  {
   "cell_type": "code",
   "execution_count": 8,
   "metadata": {},
   "outputs": [
    {
     "name": "stdout",
     "output_type": "stream",
     "text": [
      "['Mercúrio', 'Vénus', 'TERRA', 'Marte', 'Júpiter', 'Saturno', 'Urano', 'Neptuno']\n"
     ]
    }
   ],
   "source": [
    "outros = [x if x != \"Terra\" else x.upper() for x in planetas]\n",
    "print(outros)"
   ]
  },
  {
   "cell_type": "code",
   "execution_count": 9,
   "metadata": {},
   "outputs": [
    {
     "data": {
      "text/plain": [
       "['K', 'i', 'e', 'v']"
      ]
     },
     "execution_count": 9,
     "metadata": {},
     "output_type": "execute_result"
    }
   ],
   "source": [
    "[x for x in 'Kiev']"
   ]
  },
  {
   "cell_type": "code",
   "execution_count": null,
   "metadata": {},
   "outputs": [
    {
     "data": {
      "text/plain": [
       "['q',\n",
       " 'u',\n",
       " 'e',\n",
       " 'm',\n",
       " 'm',\n",
       " 'e',\n",
       " 'x',\n",
       " 'e',\n",
       " 'u',\n",
       " 'n',\n",
       " 'o',\n",
       " 'm',\n",
       " 'e',\n",
       " 'u',\n",
       " 'q',\n",
       " 'u',\n",
       " 'e',\n",
       " 'i',\n",
       " 'j',\n",
       " 'o']"
      ]
     },
     "metadata": {},
     "output_type": "display_data"
    }
   ],
   "source": [
    "[x.lower() for x in \"Quem mexeu no meu queijo?\" if x.isalpha()]"
   ]
  },
  {
   "cell_type": "code",
   "execution_count": 3,
   "metadata": {},
   "outputs": [
    {
     "data": {
      "text/plain": [
       "'quemmexeunomeuqueijo'"
      ]
     },
     "execution_count": 3,
     "metadata": {},
     "output_type": "execute_result"
    }
   ],
   "source": [
    "\"\".join([x.lower() for x in \"Quem mexeu no meu queijo?\" if x.isalpha()])"
   ]
  },
  {
   "cell_type": "markdown",
   "metadata": {},
   "source": [
    "### Listas de números aleatórios\n",
    "\n",
    "Repare que o __iterable__ só serve para que a expressão seja executada um determinado número de vezes. Os valores do __iterable__ não são usados para nada."
   ]
  },
  {
   "cell_type": "code",
   "execution_count": 8,
   "metadata": {},
   "outputs": [
    {
     "data": {
      "text/plain": [
       "[0.5339111757663194,\n",
       " 0.2647174071688483,\n",
       " 0.15728246508867383,\n",
       " 0.02878312440560349,\n",
       " 0.02491814088310329,\n",
       " 0.7817912007312261,\n",
       " 0.20470060474807872,\n",
       " 0.7387973774179378]"
      ]
     },
     "execution_count": 8,
     "metadata": {},
     "output_type": "execute_result"
    }
   ],
   "source": [
    "import random\n",
    "# [random.random() for _ in range(10)]\n",
    "[random.random() for _ in planetas]\n"
   ]
  },
  {
   "cell_type": "code",
   "execution_count": 47,
   "metadata": {},
   "outputs": [
    {
     "data": {
      "text/plain": [
       "{'João': (datetime.date(2002, 4, 19), 4273),\n",
       " 'Maria': (datetime.date(2007, 2, 2), 3801),\n",
       " 'Manuel': (datetime.date(2009, 10, 13), 7208),\n",
       " 'António': (datetime.date(2007, 3, 1), 6112),\n",
       " 'Luisinho': (datetime.date(2005, 1, 15), 4276)}"
      ]
     },
     "execution_count": 47,
     "metadata": {},
     "output_type": "execute_result"
    }
   ],
   "source": [
    "import random\n",
    "import datetime\n",
    "\n",
    "def data_ao_calha():\n",
    "    ano = random.randint(2001, 2012)\n",
    "    # primeiro gerar ano aleatório\n",
    "    # saber se é bissexto\n",
    "    dias_dos_meses = [ 31, 28, 31, 30, 31, 30, 31, 31, 30, 31, 30, 31]\n",
    "    # dias_dos_meses = [ 31, 29, 31, 30, 31, 30, 31, 31, 30, 31, 30, 31]\n",
    "    if (ano % 4 == 0):\n",
    "        dias_dos_meses[1] = 29\n",
    "    # dias_dos_meses\n",
    "    mes = random.randint(1, 12)\n",
    "    # dia = random.randint(1, 31)\n",
    "    # print(\"Saiu o mes = {}. Esse mês tem {} dias\".format(mes, dias_dos_meses[mes-1]))\n",
    "    dia = random.randint(1, dias_dos_meses[mes-1])\n",
    "    # print(dia, mes, ano)\n",
    "    return datetime.date(ano, mes, dia)\n",
    "\n",
    "alunos = ['João', 'Maria', 'Manuel', 'António', 'Luisinho']\n",
    "# list(zip( alunos, [data_ao_calha() for x in range(5)]))\n",
    "fichas_aluno = {}\n",
    "for x in alunos:\n",
    "    fichas_aluno[x] = data_ao_calha(), (datetime.date.today() - data_ao_calha()).days\n",
    "fichas_aluno"
   ]
  },
  {
   "cell_type": "code",
   "execution_count": 42,
   "metadata": {},
   "outputs": [
    {
     "data": {
      "text/plain": [
       "[12, 570, 642, 682]"
      ]
     },
     "execution_count": 42,
     "metadata": {},
     "output_type": "execute_result"
    }
   ],
   "source": [
    "[random.randint(0, 999) for _ in 'Kiev']"
   ]
  },
  {
   "cell_type": "markdown",
   "metadata": {},
   "source": [
    "### Expressão constante"
   ]
  },
  {
   "cell_type": "code",
   "execution_count": 12,
   "metadata": {},
   "outputs": [
    {
     "name": "stdout",
     "output_type": "stream",
     "text": [
      "['batata', 'batata', 'batata', 'batata', 'batata', 'batata', 'batata', 'batata', 'batata', 'batata']\n"
     ]
    }
   ],
   "source": [
    "almoço = [\"batata\" for x in range(10)]\n",
    "print(almoço)"
   ]
  },
  {
   "cell_type": "code",
   "execution_count": 43,
   "metadata": {},
   "outputs": [
    {
     "data": {
      "text/plain": [
       "['batata',\n",
       " 'batata',\n",
       " 'batata',\n",
       " 'batata',\n",
       " 'batata',\n",
       " 'batata',\n",
       " 'batata',\n",
       " 'batata',\n",
       " 'batata',\n",
       " 'batata']"
      ]
     },
     "execution_count": 43,
     "metadata": {},
     "output_type": "execute_result"
    }
   ],
   "source": [
    "['batata'] * 10"
   ]
  },
  {
   "cell_type": "code",
   "execution_count": 44,
   "metadata": {},
   "outputs": [
    {
     "name": "stdout",
     "output_type": "stream",
     "text": [
      "['batata', 'batata', 'batata', 'batata', 'batata', 'batata', 'batata', 'batata', 'batata', 'batata']\n"
     ]
    }
   ],
   "source": [
    "almoço = []\n",
    "for x in range(10):\n",
    "    almoço.append(\"batata\")\n",
    "print(almoço)"
   ]
  },
  {
   "cell_type": "markdown",
   "metadata": {},
   "source": [
    "Igual lista seria obtida fazendo:"
   ]
  },
  {
   "cell_type": "code",
   "execution_count": 13,
   "metadata": {},
   "outputs": [
    {
     "data": {
      "text/plain": [
       "['batata',\n",
       " 'batata',\n",
       " 'batata',\n",
       " 'batata',\n",
       " 'batata',\n",
       " 'batata',\n",
       " 'batata',\n",
       " 'batata',\n",
       " 'batata',\n",
       " 'batata']"
      ]
     },
     "execution_count": 13,
     "metadata": {},
     "output_type": "execute_result"
    }
   ],
   "source": [
    "['batata'] * 10"
   ]
  },
  {
   "cell_type": "markdown",
   "metadata": {},
   "source": [
    "## Operadores de descompactar"
   ]
  },
  {
   "cell_type": "code",
   "execution_count": 67,
   "metadata": {},
   "outputs": [],
   "source": [
    "a, b, c = ['feijão', 'lentilha', 'ervilha']"
   ]
  },
  {
   "cell_type": "code",
   "execution_count": 68,
   "metadata": {},
   "outputs": [
    {
     "data": {
      "text/plain": [
       "('feijão', 'lentilha', 'ervilha')"
      ]
     },
     "execution_count": 68,
     "metadata": {},
     "output_type": "execute_result"
    }
   ],
   "source": [
    "a, b, c"
   ]
  },
  {
   "cell_type": "code",
   "execution_count": 70,
   "metadata": {},
   "outputs": [],
   "source": [
    "vegetais = ['feijão', 'lentilha', 'ervilha', 'beringela', 'soja', 'quinoa', 'trigo', 'aveia']\n",
    "*outros,  = vegetais\n"
   ]
  },
  {
   "cell_type": "code",
   "execution_count": 49,
   "metadata": {},
   "outputs": [
    {
     "data": {
      "text/plain": [
       "['feijão',\n",
       " 'lentilha',\n",
       " 'ervilha',\n",
       " 'beringela',\n",
       " 'soja',\n",
       " 'quinoa',\n",
       " 'trigo',\n",
       " 'aveia']"
      ]
     },
     "execution_count": 49,
     "metadata": {},
     "output_type": "execute_result"
    }
   ],
   "source": [
    "outros"
   ]
  },
  {
   "cell_type": "code",
   "execution_count": 71,
   "metadata": {},
   "outputs": [],
   "source": [
    "primeiro, *_, ultimo = vegetais\n"
   ]
  },
  {
   "cell_type": "code",
   "execution_count": 72,
   "metadata": {},
   "outputs": [
    {
     "data": {
      "text/plain": [
       "('feijão', 'aveia')"
      ]
     },
     "execution_count": 72,
     "metadata": {},
     "output_type": "execute_result"
    }
   ],
   "source": [
    "primeiro, ultimo"
   ]
  },
  {
   "cell_type": "code",
   "execution_count": 20,
   "metadata": {},
   "outputs": [],
   "source": [
    "*numeros, = range(10)"
   ]
  },
  {
   "cell_type": "code",
   "execution_count": 21,
   "metadata": {},
   "outputs": [
    {
     "data": {
      "text/plain": [
       "[0, 1, 2, 3, 4, 5, 6, 7, 8, 9]"
      ]
     },
     "execution_count": 21,
     "metadata": {},
     "output_type": "execute_result"
    }
   ],
   "source": [
    "numeros"
   ]
  },
  {
   "cell_type": "code",
   "execution_count": 22,
   "metadata": {},
   "outputs": [
    {
     "data": {
      "text/plain": [
       "[0, 1, 2, 3, 4, 5, 6, 7, 8, 9]"
      ]
     },
     "execution_count": 22,
     "metadata": {},
     "output_type": "execute_result"
    }
   ],
   "source": [
    "[*range(10)]"
   ]
  },
  {
   "cell_type": "code",
   "execution_count": 64,
   "metadata": {},
   "outputs": [
    {
     "name": "stdout",
     "output_type": "stream",
     "text": [
      "Rocha ['Jorge', 'Gustavo', 'Pereira', 'Bastos']\n",
      "Rocha Jorge Gustavo Pereira Bastos\n",
      "Rocha, Jorge Gustavo Pereira Bastos\n"
     ]
    }
   ],
   "source": [
    "nomes = ['Jorge', 'Gustavo', 'Pereira', 'Bastos', 'Rocha']\n",
    "*meio, ultimo = nomes\n",
    "print(ultimo, meio)\n",
    "print(ultimo, ' '.join(meio))\n",
    "print('{}, {}'.format(ultimo, ' '.join(meio)))"
   ]
  },
  {
   "cell_type": "code",
   "execution_count": 71,
   "metadata": {},
   "outputs": [
    {
     "name": "stdout",
     "output_type": "stream",
     "text": [
      "Rocha ['Jorge', 'Gustavo', 'Pereira', 'Bastos']\n",
      "Rocha Jorge Gustavo Pereira Bastos\n"
     ]
    }
   ],
   "source": [
    "nomes\n",
    "ultimo = nomes[-1]\n",
    "meio = nomes[:-1]\n",
    "print(ultimo, meio)\n",
    "print(ultimo, ' '.join(meio))"
   ]
  },
  {
   "cell_type": "code",
   "execution_count": 80,
   "metadata": {},
   "outputs": [
    {
     "data": {
      "text/plain": [
       "['Pereira', 'Bastos']"
      ]
     },
     "execution_count": 80,
     "metadata": {},
     "output_type": "execute_result"
    }
   ],
   "source": [
    "nome = \"Jorge Gustavo Pereira Bastos Rocha\"\n",
    "a, b, *c, d = nome.split()\n",
    "c"
   ]
  },
  {
   "cell_type": "markdown",
   "metadata": {},
   "source": [
    "**Exercício**\n",
    "\n",
    "Escreva uma função Python que pega no nome completo de uma pessoa, e devolve o nome escrito da forma: \"Apelido, Nomes próprios\".\n",
    "\n",
    "Ou seja, se o nome for 'Jorge Gustavo Rocha', devolve 'Rocha, Jorge Gustavo'."
   ]
  },
  {
   "cell_type": "code",
   "execution_count": 73,
   "metadata": {},
   "outputs": [],
   "source": [
    "def apelido(nome):\n",
    "    nomes = nome.split()\n",
    "    *meio, ultimo = nomes\n",
    "    return '{}, {}'.format(ultimo, ' '.join(meio))"
   ]
  },
  {
   "cell_type": "code",
   "execution_count": 74,
   "metadata": {},
   "outputs": [
    {
     "data": {
      "text/plain": [
       "'Faria, Ana Isabel'"
      ]
     },
     "execution_count": 74,
     "metadata": {},
     "output_type": "execute_result"
    }
   ],
   "source": [
    "apelido(\"Ana Isabel Faria\")"
   ]
  },
  {
   "cell_type": "markdown",
   "metadata": {},
   "source": [
    "**Exercício**\n",
    "\n",
    "Escreva uma função Python `limpaEspaços` que pegue numa frase qualquer e devolve a mesma frase, sem os espaços, se houver. \n",
    "\n",
    "Por exemplo, se a frase for: \"Quem mexeu no meu queijo?\", o valor retornado seria: \"Quemmexeunomeuqueijo?\""
   ]
  },
  {
   "cell_type": "code",
   "execution_count": 16,
   "metadata": {},
   "outputs": [
    {
     "data": {
      "text/plain": [
       "'Quemmexeunomeuqueijo?'"
      ]
     },
     "execution_count": 16,
     "metadata": {},
     "output_type": "execute_result"
    }
   ],
   "source": [
    "f = \"Quem mexeu no meu queijo?\"\n",
    "# print(''.join(f.split()))\n"
   ]
  },
  {
   "cell_type": "code",
   "execution_count": 15,
   "metadata": {},
   "outputs": [],
   "source": [
    "def limpaEspaços(frase):\n",
    "    # return frase.replace(' ', '')\n",
    "    # return ''.join(f.split())\n",
    "    return ''.join([ x for x in frase if x != ' '])"
   ]
  },
  {
   "cell_type": "code",
   "execution_count": 16,
   "metadata": {},
   "outputs": [
    {
     "data": {
      "text/plain": [
       "'Vivaonossoqueridoprofessor!'"
      ]
     },
     "execution_count": 16,
     "metadata": {},
     "output_type": "execute_result"
    }
   ],
   "source": [
    "limpaEspaços(\"Viva o nosso querido professor!\")"
   ]
  },
  {
   "cell_type": "markdown",
   "metadata": {},
   "source": [
    "**Exercício**\n",
    "\n",
    "Escreva uma função Python `limpaVogais` que pegue numa frase qualquer e devolve a mesma frase, sem as vogais (a, e, i, o, u), se houver. \n",
    "\n",
    "Por exemplo, se a frase for: \"Quem mexeu no meu queijo?\", o valor retornado seria: \"Qm mx n m qj?\""
   ]
  },
  {
   "cell_type": "code",
   "execution_count": 17,
   "metadata": {},
   "outputs": [
    {
     "data": {
      "text/plain": [
       "False"
      ]
     },
     "execution_count": 17,
     "metadata": {},
     "output_type": "execute_result"
    }
   ],
   "source": [
    "vogais = 'aeiou'\n",
    "'a' not in vogais\n"
   ]
  },
  {
   "cell_type": "markdown",
   "metadata": {},
   "source": [
    "**Exercício**\n",
    "\n",
    "Escreva uma função Python que pegue numa frase, contendo espaços, maiúsculas e minúsculas e verifique se é um [palíndromo](https://pt.wikipedia.org/wiki/Pal%C3%ADndromo). Use, por exemplo, a frase: \"A base do teto desaba\".\n",
    "\n",
    "Para facilitar as comparações, use o módulo `unidecode` para remover os acentos.\n",
    "\n",
    "Exemplo de utilização:\n",
    "```\n",
    "import unidecode\n",
    "s = \"António Peçanha Conceição\"\n",
    "```\n",
    "Pode ser usado nas seguintes formas:\n",
    "\n",
    "```\n",
    "unidecode.unidecode(s)\n",
    "[unidecode.unidecode(x) for x in s]\n",
    "```\n"
   ]
  },
  {
   "cell_type": "code",
   "execution_count": 81,
   "metadata": {},
   "outputs": [
    {
     "name": "stdout",
     "output_type": "stream",
     "text": [
      "['s', 'o', 'c', 'o', 'r', 'r', 'a', 'm', 'm', 'e', 's', 'u', 'b', 'i', 'n', 'o', 'o', 'n', 'i', 'b', 'u', 's', 'e', 'm', 'm', 'a', 'r', 'r', 'o', 'c', 'o', 's']\n",
      "['s', 'o', 'c', 'o', 'r', 'r', 'a', 'm', 'm', 'e', 's', 'u', 'b', 'i', 'n', 'o', 'o', 'n', 'i', 'b', 'u', 's', 'e', 'm', 'm', 'a', 'r', 'r', 'o', 'c', 'o', 's']\n"
     ]
    },
    {
     "data": {
      "text/plain": [
       "True"
      ]
     },
     "execution_count": 81,
     "metadata": {},
     "output_type": "execute_result"
    }
   ],
   "source": [
    "import unidecode\n",
    "# frase = 'A base do teto desaba'\n",
    "frase = 'Socorram-me! Subi no ônibus em Marrocos'\n",
    "semacentos = unidecode.unidecode(frase)\n",
    "limpa = [x.lower() for x in semacentos if x.isalpha()]\n",
    "print(limpa)\n",
    "print(list(reversed(limpa)))\n",
    "limpa == list(reversed(limpa))"
   ]
  },
  {
   "cell_type": "markdown",
   "metadata": {},
   "source": [
    "### Transformação de listas com `map()`\n",
    "\n",
    "A função `map()` permite aplicar uma função a um __iterable__. Retorna um __iterable__.\n",
    "\n"
   ]
  },
  {
   "cell_type": "code",
   "execution_count": 21,
   "metadata": {},
   "outputs": [
    {
     "data": {
      "text/plain": [
       "[5, 7, 5]"
      ]
     },
     "execution_count": 21,
     "metadata": {},
     "output_type": "execute_result"
    }
   ],
   "source": [
    "nomes = [\"Jorge\", \"Gustavo\", \"Rocha\"]\n",
    "list(map(len, nomes))"
   ]
  },
  {
   "cell_type": "code",
   "execution_count": 24,
   "metadata": {},
   "outputs": [
    {
     "name": "stdout",
     "output_type": "stream",
     "text": [
      "[0, 1, 4, 9, 16, 25, 36, 49, 64, 81]\n"
     ]
    }
   ],
   "source": [
    "def quadrado(num):\n",
    "    return num**2\n",
    "   \n",
    "quadrados = list( map( quadrado, range(10) ) )\n",
    "print(quadrados)"
   ]
  },
  {
   "attachments": {},
   "cell_type": "markdown",
   "metadata": {},
   "source": [
    "#### Expressões lambda\n",
    "\n",
    "As expressões lambda referem-se a funções anónimas. Não é preciso definir a função previamente. Basta escrever a expressão lambda pretendida.\n"
   ]
  },
  {
   "cell_type": "code",
   "execution_count": 22,
   "metadata": {},
   "outputs": [
    {
     "name": "stdout",
     "output_type": "stream",
     "text": [
      "[0, 1, 8, 27, 64, 125, 216, 343, 512, 729]\n"
     ]
    }
   ],
   "source": [
    "cubos = list( map( lambda x:x**3, range(10) ) )\n",
    "print(cubos)"
   ]
  },
  {
   "cell_type": "markdown",
   "metadata": {},
   "source": [
    "**Exercício**\n",
    "\n",
    "Dada um lista de strings, some os seus elementos.\n",
    "\n",
    "Faça um teste com a seguinte lista:\n",
    "```\n",
    "numeros = [\"4\", \"8\", \"6\", \"5\", \"3\", \"2\", \"8\", \"9\", \"2\", \"5\"]\n",
    "```\n"
   ]
  },
  {
   "cell_type": "code",
   "execution_count": 27,
   "metadata": {},
   "outputs": [
    {
     "data": {
      "text/plain": [
       "52"
      ]
     },
     "execution_count": 27,
     "metadata": {},
     "output_type": "execute_result"
    }
   ],
   "source": [
    "numeros = [\"4\", \"8\", \"6\", \"5\", \"3\", \"2\", \"8\", \"9\", \"2\", \"5\"]\n",
    "sum([int(x) for x in numeros])"
   ]
  },
  {
   "cell_type": "markdown",
   "metadata": {},
   "source": [
    "**Exercício**\n",
    "\n",
    "Escreve uma função que pega numa frase e num dicionário de traduções.\n",
    "\n",
    "A função deve retornar a frase com as palavras traduzidas.\n",
    "\n",
    "O dicionário de tradução deve ter a seguinte forma:\n",
    "\n",
    "```\n",
    "{\n",
    "\t\"a\": \"the\",\n",
    "\t\"maça\": \"maça\",\n",
    "\t\"bola\": \"ball\",\n",
    "\t\"é\": \"is\",\n",
    "\t\"blue\": \"azul\",\n",
    "\t\"red\": \"vermelha\"\n",
    "}\n",
    "```\n",
    "\n",
    "Exemplo: Se a frase for \"A bola é azul\" e o dicionário for o exemplificado, o resultado será: \"the ball is blue\".\n"
   ]
  },
  {
   "cell_type": "code",
   "execution_count": null,
   "metadata": {},
   "outputs": [
    {
     "name": "stdout",
     "output_type": "stream",
     "text": [
      "the ball is blue\n"
     ]
    }
   ],
   "source": [
    "test_str = \"A bola é azul\"\n",
    "lookp_dict = {\n",
    "\t\"a\": \"the\",\n",
    "\t\"maça\": \"maça\",\n",
    "\t\"carro\": \"car\",\n",
    "\t\"bola\": \"ball\",\n",
    "\t\"é\": \"is\",\n",
    "\t\"azul\": \"blue\",\n",
    "\t\"vermelha\": \"red\"\n",
    "}\n",
    "temp = test_str.split()\n",
    "res = []\n",
    "for wrd in temp:\n",
    "    res.append(lookp_dict.get(wrd.lower(), wrd))\n",
    "print(' '.join(res))"
   ]
  }
 ],
 "metadata": {
  "kernelspec": {
   "display_name": "Python 3.10.6 64-bit",
   "language": "python",
   "name": "python3"
  },
  "language_info": {
   "codemirror_mode": {
    "name": "ipython",
    "version": 3
   },
   "file_extension": ".py",
   "mimetype": "text/x-python",
   "name": "python",
   "nbconvert_exporter": "python",
   "pygments_lexer": "ipython3",
   "version": "3.10.6"
  },
  "vscode": {
   "interpreter": {
    "hash": "916dbcbb3f70747c44a77c7bcd40155683ae19c65e1c03b4aa3499c5328201f1"
   }
  }
 },
 "nbformat": 4,
 "nbformat_minor": 2
}
