{
 "cells": [
  {
   "cell_type": "markdown",
   "metadata": {},
   "source": [
    "# Estruturas de Dados em Python\n",
    "\n",
    "Vamos começar por olhar para as estruturas de dados em Python que nos ajudam a representar coleções de dados.\n",
    "\n",
    "Faça estes exercícios no Jupyter. \n",
    "\n",
    "## Documentação sobre Python 3\n",
    "\n",
    "## Documentação sobre o Jupyter\n",
    "Enquanto não estiver familizarizado com o Jupyter, consulta a [documentação disponível](https://jupyter-notebook.readthedocs.io/en/stable/notebook.html#introduction).\n",
    "\n",
    "Se estiver mesmo a começar, leia primeiro um pequeno tutorial, como este [Jupyter Notebook: An Introduction](https://realpython.com/jupyter-notebook-introduction/), entre os muitos que existem na net.\n",
    "\n",
    "Para acelerar a edição no Jupyter, consulte a [lista de atalhos](https://towardsdatascience.com/jypyter-notebook-shortcuts-bf0101a98330) que existem para criar células, mudar o tipo de célula, executar, etc. Além dos atalhos, há mais uns [truques](https://www.dataquest.io/blog/jupyter-notebook-tips-tricks-shortcuts/) que dão jeito.\n",
    "\n",
    "Use também um [guia de Markdown](https://medium.com/analytics-vidhya/the-ultimate-markdown-guide-for-jupyter-notebook-d5e5abf728fd) para formatar as células de texto.\n",
    "\n",
    "Ao resolver os exercícios, adicione caixas de texto com as suas próprias explicações. Quanto melhor forem as suas explicações, mais fácil será reler o código que escreveu daqui a alguns dias."
   ]
  },
  {
   "cell_type": "markdown",
   "metadata": {},
   "source": [
    "## Listas\n",
    "\n",
    "```python\n",
    "concelhos = [ \"Amares\", \"Barcelos\", \"Braga\", \"Cabeceiras de Basto\", \"Celorico de Basto\", \"Esposende\", \"Fafe\", \"Guimarães\", \"Póvoa de Lanhoso\", \"Terras de Bouro\", \"Vieira do Minho\", \"Vila Nova de Famalicão\", \"Vila Verde\", \"Vizela\" ]\n",
    "```\n",
    "\n",
    "## Dicionários\n",
    "\n",
    "```python\n",
    "populacao = { \"Amares\": 19853, \"Barcelos\": 124555, \"Braga\": 176154, \"Cabeceiras de Basto\": 17635, \"Celorico de Basto\": 19767, \"Esposende\": 35552, \"Fafe\": 53600, \"Guimarães\": 162636, \"Póvoa de Lanhoso\": 24230, \"Terras de Bouro\": 7506, \"Vieira do Minho\": 14077, \"Vila Nova de Famalicão\": 134969, \"Vila Verde\": 49171, \"Vizela\": 24477 }\n",
    "```\n",
    "\n",
    "## Arrays\n",
    "\n",
    "Os arrays são indicados para armazenar uma coleção de elementos do mesmo tipo. \n",
    "As listas, com se viu, podem conter elementos de vários tipos diferentes. Os arrays, para serem mais eficientes, apenas permitem elementos do mesmo tipo (booleanos, inteiros, reais, etc).\n",
    "\n",
    "Os arrays podem ser criados com o módulo `array` ou com o módulo `numpy`. \n",
    "Ambas as implementações são semelhantes. Nestes exercícios, vamos usar sempre o módulo `numpy` para trabalhar com arrays.\n",
    "\n",
    "```python\n",
    "import numpy as np\n",
    "vel = np.array([ 50, 50, 70, 90, 120 ])\n",
    "```\n",
    "\n",
    "### Arrays com números aleatórios\n",
    "\n",
    "```python\n",
    "np.random.seed(0)\n",
    "notas = np.random.randint(100, size=10)\n",
    "```"
   ]
  },
  {
   "cell_type": "markdown",
   "metadata": {},
   "source": [
    "## Exercícios de listas\n",
    "\n",
    "Considere a lista `concelhos` definida anteriormente.\n",
    "\n",
    "1. Calcule o números de elementos da lista.\n",
    "\n",
    "2. Calcule o primeiro elemento da lista.\n",
    "\n",
    "3. A partir da lista inicial, crie um nova lista, com a apenas o primeiro e o último elemento da lista.\n",
    "\n",
    "4. Para ordenar listas, pode usar duas funções diferentes: `list.sort()` e `sorted()`. Escreva dois exemplos, com cada uma das funções, para mostrar as diferenças. Veja também como se usa o parâmetro `reverse=True` nestas duas funções."
   ]
  },
  {
   "cell_type": "markdown",
   "metadata": {},
   "source": [
    "## Resolução dos exercícios com listas\n",
    "Dada a seguinte lista, guardada na variável `concelhos`:"
   ]
  },
  {
   "cell_type": "code",
   "execution_count": 2,
   "metadata": {},
   "outputs": [],
   "source": [
    "concelhos = [ \"Amares\", \"Barcelos\", \"Braga\", \"Cabeceiras de Basto\", \"Celorico de Basto\", \"Esposende\", \"Fafe\", \"Guimarães\", \"Póvoa de Lanhoso\", \"Terras de Bouro\", \"Vieira do Minho\", \"Vila Nova de Famalicão\", \"Vila Verde\", \"Vizela\" ]"
   ]
  },
  {
   "cell_type": "code",
   "execution_count": 6,
   "metadata": {},
   "outputs": [
    {
     "data": {
      "text/plain": [
       "14"
      ]
     },
     "execution_count": 6,
     "metadata": {},
     "output_type": "execute_result"
    }
   ],
   "source": [
    "# Número de elementos da lista\n",
    "len(concelhos)"
   ]
  },
  {
   "cell_type": "code",
   "execution_count": 11,
   "metadata": {},
   "outputs": [
    {
     "data": {
      "text/plain": [
       "'Amares'"
      ]
     },
     "execution_count": 11,
     "metadata": {},
     "output_type": "execute_result"
    }
   ],
   "source": [
    "# Primeiro elemento da lista\n",
    "concelhos[0]"
   ]
  },
  {
   "cell_type": "markdown",
   "metadata": {},
   "source": [
    "O último elemento de uma lista pode ser indexado com `-1`. Ou seja, `concelhos[-1]` dá-nos o último elemento da lista. Neste caso específico, também se podia aceder ao último elemento com `concelhos[13]`."
   ]
  },
  {
   "cell_type": "code",
   "execution_count": 12,
   "metadata": {},
   "outputs": [
    {
     "data": {
      "text/plain": [
       "['Amares', 'Vizela']"
      ]
     },
     "execution_count": 12,
     "metadata": {},
     "output_type": "execute_result"
    }
   ],
   "source": [
    "[concelhos[0], concelhos[-1]]"
   ]
  },
  {
   "cell_type": "markdown",
   "metadata": {},
   "source": [
    "### A função `sorted()`\n",
    "A função `sorted()` pega numa lista retorna uma nova lista com os elementos ordenados."
   ]
  },
  {
   "cell_type": "code",
   "execution_count": 13,
   "metadata": {},
   "outputs": [
    {
     "data": {
      "text/plain": [
       "['Amares',\n",
       " 'Barcelos',\n",
       " 'Braga',\n",
       " 'Cabeceiras de Basto',\n",
       " 'Celorico de Basto',\n",
       " 'Esposende',\n",
       " 'Fafe',\n",
       " 'Guimarães',\n",
       " 'Póvoa de Lanhoso',\n",
       " 'Terras de Bouro',\n",
       " 'Vieira do Minho',\n",
       " 'Vila Nova de Famalicão',\n",
       " 'Vila Verde',\n",
       " 'Vizela']"
      ]
     },
     "execution_count": 13,
     "metadata": {},
     "output_type": "execute_result"
    }
   ],
   "source": [
    "sorted(concelhos)"
   ]
  },
  {
   "cell_type": "markdown",
   "metadata": {},
   "source": [
    "A função `sorted()` pode levar uma parâmetro para inverter a ordem de ordenação."
   ]
  },
  {
   "cell_type": "code",
   "execution_count": 31,
   "metadata": {},
   "outputs": [
    {
     "data": {
      "text/plain": [
       "['Vizela',\n",
       " 'Vila Verde',\n",
       " 'Vila Nova de Famalicão',\n",
       " 'Vieira do Minho',\n",
       " 'Terras de Bouro',\n",
       " 'Póvoa de Lanhoso',\n",
       " 'Guimarães',\n",
       " 'Fafe',\n",
       " 'Esposende',\n",
       " 'Celorico de Basto',\n",
       " 'Cabeceiras de Basto',\n",
       " 'Braga',\n",
       " 'Barcelos',\n",
       " 'Amares']"
      ]
     },
     "execution_count": 31,
     "metadata": {},
     "output_type": "execute_result"
    }
   ],
   "source": [
    "sorted(concelhos, reverse=True)"
   ]
  },
  {
   "cell_type": "markdown",
   "metadata": {},
   "source": [
    "As listas podem ser ordenadas usando o **resultado** de uma função. No exemplo seguinte ordena-se a lista de concelhos, aplicando a funçao `len()` a cada concelho. A função `len()` calcula o tamanho de uma string."
   ]
  },
  {
   "cell_type": "code",
   "execution_count": 35,
   "metadata": {},
   "outputs": [
    {
     "data": {
      "text/plain": [
       "['Fafe',\n",
       " 'Braga',\n",
       " 'Vizela',\n",
       " 'Amares',\n",
       " 'Barcelos',\n",
       " 'Guimarães',\n",
       " 'Esposende',\n",
       " 'Vila Verde',\n",
       " 'Vieira do Minho',\n",
       " 'Terras de Bouro',\n",
       " 'Póvoa de Lanhoso',\n",
       " 'Celorico de Basto',\n",
       " 'Cabeceiras de Basto',\n",
       " 'Vila Nova de Famalicão']"
      ]
     },
     "execution_count": 35,
     "metadata": {},
     "output_type": "execute_result"
    }
   ],
   "source": [
    "sorted(concelhos, key=len)"
   ]
  },
  {
   "cell_type": "markdown",
   "metadata": {},
   "source": [
    "### O método `list.sort()`\n",
    "O método `sort()` da classe `list` modifica a própria lista. Não devolve uma nova lista. Ou seja, a lista passa a ficar armazenada com a ordenação imposta por `list.sort()`."
   ]
  },
  {
   "cell_type": "code",
   "execution_count": 16,
   "metadata": {},
   "outputs": [
    {
     "name": "stdout",
     "output_type": "stream",
     "text": [
      "['Vizela', 'Vila Verde', 'Vila Nova de Famalicão', 'Vieira do Minho', 'Terras de Bouro', 'Póvoa de Lanhoso', 'Guimarães', 'Fafe', 'Esposende', 'Celorico de Basto', 'Cabeceiras de Basto', 'Braga', 'Barcelos', 'Amares']\n"
     ]
    }
   ],
   "source": [
    "# Vamos alterar a ordem pela qual são armazenados os elementos da lista\n",
    "list.sort(concelhos, reverse=True)\n",
    "# Vamos mostrar que os elementos passaram a estar armazenados por outra ordem\n",
    "print(concelhos)"
   ]
  },
  {
   "cell_type": "markdown",
   "metadata": {},
   "source": [
    "## Exercícios com dicionários\n",
    "\n",
    "Considere o dicionário `populacao` atrás definido.\n",
    "\n",
    "1.  Escreva a expressão que nos dá a polulação de `Vizela`\n",
    "2.  Diga qual é o concelho mais populoso\n",
    "3.  Diga qual é a soma da população de todos os concelhos\n",
    "4.  Imprima os concelhos e respetiva população por ordem descrescente de população\n"
   ]
  },
  {
   "cell_type": "markdown",
   "metadata": {},
   "source": [
    "## Resolução dos exercícios com dicionários"
   ]
  },
  {
   "cell_type": "code",
   "execution_count": 36,
   "metadata": {},
   "outputs": [],
   "source": [
    "populacao = { \"Amares\": 19853, \"Barcelos\": 124555, \"Braga\": 176154, \"Cabeceiras de Basto\": 17635, \"Celorico de Basto\": 19767, \"Esposende\": 35552, \"Fafe\": 53600, \"Guimarães\": 162636, \"Póvoa de Lanhoso\": 24230, \"Terras de Bouro\": 7506, \"Vieira do Minho\": 14077, \"Vila Nova de Famalicão\": 134969, \"Vila Verde\": 49171, \"Vizela\": 24477 }"
   ]
  },
  {
   "cell_type": "markdown",
   "metadata": {},
   "source": [
    "Os dicionários têm um conjunto de chaves e de valores. Dá para separar cada um destes concjuntos com:"
   ]
  },
  {
   "cell_type": "code",
   "execution_count": 38,
   "metadata": {},
   "outputs": [
    {
     "data": {
      "text/plain": [
       "dict_keys(['Amares', 'Barcelos', 'Braga', 'Cabeceiras de Basto', 'Celorico de Basto', 'Esposende', 'Fafe', 'Guimarães', 'Póvoa de Lanhoso', 'Terras de Bouro', 'Vieira do Minho', 'Vila Nova de Famalicão', 'Vila Verde', 'Vizela'])"
      ]
     },
     "execution_count": 38,
     "metadata": {},
     "output_type": "execute_result"
    }
   ],
   "source": [
    "populacao.keys()"
   ]
  },
  {
   "cell_type": "code",
   "execution_count": 40,
   "metadata": {},
   "outputs": [
    {
     "data": {
      "text/plain": [
       "dict_values([19853, 124555, 176154, 17635, 19767, 35552, 53600, 162636, 24230, 7506, 14077, 134969, 49171, 24477])"
      ]
     },
     "execution_count": 40,
     "metadata": {},
     "output_type": "execute_result"
    }
   ],
   "source": [
    "populacao.values()"
   ]
  },
  {
   "cell_type": "markdown",
   "metadata": {},
   "source": [
    "Para sabermos a população de **\"Vizela\"**, precisamos de ir buscar o valor associado à chave `\"Vizela\"`. Podemos fazê-lo de duas formas:"
   ]
  },
  {
   "cell_type": "code",
   "execution_count": 28,
   "metadata": {},
   "outputs": [
    {
     "data": {
      "text/plain": [
       "24477"
      ]
     },
     "execution_count": 28,
     "metadata": {},
     "output_type": "execute_result"
    }
   ],
   "source": [
    "# população de Vizela\n",
    "populacao[\"Vizela\"]"
   ]
  },
  {
   "cell_type": "code",
   "execution_count": 30,
   "metadata": {},
   "outputs": [
    {
     "data": {
      "text/plain": [
       "24477"
      ]
     },
     "execution_count": 30,
     "metadata": {},
     "output_type": "execute_result"
    }
   ],
   "source": [
    "# população de Vizela\n",
    "# forma alternativa\n",
    "populacao.get(\"Vizela\")"
   ]
  },
  {
   "cell_type": "markdown",
   "metadata": {},
   "source": [
    "A expressão `max(populacao)` daria-nos o máximo das chaves (que seria \"Vizela\"). Como queremos o máximo dos valores, temos que usar o parâmetro `key` com o método `populacao.get()` que nos permite ir bucar os valores associados às chaves. Assim o máximo é calculado em funçã dos valores e não das chaves."
   ]
  },
  {
   "cell_type": "code",
   "execution_count": 41,
   "metadata": {},
   "outputs": [
    {
     "data": {
      "text/plain": [
       "'Braga'"
      ]
     },
     "execution_count": 41,
     "metadata": {},
     "output_type": "execute_result"
    }
   ],
   "source": [
    "# concelho mais populoso\n",
    "max(populacao, key=populacao.get)"
   ]
  },
  {
   "cell_type": "code",
   "execution_count": 44,
   "metadata": {},
   "outputs": [
    {
     "data": {
      "text/plain": [
       "864182"
      ]
     },
     "execution_count": 44,
     "metadata": {},
     "output_type": "execute_result"
    }
   ],
   "source": [
    "# População de todos os concelhos\n",
    "sum(populacao.values())"
   ]
  },
  {
   "cell_type": "markdown",
   "metadata": {},
   "source": [
    "Imprimir os concelhos e respetiva população por ordem descrescente de população"
   ]
  },
  {
   "cell_type": "code",
   "execution_count": 91,
   "metadata": {},
   "outputs": [
    {
     "data": {
      "text/plain": [
       "[('Braga', 176154),\n",
       " ('Guimarães', 162636),\n",
       " ('Vila Nova de Famalicão', 134969),\n",
       " ('Barcelos', 124555),\n",
       " ('Fafe', 53600),\n",
       " ('Vila Verde', 49171),\n",
       " ('Esposende', 35552),\n",
       " ('Vizela', 24477),\n",
       " ('Póvoa de Lanhoso', 24230),\n",
       " ('Amares', 19853),\n",
       " ('Celorico de Basto', 19767),\n",
       " ('Cabeceiras de Basto', 17635),\n",
       " ('Vieira do Minho', 14077),\n",
       " ('Terras de Bouro', 7506)]"
      ]
     },
     "execution_count": 91,
     "metadata": {},
     "output_type": "execute_result"
    }
   ],
   "source": [
    "# Só ordena e devolve as chaves\n",
    "# sorted(populacao, reverse=True, key=populacao.get)\n",
    "[ (chave, populacao[chave]) for chave in sorted(populacao, reverse=True, key=populacao.get) ]"
   ]
  },
  {
   "cell_type": "code",
   "execution_count": 82,
   "metadata": {},
   "outputs": [
    {
     "data": {
      "text/plain": [
       "[('Braga', 176154),\n",
       " ('Guimarães', 162636),\n",
       " ('Vila Nova de Famalicão', 134969),\n",
       " ('Barcelos', 124555),\n",
       " ('Fafe', 53600),\n",
       " ('Vila Verde', 49171),\n",
       " ('Esposende', 35552),\n",
       " ('Vizela', 24477),\n",
       " ('Póvoa de Lanhoso', 24230),\n",
       " ('Amares', 19853),\n",
       " ('Celorico de Basto', 19767),\n",
       " ('Cabeceiras de Basto', 17635),\n",
       " ('Vieira do Minho', 14077),\n",
       " ('Terras de Bouro', 7506)]"
      ]
     },
     "execution_count": 82,
     "metadata": {},
     "output_type": "execute_result"
    }
   ],
   "source": [
    "# forma alternativa, usando uma função lambda (função sem nome) que ordena em função do valor do dicionário\n",
    "sorted(populacao.items(), reverse=True, key=lambda item: item[1])"
   ]
  },
  {
   "cell_type": "markdown",
   "metadata": {},
   "source": [
    "## Exercícios com arrays\n",
    "\n",
    "Considere os arrays atrás definidos.\n",
    "\n",
    "1.  Calcule a médias das velocidades registadas no vetor `vel`\n",
    "2.  Calcule a velocidade mínima no vetor `vel`\n",
    "3.  Crie um vetor com 10 elementos, com números aleatórios entre -10 e 10."
   ]
  },
  {
   "cell_type": "code",
   "execution_count": 93,
   "metadata": {},
   "outputs": [],
   "source": [
    "import numpy as np\n",
    "vel = np.array([ 50, 50, 70, 90, 120 ])\n",
    "np.random.seed(0)\n",
    "notas = np.random.randint(100, size=10)"
   ]
  },
  {
   "cell_type": "code",
   "execution_count": 97,
   "metadata": {},
   "outputs": [
    {
     "data": {
      "text/plain": [
       "76.0"
      ]
     },
     "execution_count": 97,
     "metadata": {},
     "output_type": "execute_result"
    }
   ],
   "source": [
    "np.mean(vel)"
   ]
  },
  {
   "cell_type": "code",
   "execution_count": 99,
   "metadata": {},
   "outputs": [
    {
     "data": {
      "text/plain": [
       "50"
      ]
     },
     "execution_count": 99,
     "metadata": {},
     "output_type": "execute_result"
    }
   ],
   "source": [
    "np.min(vel)"
   ]
  },
  {
   "cell_type": "code",
   "execution_count": 103,
   "metadata": {},
   "outputs": [
    {
     "data": {
      "text/plain": [
       "array([ -1,  10,   9,   6,   9,  -5,   5,   5, -10,   8])"
      ]
     },
     "execution_count": 103,
     "metadata": {},
     "output_type": "execute_result"
    }
   ],
   "source": [
    "np.random.randint(-10, 11, 10)"
   ]
  }
 ],
 "metadata": {
  "kernelspec": {
   "display_name": "Python 3",
   "language": "python",
   "name": "python3"
  },
  "language_info": {
   "codemirror_mode": {
    "name": "ipython",
    "version": 3
   },
   "file_extension": ".py",
   "mimetype": "text/x-python",
   "name": "python",
   "nbconvert_exporter": "python",
   "pygments_lexer": "ipython3",
   "version": "3.7.5"
  }
 },
 "nbformat": 4,
 "nbformat_minor": 2
}
