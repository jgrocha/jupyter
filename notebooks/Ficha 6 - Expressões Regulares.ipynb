{
 "cells": [
  {
   "attachments": {},
   "cell_type": "markdown",
   "metadata": {},
   "source": [
    "# Expressões regulares\n",
    "\n",
    "As expressões regulares são usadas nas linguagens de programação e, em Linux, na generalidade das ferramentas que trabalham com ficheiros.\n",
    "\n",
    "Nesta ficha vamos aprender coisas básicas de expressões regulares.\n",
    "\n",
    "## Definição \n",
    "\n",
    "**Chama-se expressão regular a** uma sequência de carateres que define **um padrão**. O propósito é depois encontrar esse padrão num texto.\n",
    "\n",
    "## Exemplo (no editor do Visual Studio Code)\n",
    "\n",
    "Exemplo de uma expressão regular: `h[aeiou]+`\n",
    "\n",
    "A expressão anterior define uo seguinte padrão. a letra `h` seguida de uma ou mais vogais.\n",
    "\n",
    "Na imagem seguinte, usa-se este padrão no Visual Studio Code. Note-se que se escolhe procurar por expressão regular. Na imagem veem-se todas as ocorrências do padrão no texto.\n",
    "\n",
    "![](imagens/expressaoregular-vsc.png)\n",
    "\n",
    "## Exemplo em Python"
   ]
  },
  {
   "cell_type": "code",
   "execution_count": 38,
   "metadata": {},
   "outputs": [
    {
     "name": "stdout",
     "output_type": "stream",
     "text": [
      "['he', 'he', 'hea', 'he', 'he', 'he', 'he', 'he', 'ho', 'he', 'he', 'he', 'ha', 'he', 'he', 'he', 'he', 'he', 'he', 'he', 'he', 'he', 'he']\n"
     ]
    }
   ],
   "source": [
    "genesis = \"\"\"\n",
    "In the beginning God created the heavens and the earth. \n",
    "Now the earth was formless and empty, darkness was over the surface of the deep, \n",
    "and the Spirit of God was hovering over the waters.\n",
    "\n",
    "And God said, \"Let there be light\", and there was light. \n",
    "God saw that the light was good, and he separated the light from the darkness. \n",
    "God called the light \"day\", and the darkness he called \"night\". \n",
    "And there was evening, and there was morning - the first day.\n",
    "\"\"\"\n",
    "match = re.findall(r'h[aeiou]+', genesis)\n",
    "\n",
    "print(match)\n",
    "\n"
   ]
  },
  {
   "attachments": {},
   "cell_type": "markdown",
   "metadata": {},
   "source": [
    "### Escrita de expressões regulares em Python\n",
    "\n",
    "As expressões regulares usam uma sintaxe especial para escrever os padrões. Como usam muitas vezes o `\\`, que também é usado nas strings para representar carateres especiais, como o newline `\\n`, as expressões regulares não devem ser tratadas como uma string normal. Por isso, usa-se o prefiro `r` (de raw) antes de se escrever uma expressão regular."
   ]
  },
  {
   "cell_type": "code",
   "execution_count": 34,
   "metadata": {},
   "outputs": [
    {
     "name": "stdout",
     "output_type": "stream",
     "text": [
      "O céu\n",
      "está azul\n",
      "O céu\\nestá azul\n",
      "O céu\\nestá azul\n"
     ]
    }
   ],
   "source": [
    "# exemplo de um string normal\n",
    "print(\"O céu\\nestá azul\")\n",
    "# forçar a escrita de um \\\n",
    "print(\"O céu\\\\nestá azul\")\n",
    "# usar o prefixo r, para raw\n",
    "print(r\"O céu\\nestá azul\")"
   ]
  },
  {
   "cell_type": "markdown",
   "metadata": {},
   "source": [
    "Para se manter as expressões regulares legíveis, vamos escrevê-las sempre com o prefixo `r` de raw. Contudo, lembre-se que as seguintes expressões, por exemplo, são idênticas:\n",
    "```\n",
    "match = re.search(r'\\d+', frase)\n",
    "match = re.search('\\\\d+', frase)\n",
    "```\n"
   ]
  },
  {
   "cell_type": "code",
   "execution_count": 4,
   "metadata": {},
   "outputs": [
    {
     "data": {
      "text/plain": [
       "<re.Match object; span=(11, 13), match='18'>"
      ]
     },
     "execution_count": 4,
     "metadata": {},
     "output_type": "execute_result"
    }
   ],
   "source": [
    "import re\n",
    "frase = \"O João tem 18 anos e nasceu em 2004, 2 anos antes da Inês que agora tem 16\"\n",
    "match = re.search(r'\\d+', frase)\n",
    "# match = re.search('\\\\d+', frase)\n",
    "match"
   ]
  },
  {
   "cell_type": "markdown",
   "metadata": {},
   "source": [
    "As duas funções mais simples são `search()` e `match()`.\n",
    "\n",
    "A função `search()` procura o padrão em qualquer posição.\n",
    "\n",
    "A função `match()` procura o padrão no início da frase.\n",
    "\n",
    "Ambas retornam `None` se o padrão não for encontrado."
   ]
  },
  {
   "cell_type": "code",
   "execution_count": 40,
   "metadata": {},
   "outputs": [
    {
     "name": "stdout",
     "output_type": "stream",
     "text": [
      "<re.Match object; span=(11, 13), match='18'>\n"
     ]
    }
   ],
   "source": [
    "import re\n",
    "frase = \"O João tem 18 anos e nasceu em 2004, 2 anos antes da Inês que agora tem 16\"\n",
    "# match = re.search(r'(a|e|i|o|u)+', frase)\n",
    "match = re.search(r'[0123456789]+', frase)\n",
    "# if match:\n",
    "#     inicio, fim = match.span()\n",
    "#     print(frase[inicio:fim])\n",
    "print(match)\n"
   ]
  },
  {
   "cell_type": "code",
   "execution_count": 41,
   "metadata": {},
   "outputs": [
    {
     "name": "stdout",
     "output_type": "stream",
     "text": [
      "<re.Match object; span=(0, 4), match='1975'>\n",
      "1975\n",
      "None\n"
     ]
    }
   ],
   "source": [
    "import re \n",
    "\n",
    "pal1 = \"1975, ano de boa produção\"\n",
    "pal2 = \"Viva o 1 de dezembro\"\n",
    "match1 = re.match(r'\\d+', pal1)\n",
    "print(match1)\n",
    "print(match1[0])\n",
    "match2 = re.match(r'\\d+', pal2)\n",
    "print(match2)"
   ]
  },
  {
   "cell_type": "markdown",
   "metadata": {},
   "source": [
    "Quando se quer encontrar mais do que uma ocorrência, usa-se a função `findall()`."
   ]
  },
  {
   "cell_type": "code",
   "execution_count": 33,
   "metadata": {},
   "outputs": [
    {
     "name": "stdout",
     "output_type": "stream",
     "text": [
      "['O', 'João', 'tem', '18', 'anos', 'e', 'nasceu', 'em', '2004', '2', 'anos', 'antes', 'da', 'Inês', 'que', 'agora', 'tem', '16']\n"
     ]
    }
   ],
   "source": [
    "# match = re.findall(r'\\d+', frase)\n",
    "match = re.findall(r'\\w+', frase)\n",
    "\n",
    "print(match)"
   ]
  },
  {
   "cell_type": "code",
   "execution_count": 7,
   "metadata": {},
   "outputs": [
    {
     "data": {
      "text/plain": [
       "['O',\n",
       " 'João',\n",
       " 'tem',\n",
       " '18',\n",
       " 'anos',\n",
       " 'e',\n",
       " 'nasceu',\n",
       " 'em',\n",
       " '2004',\n",
       " '2',\n",
       " 'anos',\n",
       " 'antes',\n",
       " 'da',\n",
       " 'Inês',\n",
       " 'que',\n",
       " 'agora',\n",
       " 'tem',\n",
       " '16']"
      ]
     },
     "execution_count": 7,
     "metadata": {},
     "output_type": "execute_result"
    }
   ],
   "source": [
    "re.findall(r'\\w+', frase)"
   ]
  },
  {
   "cell_type": "markdown",
   "metadata": {},
   "source": [
    "Se for importante saber a posição onde ocorre cada instância do padrão, pode-se usar a função `finditer()`"
   ]
  },
  {
   "cell_type": "code",
   "execution_count": 34,
   "metadata": {},
   "outputs": [
    {
     "name": "stdout",
     "output_type": "stream",
     "text": [
      "11-13: 18\n",
      "31-35: 2004\n",
      "37-38: 2\n",
      "72-74: 16\n"
     ]
    }
   ],
   "source": [
    "for m in re.finditer(r'\\d+', frase):\n",
    "    print('{}-{}: {}'.format(m.start(), m.end(), m.group(0)))\n"
   ]
  },
  {
   "cell_type": "markdown",
   "metadata": {},
   "source": [
    "Com a função `sub()` pode-se substituir cada match com o valor retornado pela função aplicada ao match."
   ]
  },
  {
   "cell_type": "code",
   "execution_count": 42,
   "metadata": {},
   "outputs": [
    {
     "data": {
      "text/plain": [
       "'O João tem 0x12 anos e nasceu em 0x7d4, 0x2 anos antes da Inês que agora tem 0x10'"
      ]
     },
     "execution_count": 42,
     "metadata": {},
     "output_type": "execute_result"
    }
   ],
   "source": [
    "frase = \"O João tem 18 anos e nasceu em 2004, 2 anos antes da Inês que agora tem 16\"\n",
    "\n",
    "def tohex(match):\n",
    "    return(hex(int(match[0])))\n",
    "\n",
    "re.sub(r\"\\d+\", tohex, frase)"
   ]
  },
  {
   "cell_type": "markdown",
   "metadata": {},
   "source": [
    "A função `re.split()` é muito útil. É muito mais flexível que o método `split()` das strings."
   ]
  },
  {
   "cell_type": "code",
   "execution_count": 62,
   "metadata": {},
   "outputs": [
    {
     "data": {
      "text/plain": [
       "['Pires,', 'João', 'Paulo', '', '', '', 'Alves', 'Cabrita']"
      ]
     },
     "execution_count": 62,
     "metadata": {},
     "output_type": "execute_result"
    }
   ],
   "source": [
    "\"Pires, João Paulo    Alves Cabrita\".split(' ')"
   ]
  },
  {
   "cell_type": "code",
   "execution_count": 61,
   "metadata": {},
   "outputs": [
    {
     "data": {
      "text/plain": [
       "['Pires', 'João', 'Paulo', 'Alves', 'Cabrita', 'Corte-Real']"
      ]
     },
     "execution_count": 61,
     "metadata": {},
     "output_type": "execute_result"
    }
   ],
   "source": [
    "# e = re.compile(r'[^0-9a-zA-Z]+')\n",
    "e = re.compile(r'[^\\w-]+')\n",
    "e.split(\"Pires,,,,João Paulo           Alves;Cabrita, Corte-Real\") "
   ]
  },
  {
   "cell_type": "markdown",
   "metadata": {},
   "source": [
    "# Compilar expressões regulares\n",
    "\n",
    "Em Python, quando se reutilizam expressões regulares, pode-se compilar a mesma, para agilizar o processo de interpretação da expressão regular. A não ser em programas que processem grandes volumes de dados, a diferença de performance é mínima na execução de expressões compiladas ou não.\n",
    "\n",
    "É exatamente a mesma coisa:\n",
    "\n",
    "```\n",
    "match = re.search(r'\\d+', frase)\n",
    "```\n",
    "\n",
    "ou\n",
    "\n",
    "```\n",
    "p = re.compile(r'\\d+')\n",
    "p.search(frase)\n",
    "```\n",
    "No segundo caso, usa-se uma expressão regular compilada."
   ]
  },
  {
   "cell_type": "markdown",
   "metadata": {},
   "source": [
    "**Exercício**\n",
    "\n",
    "Escreva uma função Python que converte uma data, isto é, dada uma data numa string, transforma-a num valor do tipo data (e eventualmente diz se a data é válida ou não).\n",
    "\n",
    "Ou seja, se o formato pedido for \"dd/mm/aaaa\" e a data for '25/07/1969' retorna esse valor (do tipo data)."
   ]
  },
  {
   "cell_type": "code",
   "execution_count": 4,
   "metadata": {},
   "outputs": [
    {
     "name": "stdout",
     "output_type": "stream",
     "text": [
      "1969-07-25 00:00:00\n"
     ]
    }
   ],
   "source": [
    "# sem ter trabalho nenhum, mas para se perceber o uso do try .. except\n",
    "from datetime import datetime\n",
    "\n",
    "date_string = '25/07/1969'\n",
    "\n",
    "try:\n",
    "    datetime = datetime.strptime(date_string, '%d/%m/%Y')\n",
    "except:\n",
    "    print(\"A data não é válida\")\n",
    "else:\n",
    "    print(datetime)\n"
   ]
  },
  {
   "cell_type": "code",
   "execution_count": 51,
   "metadata": {},
   "outputs": [
    {
     "name": "stdout",
     "output_type": "stream",
     "text": [
      "25 07 1969\n"
     ]
    }
   ],
   "source": [
    "import re\n",
    "linha = \"25-07-1969\"\n",
    "# linha = \"25/07/1969\"\n",
    "resultado = re.match(r'(\\d+)[/-](\\d+)[/-](\\d+)', linha)\n",
    "dia, mes, ano = resultado.groups()\n",
    "print(dia, mes, ano)"
   ]
  },
  {
   "cell_type": "code",
   "execution_count": 4,
   "metadata": {},
   "outputs": [
    {
     "name": "stdout",
     "output_type": "stream",
     "text": [
      "<re.Match object; span=(0, 16), match='  25 12 1969    '>\n",
      "1969-12-25\n"
     ]
    }
   ],
   "source": [
    "# versão com expressões regulares\n",
    "import re\n",
    "import datetime\n",
    "\n",
    "# linha = \"25/07/1969\"\n",
    "# linha = \"  25 12 1969    \"\n",
    "resultado = re.match( r'(\\d+/+(\\d+)/(\\d+)', linha)\n",
    "resultado = re.match( r' *(\\d{1,2})[/\\-:_ ](\\d{1,2})[/\\-:_ ](\\d{4}) *', linha)\n",
    "print( resultado )\n",
    "if resultado and len(resultado.groups()) == 3:\n",
    "    tudo = resultado.group(0)\n",
    "    ano = resultado.group(3)\n",
    "    mes = resultado.group(2)\n",
    "    dia = resultado.group(1)\n",
    "    try:\n",
    "        sdate = datetime.date( int(ano), int(mes), int(dia) )\n",
    "    except ValueError:\n",
    "        print(\"A data não é válida\")\n",
    "    else:\n",
    "        print(sdate)\n",
    "# print(int(ano), int(mes), int(dia))"
   ]
  },
  {
   "cell_type": "code",
   "execution_count": 22,
   "metadata": {},
   "outputs": [
    {
     "data": {
      "text/plain": [
       "<re.Match object; span=(0, 3), match='768'>"
      ]
     },
     "execution_count": 22,
     "metadata": {},
     "output_type": "execute_result"
    }
   ],
   "source": [
    "# entrada = \"768.60\"\n",
    "entrada = \"768\"\n",
    "\n",
    "re.match(r\"\\d+(\\.\\d+)?\", entrada)"
   ]
  },
  {
   "attachments": {},
   "cell_type": "markdown",
   "metadata": {},
   "source": [
    "### Ficheiros\n",
    "\n",
    "No exercício seguinte trabalha-se com dados em ficheiros. É um exercício simples, para demonstrar quão simples é trabalhar com ficheiros em Python."
   ]
  },
  {
   "attachments": {},
   "cell_type": "markdown",
   "metadata": {},
   "source": [
    "#### Exercício\n",
    "\n",
    "Leia o ficheiro `dados/pilotos.txt` e mostre o nome dos pilotos italianos. Melhore o código seguinte, pois está a apresentar todos os pilotos."
   ]
  },
  {
   "cell_type": "code",
   "execution_count": 52,
   "metadata": {},
   "outputs": [
    {
     "name": "stdout",
     "output_type": "stream",
     "text": [
      "1,Italy,Francesco Bagnaia\n",
      "\n",
      "2,France,Fabio Quartararo\n",
      "\n",
      "3,Spain,Aleix Espargaro\n",
      "\n",
      "4,Italy,Enea Bastianini\n",
      "\n",
      "5,Australia,Jack Miller\n",
      "\n",
      "6,South Africa,Brad Binder\n",
      "\n",
      "7,France,Johann Zarco\n",
      "\n",
      "8,Spain,Alex Rins\n",
      "\n",
      "9,Portugal,Miguel Oliveira\n",
      "\n",
      "10,Spain,Jorge Martin\n",
      "\n",
      "11,Spain,Maverick Viñales\n",
      "\n",
      "12,Spain,Marc Marquez\n",
      "\n",
      "13,Italy,Luca Marini\n",
      "\n",
      "14,Italy,Marco Bezzecchi\n",
      "\n",
      "15,Spain,Joan Mir\n",
      "\n",
      "16,Spain,Pol Espargaro\n",
      "\n",
      "17,Spain,Alex Marquez\n",
      "\n",
      "18,Japan,Takaaki Nakagami\n",
      "\n",
      "19,Italy,Franco Morbidelli\n",
      "\n",
      "20,Italy,Fabio Di Giannantonio\n",
      "\n",
      "21,Italy,Andrea Dovizioso\n",
      "\n",
      "22,South Africa,Darryn Binder\n",
      "\n",
      "23,Australia,Remy Gardner\n",
      "\n",
      "24,United Kingdom,Cal Crutchlow\n",
      "\n",
      "25,Spain,Raul Fernandez\n",
      "\n",
      "26,Germany,Stefan Bradl\n",
      "\n",
      "27,Italy,Michele Pirro\n",
      "\n",
      "28,Italy,Lorenzo Savadori\n",
      "\n",
      "29,Japan,Tetsuta Nagashima\n",
      "\n",
      "30,Italy,Danilo Petrucci\n",
      "\n",
      "31,Japan,Kazuki Watanabe\n",
      "\n",
      "32,Japan,Takuya Tsuda\n"
     ]
    }
   ],
   "source": [
    "fonte = open(\"dados/pilotos.txt\",'r')\n",
    "for linha in fonte:\n",
    "    print(linha)\n",
    "fonte.close()"
   ]
  },
  {
   "cell_type": "code",
   "execution_count": 53,
   "metadata": {},
   "outputs": [
    {
     "name": "stdout",
     "output_type": "stream",
     "text": [
      "['Andrea Dovizioso', 'Danilo Petrucci', 'Enea Bastianini', 'Fabio Di Giannantonio', 'Francesco Bagnaia', 'Franco Morbidelli', 'Lorenzo Savadori', 'Luca Marini', 'Marco Bezzecchi', 'Michele Pirro']\n"
     ]
    }
   ],
   "source": [
    "fonte = open(\"dados/pilotos.txt\",'r')\n",
    "italianos = []\n",
    "for linha in fonte:\n",
    "    numero, pais, piloto = linha.strip().split(',')\n",
    "    if pais == 'Italy':\n",
    "        italianos.append(piloto)\n",
    "fonte.close()\n",
    "print(sorted(italianos))"
   ]
  },
  {
   "attachments": {},
   "cell_type": "markdown",
   "metadata": {},
   "source": [
    "Na resolução do exercício anterior não foi preciso usar expressões regulares. Quando a entrada é muito padronizada, as funções normais de strings podem ser suficientes.\n",
    "\n",
    "Repare que as linhas têm todas as mesma estrutura e que os nomes dos países estão escritos sempre da mesma maneira.\n",
    "\n",
    "Como o mais comum é haver discrepâncias nos dados, é muito útil usar expressões regulares."
   ]
  },
  {
   "cell_type": "markdown",
   "metadata": {},
   "source": [
    "### Tabelas wiki para markdown\n",
    "\n",
    "Os formatos Wiki e markdown são muito usados para escrever conteúdos web. Ambos suportam a escrita de tabelas. A vantagem destes formatos é poderem ser escritos num editor de texto muito simples.\n",
    "\n",
    "Use, por facilidade, um [gerador de tabelas](https://www.tablesgenerator.com/mediawiki_tables) nesses formatos para ver as diferenças.\n",
    "\n",
    "Exemplo de uma tabela no formato wiki:\n",
    "```\n",
    "{| class=\"wikitable\" \n",
    "|-\n",
    "! Fruta\n",
    "! Cor\n",
    "|-\n",
    "| Banana\n",
    "| Amarelo\n",
    "|-\n",
    "| Ananás\n",
    "| Amarelo\n",
    "|}\n",
    "```\n",
    "\n",
    "A mesma tabela no formato markdown:\n",
    "```\n",
    "| Fruta  | Cor     |\n",
    "|--------|---------|\n",
    "| Banana | Amarelo |\n",
    "| Ananás | Amarelo |\n",
    "```\n",
    "A tabela renderizada nesta célula:\n",
    "\n",
    "| Fruta  | Cor     |\n",
    "|--------|---------|\n",
    "| Banana | Amarelo |\n",
    "| Ananás | Amarelo |\n",
    "\n",
    "Escreva uma função Python `wiki2markdown` que transforme uma tabela wiki numa tabela markdown.\n",
    "\n",
    "Exemplo de utilização:\n",
    "\n",
    "```\n",
    "entrada = \"\"\"\n",
    "{| class=\"wikitable\" \n",
    "|-\n",
    "! Fruta\n",
    "! Cor\n",
    "|-\n",
    "| Banana\n",
    "| Amarelo\n",
    "|-\n",
    "| Ananás\n",
    "| Amarelo\n",
    "|}\n",
    "\"\"\"\n",
    "\n",
    "print( wiki2markdown( entrada ) ) \n",
    "```\n",
    "\n"
   ]
  },
  {
   "cell_type": "code",
   "execution_count": 32,
   "metadata": {},
   "outputs": [
    {
     "name": "stdout",
     "output_type": "stream",
     "text": [
      "|-\n",
      "! Fruta\n",
      "! Cor\n",
      "|-\n",
      "|-\n",
      "\n",
      "{| class=\"wikitable\" \n",
      "|-\n",
      "! Fruta\n",
      "! Cor\n",
      "|-\n",
      "| Banana\n",
      "| Amarelo\n",
      "|-\n",
      "| Ananás\n",
      "| Amarelo\n",
      "|}\n",
      "\n"
     ]
    }
   ],
   "source": [
    "import re\n",
    "\n",
    "entrada = \"\"\"\n",
    "{| class=\"wikitable\" \n",
    "|-\n",
    "! Fruta\n",
    "! Cor\n",
    "|-\n",
    "| Banana\n",
    "| Amarelo\n",
    "|-\n",
    "| Ananás\n",
    "| Amarelo\n",
    "|}\n",
    "\"\"\"\n",
    "def wiki2markdown( tabela ):\n",
    "    cabeca = []\n",
    "    for linha in tabela.split('\\n'):\n",
    "        if re.search(r'^!', linha):\n",
    "            print(linha)\n",
    "            cabeca.append(linha)\n",
    "        if re.search(r'^\\|-', linha):\n",
    "            print(linha)\n",
    "    return tabela\n",
    "\n",
    "print( wiki2markdown( entrada ) ) "
   ]
  },
  {
   "attachments": {},
   "cell_type": "markdown",
   "metadata": {},
   "source": [
    "### Exercício\n",
    "\n",
    "Leia o arquivo `dados/dissertation.bib` que está no formato BibTeX e produza uma lista com todos os autores, sem repetições."
   ]
  },
  {
   "cell_type": "code",
   "execution_count": 18,
   "metadata": {},
   "outputs": [
    {
     "name": "stdout",
     "output_type": "stream",
     "text": [
      "\tAuthor = {Barros, Jacson Venâncio},\n",
      "\n",
      "\tAuthor = {Benson, Tim},\n",
      "\n",
      "\tAuthor = {Mustra, Mario and Delac, Kresimir and Grgic, Mislav},\n",
      "\n",
      "\tAuthor = {Wache, Holger and Vögele, Thomas and Visser, Ubbo and Stuckenschmidt, Heiner},\n",
      "\n",
      "\tAuthor = {Eanes, M. R.},\n",
      "\n",
      "\tAuthor = {Guarino, Nicola and Giaretta, Pierdaniele},\n",
      "\n",
      "\tAuthor = {Cardillo, Elena},\n",
      "\n",
      "\tAuthor = {Duarte, Júlio},\n",
      "\n",
      "\tAuthor = {Pereira, R. and Salazar, M. and Abelha, A. and Machado, J.},\n",
      "\n",
      "\tAuthor = {Sergey, A. B. and Alexandr, D.B. and Sergey, A.T.},\n",
      "\n",
      "\tAuthor = {Schmidt, B.},\n",
      "\n",
      "  author    = {Ygal Bendavid and Samuel Fosso Wamba and Louis A. Lefebvre},\n",
      "\n",
      " author = {Suehring, S},\n",
      "\n",
      "\tAuthor = {Buntin, M. B. and Burke, M. F. and Hoaglin, M. C. and Blumenthal, D.},\n",
      "\n",
      "\tAuthor = {INE},\n",
      "\n",
      "\tAuthor = {ANACOM},\n",
      "\n",
      "\tAuthor = {Lenz, R. and Reichert, M.},\n",
      "\n",
      "\tAuthor = {Lee, J. and McCullough, J. S. and Town, R.},\n",
      "\n",
      "\tAuthor = {Murdoch, T. B. and Detsky, A. S.},\n",
      "\n",
      "\tAuthor = {Kuo, A. M. H.},\n",
      "\n",
      "\tAuthor = {Yang, J. J. and Li, J. and Mulder, J. and Wang, Y. and Chen, S. and Wu, H. and Wang Q. and Pan, H.},\n",
      "\n",
      "\tAuthor = {Zheng, Y.-L. and Ding, X.-R. and Poon, C. C. Y. and Lo, B. P. L. and Zhang, H. and Zhou, X.-L. and Yang, G.-Z. and Zhao, N. and Zhang, Y.-T.},\n",
      "\n",
      "\tAuthor = {AbuKhousa, E. and Mohamed, N. and Al-Jaroodi, J.},\n",
      "\n",
      "\tAuthor = {Yin, Robert K.},\n",
      "\n",
      "\tAuthor = {Lee, Allen S.},\n",
      "\n",
      "\tAuthor = {Benbasat, I. and Goldstein, D. and Mead, M.},\n",
      "\n",
      "\tAuthor = {Pozzebon, M. and Freitas, H.},\n",
      "\n",
      "\tAuthor = {Bento, A.},\n",
      "\n",
      "\tAuthor = {Cardoso, T. and Alarcão, I. and Celorico, J.},\n",
      "\n",
      "\tAuthor = {Meirinhos, M. and Osório, A.},\n",
      "\n",
      "\tAuthor = {Portela, F. and Gago, P. and Santos, M. F. and Silva, A. and Rua, F. and Machado, J., and Abelha, A. and Neves, J.},\n",
      "\n",
      "\tAuthor = {Barros, P. P.},\n",
      "\n",
      "\tAuthor = {Siciliani, L. and Hurst, J.},\n",
      "\n",
      "\tAuthor = {Fernandes, A. and Perelman, J. and Mateus, C.},\n",
      "\n",
      "\tAuthor = {Stenberg, D.},\n",
      "\n",
      "\tAuthor = {Crockford, D.},\n",
      "\n",
      "\tAuthor = {Syed, B.},\n",
      "\n",
      "\tAuthor = {OPSS},\n",
      "\n",
      "\tAuthor = {Oliveira, O.},\n",
      "\n",
      "\tAuthor = {Martins, M.},\n",
      "\n",
      "\tAuthor = {Ferreira, J. and Miranda, M. and Abelha, A. and Machado, J.},\n",
      "\n",
      "\tAuthor = {El-Sappagh, S. and AhmedHendawi, A. and El-Bastawissy, A.},\n",
      "\n",
      "\tAuthor = {Majchrzak, T. and Jansen, T. and Kuchen, H.},\n",
      "\n",
      "\tAuthor = {Caldeira, C.P.},\n",
      "\n",
      "\tAuthor = {Khan, A. and Ehsan, N. and Mirza, E. and Sarwar, S.},\n",
      "\n",
      "\tAuthor = {Reed, S. and Na, D. and Mayo, T. and Shapiro, L. and Duty, B. and Conklin, J. and Brown, D.},\n",
      "\n",
      "\tAuthor = {Kimball, R.and Ross, M.},\n",
      "\n",
      "\tAuthor = {Romero, O. and Abelló, A.},\n",
      "\n",
      "\tAuthor = {Chaplot, V.},\n",
      "\n",
      "\tAuthor = {Sezões, C. and Oliveira, J and Baptista, M},\n",
      "\n",
      "\tAuthor = {De Mul, M. and Alons, P. and Velde, P. and Konings, I. and Bakker, J. and Hazelzet, J.},\n",
      "\n",
      "\tAuthor = {Thalhammer, T. and Schrefl, M. and Mohania, M },\n",
      "\n",
      "\tAuthor = {Barrento, M. and Neto, M. and Maria, M. and Dias, S.},\n",
      "\n",
      "\tAuthor = {Lopes, I. M. and Oliveira, P.},\n",
      "\n",
      "\tAuthor = {Bardhan, I. R. and Thouin, M. F.},\n",
      "\n",
      "\tAuthor = {Ketikidis, P. and Dimitrovski, T. and Lazuras, L. and Bath, P.},\n",
      "\n",
      "\tAuthor = {ISO},\n",
      "\n",
      "\tAuthor = {Currie, W. L. and Seddon, J. JM.},\n",
      "\n",
      "\tAuthor = {Laudon, K. C. and Laudon, J. P. and Brabston, M. E. and Chaney, M. and Hawkins, L. and Gaskin, S.},\n",
      "\n",
      "\tAuthor = {Duarte, J. and Castro, S. and Santos, M. and Abelha, A. and Machado, J.},\n",
      "\n",
      "\tAuthor = {Costa, R. and Novais, P. and Machado, J. and Alberto, C. and Neves, J.},\n",
      "\n",
      "\tAuthor = {Lippeveld, T. and Sauerborn, R. and Bodart, C.},\n",
      "\n",
      "\tAuthor = {Ammenwerth, E. and Buchauer, A. and Haux, R.},\n",
      "\n",
      "\tAuthor = {Hubner-Bloder, G. and Ammenwerth, E. and Brigl, B. and Winter, A.},\n",
      "\n",
      "\tAuthor = {Rezaei, R. and Chiew, T. and Lee, S. P. and Aliee, Z. S.},\n",
      "\n",
      "\tAuthor = {Cardoso, L. and Marins, F. and Portela, F. and Santos, M. and Abelha, A. and Machado, J.},\n",
      "\n",
      "\tAuthor = {Haux, R.},\n",
      "\n",
      "\tAuthor = {Reis, L.P.},\n",
      "\n",
      "\tAuthor = {Cardoso, L. and Marins, F. and Portela, F. and Abelha, A. and Machado, J.},\n",
      "\n",
      "\tAuthor = {Duarte, J. and Salazar, M. and Quintas, C. and Santos, M. and Neves, J. and Abelha, A. and Machado, J.},\n",
      "\n",
      "\tAuthor = {Zheng, K.},\n",
      "\n",
      "\tAuthor = {Musen, M. and Middleton, B. and Greenes, R.},\n",
      "\n",
      "\tAuthor = {Berner, E.S.},\n",
      "\n",
      "\tAuthor = {Berner, E.S.},\n",
      "\n",
      "\tAuthor = {Butler, C.E. and Noel, S. and Hibbs, S. and Miles, D. and Staves, J. and Mohaghegh, P. and Altmann, P. and Curnow, E. and Murphy, M.},\n",
      "\n",
      "\tAuthor = {Loya, S. R. and Kawamoto, K. and Chatwin, C. and Huser, V.},\n",
      "\n",
      "    Author = {March, S. T. and Storey, V. C.},\n",
      "\n",
      "\tAuthor = {Peffers, K. and Tunnanen, T. and Rothenberger, M. A. and Chatterjee, S.},\n",
      "\n",
      "\tAuthor = {Gregor, S. and Hevner, A. R.},\n",
      "\n",
      " author = {Vaishnavi, V. and Kuechler, W.},\n",
      "\n",
      "\tAuthor = {Vaishnavi, V. and Kuechler, B. and Petter, S.},\n",
      "\n",
      "\tAuthor = {Bilandzic, M. and Venable, J.},\n",
      "\n",
      "\tAuthor = {Hevner, A. and Chatterjee, S.},\n",
      "\n",
      "\tAuthor = {Hevner, A. and Chatterjee, S.},\n",
      "\n",
      "\tAuthor = {Date, C. J.},\n",
      "\n",
      "\tAuthor = {Vallerand, R. J.},\n",
      "\n",
      "\tAuthor = {Elmasri, R. and Navathe, S. B.},\n",
      "\n",
      "\tAuthor = {Lawrence, R.},\n",
      "\n",
      "\tAuthor = {Özsu, M. T. and Valduriez, P.},\n",
      "\n",
      "\tAuthor = {Curino, C. and Jones, E. and Popa, R. A. and Malviya, N. and Wu, E. and Madden, S. and Balakrishnan, H. and Zeldovich, N.},\n",
      "\n",
      "\tAuthor = {McCreary, D. and Kelly, A.},\n",
      "\n",
      "\tAuthor = {West, A. W.},\n",
      "\n",
      "\tAuthor = {Davis, M. E. and Phillips, J. A.},\n",
      "\n",
      "\tAuthor = {Meloni, J. C.},\n",
      "\n",
      "\tAuthor = {Greenwald, R. and Stacjowiak, R. and Stern, J.},\n",
      "\n",
      "\tAuthor = {Fernandez, I.},\n",
      "\n",
      "\tAuthor = {Ramakrishnan, R. and Gehrke, J.},\n",
      "\n",
      "\tAuthor = {Boicea, A. and Radulescu, F. and Agapin, L.I.},\n",
      "\n",
      " author = {Feuerstein, S. and Pribyl, B. and Dawes, C.},\n",
      "\n",
      " author = {Lange, D. B. and Mitsuru, O.},\n",
      "\n",
      "\tAuthor = {Schildt, H.},\n",
      "\n",
      "\tAuthor = {Del La Torre, A. E. and Cheon, Y.},\n",
      "\n",
      "\tAuthor = {Dyson, R. G.},\n",
      "\n",
      "\tAuthor = {Sarhan, L. I. and Atroshi, A. M. and Ahmed, N. S.},\n",
      "\n",
      "\tAuthor = {Davis, F. D. and Bagozzi, R. P. and Warshaw, P. R.},\n",
      "\n",
      "\tAuthor = {Venkatesh, V. and Bala, H.},\n",
      "\n",
      "\tAuthor = {Venkatesh, V. and Davis, F.},\n",
      "\n",
      "\tAuthor = {Sahani, A.},\n",
      "\n",
      "\tAuthor = {Chen, I. J. and Popovich, K.},\n",
      "\n",
      "\tAuthor = {Termer, F. and Nissen, V. and Heyn, C.},\n",
      "\n",
      "\tAuthor = {Miranda, M. and Duarte, J. and Abelha, A. and Machado, J. and Neves, J.},\n",
      "\n",
      "\tAuthor = {Cardoso, L. and Martins, F. and Portela, F. and Santos, M. and Abelha, A. and Machado, J.},\n",
      "\n",
      "\tAuthor = {Blumenthal, D. and Glaser, J.},\n",
      "\n",
      "\tAuthor = {Zhang, J. and Walji, M.},\n",
      "\n",
      "\tAuthor = {Wieder, B. and Ossimitz, M.},\n",
      "\n",
      "\tAuthor = {Mendes, R. and Rodrigues, P.},\n",
      "\n",
      "\tAuthor = {Luís, T.},\n",
      "\n",
      "\tAuthor = {Fayyad, U. and Piatetsky-Shapiro, G. and Smyth, P. and Uturusamy, R.},\n",
      "\n",
      "\tAuthor = {Infarmed},\n",
      "\n",
      "    Author = {Stewart, M.},\n",
      "\n",
      "\tAuthor = {Ferreira, Mariana and Felix, Nuno},\n",
      "\n",
      "\tAuthor = {Eichelberg, Marco and Aden, Thomas and Riesmeier, Jorg},\n",
      "\n",
      "\tAuthor = {TopQuadrant},\n",
      "\n",
      "\tAuthor = {Hohndorf, Robert},\n",
      "\n",
      "\tAuthor = {Ryan, Amanda and Eklund, Peter},\n",
      "\n",
      "\tAuthor = {Barros, Jacson Venâncio},\n",
      "\n",
      "\tAuthor = {HIMSS},\n",
      "\n",
      "\tAuthor = {Benson, Tim},\n",
      "\n",
      "\tAuthor = {Gibbons, P. et al. },\n",
      "\n",
      "\tAuthor = {AHA},\n",
      "\n",
      "    Author = {Legris, P. and Inham, J. and Collerette, P.},\n",
      "\n",
      "\tAuthor = {SPMS},\n",
      "\n",
      "\tAuthor = {Moura, C. and Silva, M. and Freitas, N.},\n",
      "\n"
     ]
    }
   ],
   "source": [
    "import re\n",
    "fonte = open(\"dados/dissertation.bib\",'r')\n",
    "for linha in fonte:\n",
    "    if re.search(r'author', linha, re.IGNORECASE):\n",
    "        print(linha)\n",
    "fonte.close()\n"
   ]
  }
 ],
 "metadata": {
  "kernelspec": {
   "display_name": "Python 3.10.6 64-bit",
   "language": "python",
   "name": "python3"
  },
  "language_info": {
   "codemirror_mode": {
    "name": "ipython",
    "version": 3
   },
   "file_extension": ".py",
   "mimetype": "text/x-python",
   "name": "python",
   "nbconvert_exporter": "python",
   "pygments_lexer": "ipython3",
   "version": "3.10.6"
  },
  "vscode": {
   "interpreter": {
    "hash": "916dbcbb3f70747c44a77c7bcd40155683ae19c65e1c03b4aa3499c5328201f1"
   }
  }
 },
 "nbformat": 4,
 "nbformat_minor": 2
}
