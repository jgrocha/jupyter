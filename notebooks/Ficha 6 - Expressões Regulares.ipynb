{
 "cells": [
  {
   "cell_type": "markdown",
   "metadata": {},
   "source": [
    "# Expressões regulares\n",
    "\n",
    "As expressões regulares são usadas nas linguagens de programação e, em Linux, na generalidade das ferramentas que trabalham com ficheiros.\n",
    "\n",
    "Nesta ficha vamos aprender coisas básicas de expressões regulares."
   ]
  },
  {
   "cell_type": "markdown",
   "metadata": {},
   "source": [
    "### Escrita de expressões regulares\n",
    "\n",
    "As expressões regulares usam uma sintaxe especial para escrever os padrões. Como usam muitas vezes o `\\`, que também é usado nas strings para representar carateres especiais, como o newline `\\n`, as expressões regulares não devem ser tratadas como uma string normal. Por isso, usa-se o prefiro `r` (de raw) antes de se escrever uma expressão regular."
   ]
  },
  {
   "cell_type": "code",
   "execution_count": 34,
   "metadata": {},
   "outputs": [
    {
     "name": "stdout",
     "output_type": "stream",
     "text": [
      "O céu\n",
      "está azul\n",
      "O céu\\nestá azul\n",
      "O céu\\nestá azul\n"
     ]
    }
   ],
   "source": [
    "# exemplo de um string normal\n",
    "print(\"O céu\\nestá azul\")\n",
    "# forçar a escrita de um \\\n",
    "print(\"O céu\\\\nestá azul\")\n",
    "# usar o prefixo r, para raw\n",
    "print(r\"O céu\\nestá azul\")"
   ]
  },
  {
   "cell_type": "markdown",
   "metadata": {},
   "source": [
    "Para se manter as expressões regulares legíveis, vamos escrevê-las sempre com o prefixo `r` de raw. Contudo, lembre-se que as seguintes expressões, por exemplo, são idênticas:\n",
    "```\n",
    "match = re.search(r'\\d+', frase)\n",
    "match = re.search('\\\\d+', frase)\n",
    "```\n"
   ]
  },
  {
   "cell_type": "code",
   "execution_count": null,
   "metadata": {},
   "outputs": [],
   "source": []
  },
  {
   "cell_type": "code",
   "execution_count": 17,
   "metadata": {},
   "outputs": [],
   "source": [
    "import re\n",
    "frase = \"O João tem 18 anos e nasceu em 2004, 2 anos antes da Inês que agora tem 16\""
   ]
  },
  {
   "cell_type": "markdown",
   "metadata": {},
   "source": [
    "As duas funções mais simples são `search()` e `match()`.\n",
    "\n",
    "A função `search()` procura o padrão em qualquer posição.\n",
    "\n",
    "A função `match()` procura o padrão no início da frase.\n",
    "\n",
    "Ambas retornam `None` se o padrão não for encontrado."
   ]
  },
  {
   "cell_type": "code",
   "execution_count": 27,
   "metadata": {},
   "outputs": [
    {
     "name": "stdout",
     "output_type": "stream",
     "text": [
      "<re.Match object; span=(3, 4), match='o'>\n"
     ]
    }
   ],
   "source": [
    "# match = re.search(r'\\d', frase)\n",
    "match = re.search(r'(a|e|i|o|u)+', frase)\n",
    "match = re.search(r'[0123456789]', frase)\n",
    "# if match:\n",
    "#     inicio, fim = match.span()\n",
    "#     print(frase[inicio:fim])\n",
    "print(match)\n"
   ]
  },
  {
   "cell_type": "markdown",
   "metadata": {},
   "source": [
    "Compilar versus não compilar\n",
    "\n",
    "É exatamente a mesma coisa:\n",
    "\n",
    "```\n",
    "match = re.search(r'\\d+', frase)\n",
    "```\n",
    "\n",
    "ou\n",
    "\n",
    "```\n",
    "p = re.compile(r'\\d+')\n",
    "p.search(frase)\n",
    "```\n"
   ]
  },
  {
   "cell_type": "code",
   "execution_count": 19,
   "metadata": {},
   "outputs": [
    {
     "data": {
      "text/plain": [
       "<re.Match object; span=(11, 13), match='18'>"
      ]
     },
     "execution_count": 19,
     "metadata": {},
     "output_type": "execute_result"
    }
   ],
   "source": [
    "p = re.compile(r'[0-9]+')\n",
    "p.search(frase)"
   ]
  },
  {
   "cell_type": "code",
   "execution_count": 15,
   "metadata": {},
   "outputs": [
    {
     "name": "stdout",
     "output_type": "stream",
     "text": [
      "None\n"
     ]
    }
   ],
   "source": [
    "match = re.match(r'\\d+', frase)\n",
    "print(match)"
   ]
  },
  {
   "cell_type": "code",
   "execution_count": 2,
   "metadata": {},
   "outputs": [
    {
     "name": "stdout",
     "output_type": "stream",
     "text": [
      "<re.Match object; span=(0, 4), match='1975'>\n",
      "1975\n",
      "None\n"
     ]
    }
   ],
   "source": [
    "import re \n",
    "\n",
    "pal1 = \"1975, ano de boa produção\"\n",
    "pal2 = \"Viva o 1 de dezembro\"\n",
    "match1 = re.match(r'\\d+', pal1)\n",
    "print(match1)\n",
    "print(match1[0])\n",
    "match2 = re.match(r'\\d+', pal2)\n",
    "print(match2)"
   ]
  },
  {
   "cell_type": "markdown",
   "metadata": {},
   "source": [
    "Quando se quer encontrar mais do que uma ocorrência, usa-se a função `findall()`."
   ]
  },
  {
   "cell_type": "code",
   "execution_count": 33,
   "metadata": {},
   "outputs": [
    {
     "name": "stdout",
     "output_type": "stream",
     "text": [
      "['O', 'João', 'tem', '18', 'anos', 'e', 'nasceu', 'em', '2004', '2', 'anos', 'antes', 'da', 'Inês', 'que', 'agora', 'tem', '16']\n"
     ]
    }
   ],
   "source": [
    "# match = re.findall(r'\\d+', frase)\n",
    "match = re.findall(r'\\w+', frase)\n",
    "\n",
    "print(match)"
   ]
  },
  {
   "cell_type": "code",
   "execution_count": 7,
   "metadata": {},
   "outputs": [
    {
     "data": {
      "text/plain": [
       "['O',\n",
       " 'João',\n",
       " 'tem',\n",
       " '18',\n",
       " 'anos',\n",
       " 'e',\n",
       " 'nasceu',\n",
       " 'em',\n",
       " '2004',\n",
       " '2',\n",
       " 'anos',\n",
       " 'antes',\n",
       " 'da',\n",
       " 'Inês',\n",
       " 'que',\n",
       " 'agora',\n",
       " 'tem',\n",
       " '16']"
      ]
     },
     "execution_count": 7,
     "metadata": {},
     "output_type": "execute_result"
    }
   ],
   "source": [
    "re.findall(r'\\w+', frase)"
   ]
  },
  {
   "cell_type": "markdown",
   "metadata": {},
   "source": [
    "Se for importante saber a posição onde ocorre cada instância do padrão, pode-se usar a função `finditer()`"
   ]
  },
  {
   "cell_type": "code",
   "execution_count": 34,
   "metadata": {},
   "outputs": [
    {
     "name": "stdout",
     "output_type": "stream",
     "text": [
      "11-13: 18\n",
      "31-35: 2004\n",
      "37-38: 2\n",
      "72-74: 16\n"
     ]
    }
   ],
   "source": [
    "for m in re.finditer(r'\\d+', frase):\n",
    "    print('{}-{}: {}'.format(m.start(), m.end(), m.group(0)))\n"
   ]
  },
  {
   "cell_type": "markdown",
   "metadata": {},
   "source": [
    "Com a função `sub()` pode-se substituir cada match com o valor retornado pela função aplicada ao match."
   ]
  },
  {
   "cell_type": "code",
   "execution_count": 56,
   "metadata": {},
   "outputs": [
    {
     "data": {
      "text/plain": [
       "'O João tem 0x12 anos e nasceu em 0x7d4, 0x2 anos antes da Inês que agora tem 0x10'"
      ]
     },
     "execution_count": 56,
     "metadata": {},
     "output_type": "execute_result"
    }
   ],
   "source": [
    "def tohex(match):\n",
    "    return(hex(int(match[0])))\n",
    "\n",
    "re.sub(r\"\\d+\", tohex, frase)"
   ]
  },
  {
   "cell_type": "markdown",
   "metadata": {},
   "source": [
    "A função `re.split()` é muito útil. É muito mais flexível que o método `split()` das strings."
   ]
  },
  {
   "cell_type": "code",
   "execution_count": 62,
   "metadata": {},
   "outputs": [
    {
     "data": {
      "text/plain": [
       "['Pires,', 'João', 'Paulo', '', '', '', 'Alves', 'Cabrita']"
      ]
     },
     "execution_count": 62,
     "metadata": {},
     "output_type": "execute_result"
    }
   ],
   "source": [
    "\"Pires, João Paulo    Alves Cabrita\".split(' ')"
   ]
  },
  {
   "cell_type": "code",
   "execution_count": 61,
   "metadata": {},
   "outputs": [
    {
     "data": {
      "text/plain": [
       "['Pires', 'João', 'Paulo', 'Alves', 'Cabrita', 'Corte-Real']"
      ]
     },
     "execution_count": 61,
     "metadata": {},
     "output_type": "execute_result"
    }
   ],
   "source": [
    "# e = re.compile(r'[^0-9a-zA-Z]+')\n",
    "e = re.compile(r'[^\\w-]+')\n",
    "e.split(\"Pires,,,,João Paulo           Alves;Cabrita, Corte-Real\") "
   ]
  },
  {
   "cell_type": "markdown",
   "metadata": {},
   "source": [
    "**Exercício**\n",
    "\n",
    "Escreva uma função Python que converte uma data, isto é, dada uma data numa string, transforma-a num valor do tipo data (e eventualmente diz se a data é válida ou não).\n",
    "\n",
    "Ou seja, se o formato pedido for \"dd/mm/aaaa\" e a data for '25/07/1969' retorna esse valor (do tipo data)."
   ]
  },
  {
   "cell_type": "code",
   "execution_count": 4,
   "metadata": {},
   "outputs": [
    {
     "name": "stdout",
     "output_type": "stream",
     "text": [
      "1969-07-25 00:00:00\n"
     ]
    }
   ],
   "source": [
    "# sem ter trabalho nenhum, mas para se perceber o uso do try .. except\n",
    "from datetime import datetime\n",
    "\n",
    "date_string = '25/07/1969'\n",
    "\n",
    "try:\n",
    "    datetime = datetime.strptime(date_string, '%d/%m/%Y')\n",
    "except:\n",
    "    print(\"A data não é válida\")\n",
    "else:\n",
    "    print(datetime)\n"
   ]
  },
  {
   "cell_type": "code",
   "execution_count": 4,
   "metadata": {},
   "outputs": [
    {
     "name": "stdout",
     "output_type": "stream",
     "text": [
      "<re.Match object; span=(0, 16), match='  25 12 1969    '>\n",
      "1969-12-25\n"
     ]
    }
   ],
   "source": [
    "# versão com expressões regulares\n",
    "import re\n",
    "import datetime\n",
    "\n",
    "# linha = \"25/07/1969\"\n",
    "linha = \"  25 12 1969    \"\n",
    "resultado = re.match( r' *(\\d{1,2})[/\\-:_ ](\\d{1,2})[/\\-:_ ](\\d{4}) *', linha)\n",
    "print( resultado )\n",
    "if resultado and len(resultado.groups()) == 3:\n",
    "    tudo = resultado.group(0)\n",
    "    ano = resultado.group(3)\n",
    "    mes = resultado.group(2)\n",
    "    dia = resultado.group(1)\n",
    "    try:\n",
    "        sdate = datetime.date( int(ano), int(mes), int(dia) )\n",
    "    except ValueError:\n",
    "        print(\"A data não é válida\")\n",
    "    else:\n",
    "        print(sdate)\n",
    "# print(int(ano), int(mes), int(dia))"
   ]
  },
  {
   "cell_type": "code",
   "execution_count": 22,
   "metadata": {},
   "outputs": [
    {
     "data": {
      "text/plain": [
       "<re.Match object; span=(0, 3), match='768'>"
      ]
     },
     "execution_count": 22,
     "metadata": {},
     "output_type": "execute_result"
    }
   ],
   "source": [
    "# entrada = \"768.60\"\n",
    "entrada = \"768\"\n",
    "\n",
    "re.match(r\"\\d+(\\.\\d+)?\", entrada)"
   ]
  },
  {
   "cell_type": "markdown",
   "metadata": {},
   "source": [
    "### Tabelas wiki para markdown\n",
    "\n",
    "Os formatos Wiki e markdown são muito usados para escrever conteúdos web. Ambos suportam a escrita de tabelas. A vantagem destes formatos é poderem ser escritos num editor de texto muito simples.\n",
    "\n",
    "Use, por facilidade, um [gerador de tabelas](https://www.tablesgenerator.com/mediawiki_tables) nesses formatos para ver as diferenças.\n",
    "\n",
    "Exemplo de uma tabela no formato wiki:\n",
    "```\n",
    "{| class=\"wikitable\" \n",
    "|-\n",
    "! Fruta\n",
    "! Cor\n",
    "|-\n",
    "| Banana\n",
    "| Amarelo\n",
    "|-\n",
    "| Ananás\n",
    "| Amarelo\n",
    "|}\n",
    "```\n",
    "\n",
    "A mesma tabela no formato markdown:\n",
    "```\n",
    "| Fruta  | Cor     |\n",
    "|--------|---------|\n",
    "| Banana | Amarelo |\n",
    "| Ananás | Amarelo |\n",
    "```\n",
    "A tabela renderizada nesta célula:\n",
    "\n",
    "| Fruta  | Cor     |\n",
    "|--------|---------|\n",
    "| Banana | Amarelo |\n",
    "| Ananás | Amarelo |\n",
    "\n",
    "Escreva uma função Python `wiki2markdown` que transforme uma tabela wiki numa tabela markdown.\n",
    "\n",
    "Exemplo de utilização:\n",
    "\n",
    "```\n",
    "entrada = \"\"\"\n",
    "{| class=\"wikitable\" \n",
    "|-\n",
    "! Fruta\n",
    "! Cor\n",
    "|-\n",
    "| Banana\n",
    "| Amarelo\n",
    "|-\n",
    "| Ananás\n",
    "| Amarelo\n",
    "|}\n",
    "\"\"\"\n",
    "\n",
    "print( wiki2markdown( entrada ) ) \n",
    "```\n",
    "\n"
   ]
  },
  {
   "cell_type": "markdown",
   "metadata": {},
   "source": [
    "### Exercício\n",
    "\n",
    "Leia o arquivo `dissertation.bib` que está no formato BibTeX e produza uma lista com todos os autores, sem repetições."
   ]
  },
  {
   "cell_type": "code",
   "execution_count": 3,
   "metadata": {},
   "outputs": [
    {
     "name": "stdout",
     "output_type": "stream",
     "text": [
      "{\\'o}\n",
      "{\\\"o}\n"
     ]
    },
    {
     "data": {
      "text/plain": [
       "'António Höor'"
      ]
     },
     "execution_count": 3,
     "metadata": {},
     "output_type": "execute_result"
    }
   ],
   "source": [
    "import re \n",
    "\n",
    "frase = r\"Ant{\\'o}nio H{\\\"o}or\"\n",
    "\n",
    "def acentua(str):\n",
    "\n",
    "    tabela = {\n",
    "        r\"{\\'o}\": \"ó\",\n",
    "        r\"{\\\"o}\": \"ö\",\n",
    "        r\"{\\'a}\": \"'a'\"\n",
    "    }\n",
    "\n",
    "    def substitui(match):\n",
    "        # print(match[0])\n",
    "        return tabela.get( match[0], \"xxx\")\n",
    "\n",
    "    return re.sub(r'{\\\\[~^\"\\'][aeiou]}', substitui, str)\n",
    "\n",
    "acentua(frase)"
   ]
  },
  {
   "cell_type": "code",
   "execution_count": null,
   "metadata": {},
   "outputs": [],
   "source": []
  }
 ],
 "metadata": {
  "kernelspec": {
   "display_name": "Python 3.10.6 64-bit",
   "language": "python",
   "name": "python3"
  },
  "language_info": {
   "codemirror_mode": {
    "name": "ipython",
    "version": 3
   },
   "file_extension": ".py",
   "mimetype": "text/x-python",
   "name": "python",
   "nbconvert_exporter": "python",
   "pygments_lexer": "ipython3",
   "version": "3.10.6"
  },
  "vscode": {
   "interpreter": {
    "hash": "916dbcbb3f70747c44a77c7bcd40155683ae19c65e1c03b4aa3499c5328201f1"
   }
  }
 },
 "nbformat": 4,
 "nbformat_minor": 2
}
