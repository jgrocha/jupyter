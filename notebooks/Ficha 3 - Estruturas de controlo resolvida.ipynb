{
 "cells": [
  {
   "cell_type": "markdown",
   "metadata": {},
   "source": [
    "# Estruturas de Controlo em Python🐍\n",
    "Jorge Gustavo Rocha\\\n",
    "Departamento de Informática, Universidade do Minho\\\n",
    "27 de abril de 2020\n",
    "\n",
    "Um programa geralmente não segue uma execução linear de todas as instruções.\n",
    "\n",
    "Há instruções que só que querem executar em determinadas condições. Para tal, usa-se uma estrutura de controlo:\n",
    "```\n",
    "if..else...\n",
    "```\n",
    "\n",
    "Noutros casos, pretende-se repetir múltiplas vezes o mesmo conjunto de instruções. Para tal, usam-se as estruturas de controlo:\n",
    "```\n",
    "while\n",
    "for\n",
    "```"
   ]
  },
  {
   "cell_type": "markdown",
   "metadata": {},
   "source": [
    "# Dados\n",
    "\n",
    "Para estes exercícios com estruturas de controlo, vamos usar caixas para entrada de dados (usando a função `input()` e as estruturas de dados seguintes."
   ]
  },
  {
   "cell_type": "code",
   "execution_count": 1,
   "metadata": {},
   "outputs": [],
   "source": [
    "import numpy as np\n",
    "populacao = { \"Amares\": 19853, \"Barcelos\": 124555, \"Braga\": 176154, \"Cabeceiras de Basto\": 17635, \"Celorico de Basto\": 19767, \"Esposende\": 35552, \"Fafe\": 53600, \"Guimarães\": 162636, \"Póvoa de Lanhoso\": 24230, \"Terras de Bouro\": 7506, \"Vieira do Minho\": 14077, \"Vila Nova de Famalicão\": 134969, \"Vila Verde\": 49171, \"Vizela\": 24477 }\n",
    "vel = np.array([ 50, 50, 70, 90, 120 ])"
   ]
  },
  {
   "cell_type": "markdown",
   "metadata": {},
   "source": [
    "## Entrada de dados\n",
    "\n",
    "1. (**Resolvido**) Leia o nome do utilizador e apresente o nome em maiúsculas."
   ]
  },
  {
   "cell_type": "code",
   "execution_count": 2,
   "metadata": {},
   "outputs": [
    {
     "name": "stdout",
     "output_type": "stream",
     "text": [
      "Gustavo\n"
     ]
    }
   ],
   "source": [
    "nome=input()"
   ]
  },
  {
   "cell_type": "code",
   "execution_count": 3,
   "metadata": {},
   "outputs": [
    {
     "data": {
      "text/plain": [
       "'GUSTAVO'"
      ]
     },
     "execution_count": 3,
     "metadata": {},
     "output_type": "execute_result"
    }
   ],
   "source": [
    "nome.upper()"
   ]
  },
  {
   "cell_type": "markdown",
   "metadata": {},
   "source": [
    "2. Leia o ano de nascimento e diga quantos anos o utilizador tem."
   ]
  },
  {
   "cell_type": "code",
   "execution_count": 4,
   "metadata": {},
   "outputs": [
    {
     "name": "stdout",
     "output_type": "stream",
     "text": [
      "1969\n",
      "Você tem 51 anos.\n"
     ]
    }
   ],
   "source": [
    "from datetime import date\n",
    "ano_atual = date.today().year\n",
    "\n",
    "ano_nascimento = input()\n",
    "print(\"Você tem {} anos.\".format(ano_atual - int(ano_nascimento) ))"
   ]
  },
  {
   "cell_type": "markdown",
   "metadata": {},
   "source": [
    "3. Leia uma palavra e mostre-a de trás para frente. Use as sugestões do [stackoverflow](https://stackoverflow.com/questions/931092/reverse-a-string-in-python) para calcular a string ao contrário."
   ]
  },
  {
   "cell_type": "code",
   "execution_count": 5,
   "metadata": {},
   "outputs": [
    {
     "name": "stdout",
     "output_type": "stream",
     "text": [
      "O céu está azul\n",
      "luza átse uéc O\n"
     ]
    }
   ],
   "source": [
    "palavra = input()\n",
    "print(palavra[::-1])"
   ]
  },
  {
   "cell_type": "markdown",
   "metadata": {},
   "source": [
    "## Estruturas condicionais\n",
    "\n",
    "1. Leia um número de diga se é um número inteiro.\n",
    "1. Leia um número de diga se é um número real.\n",
    "1. Leia um número de diga se é positivo, negativo ou zero.\n",
    "1. Leia um número e diga se é par ou ímpar, mas se e só se o número for inteiro. Se não for um inteiro, diga: \"Número inválido: tem que ser um número inteiro\"\n",
    "1. Leia a data de nascimento e diga a idade que o utilizador tem. Use a função `date.today()` para saber a data de hoje (tem que preceder com `from datetime import date`).\n",
    "1. Leia o nome próprio do utilizador. Responda 'válido', se o nome não contém nenhum espaço. Resposta 'inválido', se o nome contém um espaço como em `Ana Rita`, por exemplo."
   ]
  },
  {
   "cell_type": "markdown",
   "metadata": {},
   "source": [
    "## Estruturas condicionais\n",
    "\n",
    "1. Leia um número de diga se é um número inteiro.\n",
    "\n",
    "Quando se lê algo fornecido pelo utilizador, ficamos sempre dependentes do que for introduzido pelo utilizador. Nunca é garantido que o utilizador preenche os dados pedidos da melhor forma. Por isso, quando se pede uma data de nascimento, por exemplo, o utilizador pode por '1975', pode por só '05' ou pode por 'aaaa', o que nem sequer é um número.\n",
    "\n",
    "A entrada é sempre uma string.\n",
    "\n",
    "Para responder a esta questão, há duas estratégias possíveis:\n",
    "- Tentar converter a entrada (a string) para int e ver se corre bem ou mal,\n",
    "- Ver se a string é composta apenas por algarismos.\n",
    "\n",
    "Vamos resolver o exercício de duas maneiras diferentes, seguindo estas duas abordagens."
   ]
  },
  {
   "cell_type": "markdown",
   "metadata": {},
   "source": [
    "### 1. Resposta (converter para `int` e ver se corre bem)"
   ]
  },
  {
   "cell_type": "code",
   "execution_count": 6,
   "metadata": {
    "tags": [
     "raises-exception"
    ]
   },
   "outputs": [
    {
     "name": "stdout",
     "output_type": "stream",
     "text": [
      "12\n",
      "O número 12 é um inteiro\n"
     ]
    }
   ],
   "source": [
    "x = input()\n",
    "try:\n",
    "    numero = int(x)\n",
    "except ValueError:\n",
    "    print(\"A entrada {} não é um inteiro\".format(x))\n",
    "else:\n",
    "    print(\"O número {} é um inteiro\".format(numero))"
   ]
  },
  {
   "cell_type": "markdown",
   "metadata": {},
   "source": [
    "**Nota**: quando se usa um bloco `try..except` e ocorre uma exceção, o kernel Python que estás por trás a correr o código Python bloquea. Ou seja, deixa de poder correr o código que está nas células, porque o kernel está parado.\n",
    "\n",
    "Para se poder continuar a correr o código das células normalmente, sem que o kernel fique bloqueado quando é gerada uma exceção, é preciso marcar a célula com um tag especial <kbd>raises-exception</kbd>. Tem que ir a View → Cell Toolbar → Tags. Passa a ver uma nova barra por cima das células. Acrescente a tag <kbd>raises-exception</kbd> nas células onde usa blocos `try..except`, __como acontece neste notebook__.\n",
    "\n",
    "Depois pode voltar a esconder a toolbar das célunas, indo a View → Cell Toolbar → None."
   ]
  },
  {
   "cell_type": "markdown",
   "metadata": {},
   "source": [
    "### 1. Resposta alternativa (verificar se a entrada só contém algarismos)\n",
    "Neste caso usa-se o módulo de [expressões regulares](https://docs.python.org/3/library/re.html) `re` e testa-se com o método `re.match()` se a entrada é formada só por algarismos `\\d`, que se repetem 1 ou mais vezes `+`."
   ]
  },
  {
   "cell_type": "code",
   "execution_count": 7,
   "metadata": {},
   "outputs": [
    {
     "name": "stdout",
     "output_type": "stream",
     "text": [
      "   12\n",
      "A entrada    12 não é um inteiro\n"
     ]
    }
   ],
   "source": [
    "import re\n",
    "x = input()\n",
    "if re.match('\\d+', x):\n",
    "    numero = int(x)\n",
    "    print(\"O número {} é um inteiro\".format(numero))\n",
    "else:\n",
    "    print(\"A entrada {} não é um inteiro\".format(x))"
   ]
  },
  {
   "cell_type": "markdown",
   "metadata": {},
   "source": [
    "Note que as duas soluções não são exatamente iguais. Na primeira, pode escrever '__12_' e, mesmo com os espaços antes e depois, a entrada é convertida para `int`. Na segunda solução, a expressão regular só permite algarismos. Verifique essa diferença entre as duas soluções.\n",
    "\n",
    "Pode-se melhorar a expressão regular para permitir carateres brancos (espaços ou tabs) antes ou depois dos algarismos, com:\n",
    "```python\n",
    "if re.match('\\s*\\d+\\s*', x):\n",
    "```"
   ]
  },
  {
   "cell_type": "markdown",
   "metadata": {},
   "source": [
    "2. Leia um número de diga se é um número real."
   ]
  },
  {
   "cell_type": "code",
   "execution_count": 8,
   "metadata": {
    "tags": [
     "raises-exception"
    ]
   },
   "outputs": [
    {
     "name": "stdout",
     "output_type": "stream",
     "text": [
      "3.1415927\n",
      "O número 3.1415927 é um real\n"
     ]
    }
   ],
   "source": [
    "x = input()\n",
    "try:\n",
    "    numero = float(x)\n",
    "except ValueError:\n",
    "    print(\"A entrada {} não é um número real\".format(x))\n",
    "else:\n",
    "    print(\"O número {} é um real\".format(numero))"
   ]
  },
  {
   "cell_type": "markdown",
   "metadata": {},
   "source": [
    "3. Leia um número de diga se é positivo, negativo ou zero."
   ]
  },
  {
   "cell_type": "code",
   "execution_count": 9,
   "metadata": {
    "tags": [
     "raises-exception"
    ]
   },
   "outputs": [
    {
     "name": "stdout",
     "output_type": "stream",
     "text": [
      "0.000001\n",
      "O número introduzido é positivo\n"
     ]
    }
   ],
   "source": [
    "x = input()\n",
    "try:\n",
    "    numero = float(x)\n",
    "except ValueError:\n",
    "    print(\"A entrada {} não é um número válido\".format(x))\n",
    "else:\n",
    "    if numero == 0:\n",
    "        print(\"O número introduzido é zero\")\n",
    "    elif numero < 0:\n",
    "        print(\"O número introduzido é negativo\")\n",
    "    else:\n",
    "        print(\"O número introduzido é positivo\")"
   ]
  },
  {
   "cell_type": "markdown",
   "metadata": {},
   "source": [
    "1. Leia um número e diga se é par ou ímpar, mas se e só se o número for inteiro. Se não for um inteiro, diga: \"Número inválido: tem que ser um número inteiro\""
   ]
  },
  {
   "cell_type": "code",
   "execution_count": 10,
   "metadata": {
    "tags": [
     "raises-exception"
    ]
   },
   "outputs": [
    {
     "name": "stdout",
     "output_type": "stream",
     "text": [
      "12.0\n",
      "Número inválido: tem que ser um número inteiro\n"
     ]
    }
   ],
   "source": [
    "x = input()\n",
    "try:\n",
    "    numero = int(x)\n",
    "except ValueError:\n",
    "    print(\"Número inválido: tem que ser um número inteiro\")\n",
    "else:\n",
    "    quociente, resto = divmod(numero, 2)\n",
    "    if resto == 0:\n",
    "        print(\"O número {} é um par\".format(numero))\n",
    "    else:\n",
    "        print(\"O número {} é um ímpar\".format(numero))"
   ]
  },
  {
   "cell_type": "markdown",
   "metadata": {},
   "source": [
    "4. Leia a data de nascimento e diga a idade que o utilizador tem. Use a função `date.today()` para saber a data de hoje (tem que preceder com `from datetime import date`).\n",
    "\n",
    "Nota: nesta solução, usa-se a comparação de pares no `if`."
   ]
  },
  {
   "cell_type": "code",
   "execution_count": 11,
   "metadata": {
    "tags": [
     "raises-exception"
    ]
   },
   "outputs": [
    {
     "name": "stdout",
     "output_type": "stream",
     "text": [
      "1969-07-25\n",
      "Tem 50 anos.\n"
     ]
    }
   ],
   "source": [
    "from datetime import date, datetime\n",
    "today = date.today()\n",
    "\n",
    "data_nascimento = input()\n",
    "try:\n",
    "    nascimento = datetime.strptime(data_nascimento, \"%Y-%m-%d\").date()\n",
    "except ValueError:\n",
    "    print(\"Data inválida. Escreva uma data na forma: AAAA-MM-DD\")\n",
    "else:\n",
    "    anos = today.year - nascimento.year\n",
    "    # a idade exacta depedende se já celebrou o aniversário este ano\n",
    "    if ((today.month, today.day) < (nascimento.month, nascimento.day)):\n",
    "        anos = anos - 1\n",
    "    print(\"Tem {} anos.\".format(anos))"
   ]
  },
  {
   "cell_type": "markdown",
   "metadata": {},
   "source": [
    "5. Leia o nome próprio do utilizador. Responda 'válido', se o nome não contém nenhum espaço. Resposta 'inválido', se o nome contém um espaço como em `Ana Rita`, por exemplo."
   ]
  },
  {
   "cell_type": "code",
   "execution_count": 12,
   "metadata": {},
   "outputs": [
    {
     "name": "stdout",
     "output_type": "stream",
     "text": [
      "Maria da Fonte\n",
      "Inválido\n"
     ]
    }
   ],
   "source": [
    "nome = input()\n",
    "if nome.find(' ') == -1:\n",
    "    print(\"Válido\")\n",
    "else:\n",
    "    print(\"Inválido\")"
   ]
  },
  {
   "cell_type": "markdown",
   "metadata": {},
   "source": [
    "## Estruturas cíclicas: `for`\n",
    "\n",
    "1. Use um ciclo `for` para mostrar o nome dos concelhos do dicionário `populacao`."
   ]
  },
  {
   "cell_type": "code",
   "execution_count": 13,
   "metadata": {},
   "outputs": [
    {
     "name": "stdout",
     "output_type": "stream",
     "text": [
      "Amares\n",
      "Barcelos\n",
      "Braga\n",
      "Cabeceiras de Basto\n",
      "Celorico de Basto\n",
      "Esposende\n",
      "Fafe\n",
      "Guimarães\n",
      "Póvoa de Lanhoso\n",
      "Terras de Bouro\n",
      "Vieira do Minho\n",
      "Vila Nova de Famalicão\n",
      "Vila Verde\n",
      "Vizela\n"
     ]
    }
   ],
   "source": [
    "for c in populacao:\n",
    "    print(c)"
   ]
  },
  {
   "cell_type": "markdown",
   "metadata": {},
   "source": [
    "2. Use o mesmo ciclo `for` e mostre apenas os concelhos do dicionário `populacao` que têm mais de 50 000 habitantes"
   ]
  },
  {
   "cell_type": "code",
   "execution_count": 14,
   "metadata": {},
   "outputs": [
    {
     "name": "stdout",
     "output_type": "stream",
     "text": [
      "Barcelos\n",
      "Braga\n",
      "Fafe\n",
      "Guimarães\n",
      "Vila Nova de Famalicão\n"
     ]
    }
   ],
   "source": [
    "for c in populacao:\n",
    "    if (populacao[c] > 50000):\n",
    "        print(c)"
   ]
  },
  {
   "cell_type": "markdown",
   "metadata": {},
   "source": [
    "3. Use um ciclo `for` para calcular a média das velocidades do vetor `vel`."
   ]
  },
  {
   "cell_type": "code",
   "execution_count": 15,
   "metadata": {},
   "outputs": [
    {
     "name": "stdout",
     "output_type": "stream",
     "text": [
      "76.0\n"
     ]
    }
   ],
   "source": [
    "soma = 0\n",
    "for v in vel:\n",
    "    soma = soma + v\n",
    "print(soma/vel.size)"
   ]
  },
  {
   "cell_type": "code",
   "execution_count": 16,
   "metadata": {},
   "outputs": [
    {
     "data": {
      "text/plain": [
       "76.0"
      ]
     },
     "execution_count": 16,
     "metadata": {},
     "output_type": "execute_result"
    }
   ],
   "source": [
    "# Em alternativa, pode-se (e deve-se) usar:\n",
    "vel.mean()"
   ]
  },
  {
   "cell_type": "markdown",
   "metadata": {},
   "source": [
    "4. Use um ciclo `for` para calcular a velocidade máxima que consta do vetor `vel`."
   ]
  },
  {
   "cell_type": "code",
   "execution_count": 17,
   "metadata": {},
   "outputs": [
    {
     "name": "stdout",
     "output_type": "stream",
     "text": [
      "120\n"
     ]
    }
   ],
   "source": [
    "maximo = 0\n",
    "for v in vel:\n",
    "    if v > maximo:\n",
    "        maximo = v\n",
    "print(maximo)"
   ]
  },
  {
   "cell_type": "code",
   "execution_count": 18,
   "metadata": {},
   "outputs": [
    {
     "data": {
      "text/plain": [
       "120"
      ]
     },
     "execution_count": 18,
     "metadata": {},
     "output_type": "execute_result"
    }
   ],
   "source": [
    "# Em alternativa, Pode-se (e deve-se) usar:\n",
    "vel.max()"
   ]
  },
  {
   "cell_type": "markdown",
   "metadata": {},
   "source": [
    "## Estruturas cíclicas: `while`\n",
    "\n",
    "1.  Use um ciclo `while` para percorrer o dicionário `populacao` e mostrar os concelhos que seriam precisos para juntar no mínimo 200 000 habitantes."
   ]
  },
  {
   "cell_type": "code",
   "execution_count": 19,
   "metadata": {},
   "outputs": [
    {
     "name": "stdout",
     "output_type": "stream",
     "text": [
      "Amares 19853\n",
      "Amares,Barcelos 144408\n",
      "Amares,Barcelos,Braga 320562\n"
     ]
    }
   ],
   "source": [
    "populacao = { \"Amares\": 19853, \"Barcelos\": 124555, \"Braga\": 176154, \"Cabeceiras de Basto\": 17635, \"Celorico de Basto\": 19767, \"Esposende\": 35552, \"Fafe\": 53600, \"Guimarães\": 162636, \"Póvoa de Lanhoso\": 24230, \"Terras de Bouro\": 7506, \"Vieira do Minho\": 14077, \"Vila Nova de Famalicão\": 134969, \"Vila Verde\": 49171, \"Vizela\": 24477 }\n",
    "\n",
    "soma = 0\n",
    "concelhos = []\n",
    "# vamos removendo os concelhos do dicionário à medida que vamos somando a população\n",
    "while populacao and soma < 200000:\n",
    "    x = next(x for x in populacao)\n",
    "    soma = soma + populacao[x]\n",
    "    concelhos.append(x)\n",
    "    print(','.join(concelhos), soma)\n",
    "    populacao.pop(x)"
   ]
  },
  {
   "cell_type": "code",
   "execution_count": 20,
   "metadata": {},
   "outputs": [
    {
     "name": "stdout",
     "output_type": "stream",
     "text": [
      "320562\n"
     ]
    }
   ],
   "source": [
    "# Com um ciclo for, usando o break para sair do ciclo\n",
    "# Abordagem mais simples do que usando um ciclo while\n",
    "# Não destroi o dicionário original populacao\n",
    "populacao = { \"Amares\": 19853, \"Barcelos\": 124555, \"Braga\": 176154, \"Cabeceiras de Basto\": 17635, \"Celorico de Basto\": 19767, \"Esposende\": 35552, \"Fafe\": 53600, \"Guimarães\": 162636, \"Póvoa de Lanhoso\": 24230, \"Terras de Bouro\": 7506, \"Vieira do Minho\": 14077, \"Vila Nova de Famalicão\": 134969, \"Vila Verde\": 49171, \"Vizela\": 24477 }\n",
    "\n",
    "soma = 0\n",
    "for x in populacao:\n",
    "    soma = soma + populacao[x]\n",
    "    if soma > 200000:\n",
    "        break\n",
    "print(soma)"
   ]
  },
  {
   "cell_type": "markdown",
   "metadata": {},
   "source": [
    "2. Use um ciclo `while` para percorrer o dicionário `populacao` e mostrar os três primeiros concelhos que tenham o nome formado por mais do que uma palavra (como `\"Cabeceiras de Basto\"`, por exemplo."
   ]
  },
  {
   "cell_type": "code",
   "execution_count": 21,
   "metadata": {},
   "outputs": [
    {
     "name": "stdout",
     "output_type": "stream",
     "text": [
      "Cabeceiras de Basto,Celorico de Basto,Póvoa de Lanhoso\n"
     ]
    }
   ],
   "source": [
    "populacao = { \"Amares\": 19853, \"Barcelos\": 124555, \"Braga\": 176154, \"Cabeceiras de Basto\": 17635, \"Celorico de Basto\": 19767, \"Esposende\": 35552, \"Fafe\": 53600, \"Guimarães\": 162636, \"Póvoa de Lanhoso\": 24230, \"Terras de Bouro\": 7506, \"Vieira do Minho\": 14077, \"Vila Nova de Famalicão\": 134969, \"Vila Verde\": 49171, \"Vizela\": 24477 }\n",
    "\n",
    "concelhos = []\n",
    "# vamos removendo os concelhos do dicionário que vão sendo testados\n",
    "while populacao and len(concelhos) < 3:\n",
    "    x = next(x for x in populacao)\n",
    "    if (x.find(' ') != -1):\n",
    "        concelhos.append(x)\n",
    "    populacao.pop(x)\n",
    "print(','.join(concelhos))"
   ]
  },
  {
   "cell_type": "code",
   "execution_count": 22,
   "metadata": {},
   "outputs": [
    {
     "name": "stdout",
     "output_type": "stream",
     "text": [
      "Cabeceiras de Basto,Celorico de Basto,Póvoa de Lanhoso\n"
     ]
    }
   ],
   "source": [
    "# Com um ciclo for, usando o break para sair do ciclo\n",
    "# Abordagem mais simples do que usando um ciclo while\n",
    "# Não destroi o dicionário original populacao\n",
    "populacao = { \"Amares\": 19853, \"Barcelos\": 124555, \"Braga\": 176154, \"Cabeceiras de Basto\": 17635, \"Celorico de Basto\": 19767, \"Esposende\": 35552, \"Fafe\": 53600, \"Guimarães\": 162636, \"Póvoa de Lanhoso\": 24230, \"Terras de Bouro\": 7506, \"Vieira do Minho\": 14077, \"Vila Nova de Famalicão\": 134969, \"Vila Verde\": 49171, \"Vizela\": 24477 }\n",
    "\n",
    "concelhos = []\n",
    "for x in populacao:\n",
    "    if (x.find(' ') != -1):\n",
    "        concelhos.append(x)\n",
    "    if len(concelhos) == 3:\n",
    "        break\n",
    "print(','.join(concelhos))"
   ]
  }
 ],
 "metadata": {
  "authors": [
   {
    "name": "Jorge Gustavo Rocha"
   }
  ],
  "kernelspec": {
   "display_name": "Python 3",
   "language": "python",
   "name": "python3"
  },
  "language_info": {
   "codemirror_mode": {
    "name": "ipython",
    "version": 3
   },
   "file_extension": ".py",
   "mimetype": "text/x-python",
   "name": "python",
   "nbconvert_exporter": "python",
   "pygments_lexer": "ipython3",
   "version": "3.7.5"
  }
 },
 "nbformat": 4,
 "nbformat_minor": 2
}
