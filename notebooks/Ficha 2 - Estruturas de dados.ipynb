{
 "cells": [
  {
   "cell_type": "markdown",
   "metadata": {},
   "source": [
    "# Estruturas de Dados em Python\n",
    "\n",
    "Vamos começar por olhar para as estruturas de dados em Python que nos ajudam a representar coleções de dados.\n",
    "\n",
    "Faça estes exercícios no Jupyter. \n",
    "\n",
    "## Documentação sobre Python 3\n",
    "\n",
    "## Documentação sobre o Jupyter\n",
    "Enquanto não estiver familizarizado com o Jupyter, consulta a [documentação disponível](https://jupyter-notebook.readthedocs.io/en/stable/notebook.html#introduction).\n",
    "\n",
    "Se estiver mesmo a começar, leia primeiro um pequeno tutorial, como este [Jupyter Notebook: An Introduction](https://realpython.com/jupyter-notebook-introduction/), entre os muitos que existem na net.\n",
    "\n",
    "Para acelerar a edição no Jupyter, consulte a [lista de atalhos](https://towardsdatascience.com/jypyter-notebook-shortcuts-bf0101a98330) que existem para criar células, mudar o tipo de célula, executar, etc. Além dos atalhos, há mais uns [truques](https://www.dataquest.io/blog/jupyter-notebook-tips-tricks-shortcuts/) que dão jeito.\n",
    "\n",
    "Use também um [guia de Markdown](https://medium.com/analytics-vidhya/the-ultimate-markdown-guide-for-jupyter-notebook-d5e5abf728fd) para formatar as células de texto.\n",
    "\n",
    "Quanto melhor forem as suas explicações, mais fácil será ler o código que escreveu."
   ]
  },
  {
   "cell_type": "markdown",
   "metadata": {},
   "source": [
    "## Listas\n",
    "\n",
    "```python\n",
    "concelhos = [ \"Amares\", \"Barcelos\", \"Braga\", \"Cabeceiras de Basto\", \"Celorico de Basto\", \"Esposende\", \"Fafe\", \"Guimarães\", \"Póvoa de Lanhoso\", \"Terras de Bouro\", \"Vieira do Minho\", \"Vila Nova de Famalicão\", \"Vila Verde\", \"Vizela\" ]\n",
    "```\n",
    "\n",
    "## Dicionários\n",
    "\n",
    "```python\n",
    "populacao = { \"Amares\": 19853, \"Barcelos\": 124555, \"Braga\": 176154, \"Cabeceiras de Basto\": 17635, \"Celorico de Basto\": 19767, \"Esposende\": 35552, \"Fafe\": 53600, \"Guimarães\": 162636, \"Póvoa de Lanhoso\": 24230, \"Terras de Bouro\": 7506, \"Vieira do Minho\": 14077, \"Vila Nova de Famalicão\": 134969, \"Vila Verde\": 49171, \"Vizela\": 24477 }\n",
    "```\n",
    "\n",
    "## Arrays\n",
    "\n",
    "Os arrays são indicados para armazenar uma coleção de elementos do mesmo tipo. \n",
    "As listas, com se viu, podem conter elementos de vários tipos diferentes. Os arrays, para serem mais eficientes, apenas permitem elementos do mesmo tipo (booleanos, inteiros, reais, etc).\n",
    "\n",
    "Os arrays podem ser criados com o módulo `array` ou com o módulo `numpy`. \n",
    "Ambas as implementações são semelhantes. Nestes exercícios, vamos usar sempre o módulo `numpy` para trabalhar com arrays.\n",
    "\n",
    "```python\n",
    "import numpy as np\n",
    "vel = np.array([ 50, 50, 70, 90, 120 ])\n",
    "```\n",
    "\n",
    "### Arrays com números aleatórios\n",
    "\n",
    "```python\n",
    "np.random.seed(0)\n",
    "notas = np.random.randint(100, size=10)\n",
    "```"
   ]
  },
  {
   "cell_type": "markdown",
   "metadata": {},
   "source": [
    "## Exercícios de listas\n",
    "\n",
    "Considere a lista `concelhos` definida anteriormente.\n",
    "\n",
    "1. Calcule o números de elementos da lista.\n",
    "\n",
    "2. Calcule o primeiro elemento da lista.\n",
    "\n",
    "3. A partir da lista inicial, crie um nova lista, com a apenas o primeiro e o último elemento da lista.\n",
    "\n",
    "4. Para ordenar listas, pode usar duas funções diferentes: `list.sort()` e `sorted()`. Escreva dois exemplos, com cada uma das funções, para mostrar as diferenças. Veja também com ose usa o parâmetro `reverse=True` nestas duas funções."
   ]
  },
  {
   "cell_type": "markdown",
   "metadata": {},
   "source": [
    "## Exercícios com dicionários\n",
    "\n",
    "Considere o dicionário `populacao` atrás definido.\n",
    "\n",
    "1.  Escreva a expressão que nos dá a polulação de `Vizela`\n",
    "2.  Diga qual é o concelho mais populoso\n",
    "3.  Diga qual é a soma da população de todos os concelhos\n",
    "4.  Imprima os concelhos e respetiva população por ordem descrescente de população\n"
   ]
  },
  {
   "cell_type": "markdown",
   "metadata": {},
   "source": [
    "## Exercícios com arrays\n",
    "\n",
    "Considere os arrays atrás definidos.\n",
    "\n",
    "1.  Calcule a médias das velocidades registadas no vetor `vel`\n",
    "2.  Calcule a velocidade mínima no vetor `vel`\n",
    "3.  Crie um vetor com 10 elementos, com números aleatórios entre -10 e 10."
   ]
  }
 ],
 "metadata": {
  "kernelspec": {
   "display_name": "Python 3",
   "language": "python",
   "name": "python3"
  },
  "language_info": {
   "codemirror_mode": {
    "name": "ipython",
    "version": 3
   },
   "file_extension": ".py",
   "mimetype": "text/x-python",
   "name": "python",
   "nbconvert_exporter": "python",
   "pygments_lexer": "ipython3",
   "version": "3.7.5"
  }
 },
 "nbformat": 4,
 "nbformat_minor": 2
}
