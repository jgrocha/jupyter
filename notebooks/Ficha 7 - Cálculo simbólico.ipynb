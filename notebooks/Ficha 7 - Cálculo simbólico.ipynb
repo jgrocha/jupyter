{
 "cells": [
  {
   "cell_type": "markdown",
   "metadata": {},
   "source": [
    "# Cálculo simbólico em Python 🐍\n",
    "#### Jorge Gustavo Rocha<br/>Departamento de Informática, Universidade do Minho\n",
    "\n",
    "\n",
    "O módulo [SymPy](https://docs.sympy.org/latest/index.html) suporta o cálculo simbólico. Em vez de lidar apenas com números e operações sobre os mesmos, como acontece no cálculo numérico, o SymPy permite-nos lidar com símbolos e realizar operações que manipulam esses símbolos. Isto permite-nos, entre outras coisas, trabalhar com representações exactas e não com aproximações.\n",
    "\n",
    "O módulo é bastante abrangente e inerentemente **complexo**, até porque lida com algumas questões da matemética que já não são triviais. Contudo, como vamos ilustrar, embora seja um módulo complexo, consegue-se usar com alguma facilidade.\n",
    "\n",
    "Antes de mais, instale o módulo `sympy`. Se usa o Anaconda, acrescente o SymPy. Se usa a linha de comandos, faça: `pip3 install sympy`.\n",
    "\n",
    "### Limitações do cálculo numérico\n",
    "\n",
    "Vejamos o primeio exemplo: a operação `math.sqrt()` permite-nos calcular a raíz quadrada de um número. A raíz quadrada de 2, por exemplo, é um [número irracional](https://pt.wikipedia.org/wiki/N%C3%BAmero_irracional) que não conseguimos representar com toda a precisão em computador. Usa-se sempre uma aproximação.\n"
   ]
  },
  {
   "cell_type": "code",
   "execution_count": 1,
   "metadata": {},
   "outputs": [
    {
     "name": "stdout",
     "output_type": "stream",
     "text": [
      "1.4142135623730951\n",
      "2.0000000000000004\n"
     ]
    }
   ],
   "source": [
    "import math\n",
    "#\n",
    "print(math.sqrt(2))\n",
    "print(math.sqrt(2)**2)"
   ]
  },
  {
   "cell_type": "markdown",
   "metadata": {},
   "source": [
    "O exemplo anterior exemplifica a limitação do cálculo numérico: o quadrado da raíz quadrada não é (exatamente) igual a 2.\n",
    "\n",
    "### Símbolos em vez de números\n",
    "\n",
    "O cálculo simbólico permite-nos representar o número irracional $\\sqrt 2$ por `sympy.sqrt(2)`. Assim sendo, o quadrado `sympy.sqrt(2)` dá como resultado 2."
   ]
  },
  {
   "cell_type": "code",
   "execution_count": 2,
   "metadata": {},
   "outputs": [
    {
     "data": {
      "text/latex": [
       "$\\displaystyle 2$"
      ],
      "text/plain": [
       "2"
      ]
     },
     "execution_count": 2,
     "metadata": {},
     "output_type": "execute_result"
    }
   ],
   "source": [
    "import sympy\n",
    "sympy.sqrt(2)**2"
   ]
  },
  {
   "cell_type": "code",
   "execution_count": 3,
   "metadata": {},
   "outputs": [
    {
     "data": {
      "text/latex": [
       "$\\displaystyle \\sqrt{2}$"
      ],
      "text/plain": [
       "sqrt(2)"
      ]
     },
     "execution_count": 3,
     "metadata": {},
     "output_type": "execute_result"
    }
   ],
   "source": [
    "sympy.sqrt(2)"
   ]
  },
  {
   "cell_type": "markdown",
   "metadata": {},
   "source": [
    "Verificam-se o mesmo tipo de limitações do cálculo númerico com os números racionais. Repare que o resultado da soma seguinte não está correta."
   ]
  },
  {
   "cell_type": "code",
   "execution_count": 4,
   "metadata": {},
   "outputs": [
    {
     "data": {
      "text/plain": [
       "0.30000000000000004"
      ]
     },
     "execution_count": 4,
     "metadata": {},
     "output_type": "execute_result"
    }
   ],
   "source": [
    "i = 1/10\n",
    "j = 1/10\n",
    "k = 1/10\n",
    "i+j+k"
   ]
  },
  {
   "cell_type": "markdown",
   "metadata": {},
   "source": [
    "Usando o suporte do SymPy à representação de números racionais, pode-se representar com exatidão o valor $1/10$. \n",
    "\n",
    "Depois de feitos os cálculos e obtidos os resultados usando a representação simbólica, pode-se obter o valor real aproximado, usando o método `evalf()` para transformar a expressão num valor númerico (um `float`)."
   ]
  },
  {
   "cell_type": "code",
   "execution_count": 5,
   "metadata": {},
   "outputs": [
    {
     "data": {
      "text/latex": [
       "$\\displaystyle \\frac{3}{10}$"
      ],
      "text/plain": [
       "3/10"
      ]
     },
     "execution_count": 5,
     "metadata": {},
     "output_type": "execute_result"
    }
   ],
   "source": [
    "i = j = k = sympy.Rational(1,10)\n",
    "i+j+k"
   ]
  },
  {
   "cell_type": "code",
   "execution_count": 6,
   "metadata": {},
   "outputs": [
    {
     "data": {
      "text/latex": [
       "$\\displaystyle 0.3$"
      ],
      "text/plain": [
       "0.300000000000000"
      ]
     },
     "execution_count": 6,
     "metadata": {},
     "output_type": "execute_result"
    }
   ],
   "source": [
    "(i+j+k).evalf()"
   ]
  },
  {
   "cell_type": "markdown",
   "metadata": {},
   "source": [
    "A noção matemática do $\\pi$ ou do infinito, entre muitas, estão disponíveis SymPy."
   ]
  },
  {
   "cell_type": "code",
   "execution_count": 7,
   "metadata": {},
   "outputs": [
    {
     "data": {
      "text/latex": [
       "$\\displaystyle \\infty$"
      ],
      "text/plain": [
       "oo"
      ]
     },
     "execution_count": 7,
     "metadata": {},
     "output_type": "execute_result"
    }
   ],
   "source": [
    "sympy.oo"
   ]
  },
  {
   "cell_type": "code",
   "execution_count": 8,
   "metadata": {},
   "outputs": [
    {
     "data": {
      "text/latex": [
       "$\\displaystyle \\pi$"
      ],
      "text/plain": [
       "pi"
      ]
     },
     "execution_count": 8,
     "metadata": {},
     "output_type": "execute_result"
    }
   ],
   "source": [
    "sympy.pi"
   ]
  },
  {
   "cell_type": "markdown",
   "metadata": {},
   "source": [
    "### Operações com símbolos\n",
    "\n",
    "Ao contrário das expressões numéricas, em que uma variável representa um número, no cálculo simbólico é preciso declarar explicitamente os símbolos que vamos usar."
   ]
  },
  {
   "cell_type": "code",
   "execution_count": 9,
   "metadata": {},
   "outputs": [],
   "source": [
    "x = sympy.Symbol('x')\n",
    "y = sympy.Symbol('y')\n",
    "# alternativamente, pode-se fazer:\n",
    "# x, y = sympy.symbols('x y')"
   ]
  },
  {
   "cell_type": "markdown",
   "metadata": {},
   "source": [
    "Depois de declarados os símbolos, as operações sobre os mesmos são simbólicas."
   ]
  },
  {
   "cell_type": "code",
   "execution_count": 10,
   "metadata": {},
   "outputs": [
    {
     "data": {
      "text/latex": [
       "$\\displaystyle 2 x + y$"
      ],
      "text/plain": [
       "2*x + y"
      ]
     },
     "execution_count": 10,
     "metadata": {},
     "output_type": "execute_result"
    }
   ],
   "source": [
    "x+2*y+x-y"
   ]
  },
  {
   "cell_type": "markdown",
   "metadata": {},
   "source": [
    "As expressões simbólicas podem ser expandidas `expand()`, simplificadas `simplify()`, resolvidas `solve()` ou até representadas graficamente.\n",
    "\n",
    "Vamos ver as operações básicas sobre expressões simbólicas."
   ]
  },
  {
   "cell_type": "markdown",
   "metadata": {},
   "source": [
    "#### `simplify()`\n",
    "Considere a expressão $$\\frac{1}{x}+\\frac{(x \\cdot \\sin(x) -1)}{x}$$\n",
    "Simplifique a expressão manualmente e veja de seguida como a mesma é simplificada pelo SymPy."
   ]
  },
  {
   "cell_type": "code",
   "execution_count": 11,
   "metadata": {},
   "outputs": [
    {
     "data": {
      "text/latex": [
       "$\\displaystyle \\sin{\\left(x \\right)}$"
      ],
      "text/plain": [
       "sin(x)"
      ]
     },
     "execution_count": 11,
     "metadata": {},
     "output_type": "execute_result"
    }
   ],
   "source": [
    "x = sympy.Symbol('x')\n",
    "c = 1/x + (x*sympy.sin(x) - 1)/x\n",
    "sympy.simplify(c)"
   ]
  },
  {
   "cell_type": "markdown",
   "metadata": {},
   "source": [
    "Já agora, repare que os resultados das expressões do SymPy são apresentadas com uma forma bem mais simpática, utilizando os símbolos matemáticos mais adequados.\n",
    "\n",
    "Neste notebook, em vez de se usar o `print()` para se apresentar as expressões, usa-se apenas a expressão, que é o mesmo que fazer `display()`.\n",
    "\n",
    "Veja as diferenças:"
   ]
  },
  {
   "cell_type": "code",
   "execution_count": 12,
   "metadata": {},
   "outputs": [
    {
     "name": "stdout",
     "output_type": "stream",
     "text": [
      "(x*sin(x) - 1)/x + 1/x\n"
     ]
    }
   ],
   "source": [
    "# visualização pouco simpática\n",
    "print(c)"
   ]
  },
  {
   "cell_type": "code",
   "execution_count": 13,
   "metadata": {},
   "outputs": [
    {
     "data": {
      "text/latex": [
       "$\\displaystyle \\frac{x \\sin{\\left(x \\right)} - 1}{x} + \\frac{1}{x}$"
      ],
      "text/plain": [
       "(x*sin(x) - 1)/x + 1/x"
      ]
     },
     "execution_count": 13,
     "metadata": {},
     "output_type": "execute_result"
    }
   ],
   "source": [
    "# visualização simpática\n",
    "# display(c)\n",
    "# ou simplesmente:\n",
    "c"
   ]
  },
  {
   "cell_type": "markdown",
   "metadata": {},
   "source": [
    "#### `expand()`\n",
    "\n",
    "Considere a seguinte expressão e veja como a mesma pode ser expandida."
   ]
  },
  {
   "cell_type": "code",
   "execution_count": 14,
   "metadata": {},
   "outputs": [
    {
     "data": {
      "text/latex": [
       "$\\displaystyle x^{2} + 2 y + 3 \\left(x + y\\right)^{2} + 1$"
      ],
      "text/plain": [
       "x**2 + 2*y + 3*(x + y)**2 + 1"
      ]
     },
     "execution_count": 14,
     "metadata": {},
     "output_type": "execute_result"
    }
   ],
   "source": [
    "x, y = sympy.symbols('x y')\n",
    "d = 3*(x+y)**2+2*y+x**2+1\n",
    "d"
   ]
  },
  {
   "cell_type": "code",
   "execution_count": 15,
   "metadata": {},
   "outputs": [
    {
     "data": {
      "text/latex": [
       "$\\displaystyle 4 x^{2} + 6 x y + 3 y^{2} + 2 y + 1$"
      ],
      "text/plain": [
       "4*x**2 + 6*x*y + 3*y**2 + 2*y + 1"
      ]
     },
     "execution_count": 15,
     "metadata": {},
     "output_type": "execute_result"
    }
   ],
   "source": [
    "sympy.expand(d)"
   ]
  },
  {
   "cell_type": "markdown",
   "metadata": {},
   "source": [
    "#### `solve()`\n",
    "\n",
    "Considere estas duas expressões diferentes: $$ 2\\cdot x+4 =0 $$ e $$ x^2-2y-6=0 $$\n",
    "Podemos pedir para resolver a equação, sendo que para a segunda, o valor dependerá de `y`.\n",
    "\n",
    "Nota: usa-se o método `sympy.Eq()` para criar uma igualdade simbólica. Não se usa o operador `==` nativo do Python."
   ]
  },
  {
   "cell_type": "code",
   "execution_count": 16,
   "metadata": {},
   "outputs": [],
   "source": [
    "e = sympy.Eq(2*x+4, 0)\n",
    "i = sympy.Eq(x**2-2*y-6, 0)"
   ]
  },
  {
   "cell_type": "code",
   "execution_count": 17,
   "metadata": {},
   "outputs": [
    {
     "data": {
      "text/plain": [
       "[-2]"
      ]
     },
     "execution_count": 17,
     "metadata": {},
     "output_type": "execute_result"
    }
   ],
   "source": [
    "sympy.solve(e)"
   ]
  },
  {
   "cell_type": "code",
   "execution_count": 18,
   "metadata": {},
   "outputs": [
    {
     "data": {
      "text/plain": [
       "[{y: x**2/2 - 3}]"
      ]
     },
     "execution_count": 18,
     "metadata": {},
     "output_type": "execute_result"
    }
   ],
   "source": [
    "sympy.solve(i)"
   ]
  },
  {
   "cell_type": "markdown",
   "metadata": {},
   "source": [
    "#### `plot()`\n",
    "\n",
    "As expressões anteriores podem ser visualizadas de uma forma bastante imediata, usando o método `sympy.plot_implicit()`. Os gráficos do SymPy não são tão flexíveis como os da biblioteca `matplolib`, mas são bastante práticos."
   ]
  },
  {
   "cell_type": "code",
   "execution_count": 19,
   "metadata": {},
   "outputs": [
    {
     "data": {
      "image/png": "[encoded data removed]",
      "text/plain": [
       "<Figure size 432x288 with 1 Axes>"
      ]
     },
     "metadata": {
      "needs_background": "light"
     },
     "output_type": "display_data"
    },
    {
     "data": {
      "text/plain": [
       "<sympy.plotting.plot.Plot at 0x7f1def815810>"
      ]
     },
     "execution_count": 19,
     "metadata": {},
     "output_type": "execute_result"
    }
   ],
   "source": [
    "sympy.plot_implicit(e)"
   ]
  },
  {
   "cell_type": "code",
   "execution_count": 20,
   "metadata": {},
   "outputs": [
    {
     "data": {
      "image/png": "[encoded data removed]",
      "text/plain": [
       "<Figure size 432x288 with 1 Axes>"
      ]
     },
     "metadata": {
      "needs_background": "light"
     },
     "output_type": "display_data"
    },
    {
     "data": {
      "text/plain": [
       "<sympy.plotting.plot.Plot at 0x7f1dec5f9ad0>"
      ]
     },
     "execution_count": 20,
     "metadata": {},
     "output_type": "execute_result"
    }
   ],
   "source": [
    "sympy.plot_implicit(i)"
   ]
  },
  {
   "cell_type": "markdown",
   "metadata": {},
   "source": [
    "### Exercícios\n",
    "\n",
    "1.  Diga qual é a solução da equação $$ x^2 - 1$$"
   ]
  },
  {
   "cell_type": "code",
   "execution_count": null,
   "metadata": {},
   "outputs": [],
   "source": []
  },
  {
   "cell_type": "markdown",
   "metadata": {},
   "source": [
    "2.  Simplifique a expressão $$ \\frac{\\sin^4(x)-\\cos^4(x)}{\\sin^2(x)-\\cos^2(x)} $$"
   ]
  },
  {
   "cell_type": "code",
   "execution_count": null,
   "metadata": {},
   "outputs": [],
   "source": []
  },
  {
   "cell_type": "markdown",
   "metadata": {},
   "source": [
    "### Igualdade de duas expressões\n",
    "\n",
    "É preciso ter algum cuidado com a igualdade no SymPy. Considere as duas expressões, matematicamente iguais:"
   ]
  },
  {
   "cell_type": "code",
   "execution_count": 21,
   "metadata": {},
   "outputs": [
    {
     "data": {
      "text/latex": [
       "$\\displaystyle \\left(x + 1\\right)^{2}$"
      ],
      "text/plain": [
       "(x + 1)**2"
      ]
     },
     "execution_count": 21,
     "metadata": {},
     "output_type": "execute_result"
    }
   ],
   "source": [
    "a = (x + 1)**2\n",
    "a"
   ]
  },
  {
   "cell_type": "code",
   "execution_count": 22,
   "metadata": {},
   "outputs": [
    {
     "data": {
      "text/latex": [
       "$\\displaystyle x^{2} + 2 x + 1$"
      ],
      "text/plain": [
       "x**2 + 2*x + 1"
      ]
     },
     "execution_count": 22,
     "metadata": {},
     "output_type": "execute_result"
    }
   ],
   "source": [
    "b = x**2 + 2*x + 1\n",
    "b"
   ]
  },
  {
   "cell_type": "markdown",
   "metadata": {},
   "source": [
    "Embora iguais matematicamente, se usar a igualdade do Python `==` para as comparar, o resultado dá `False`."
   ]
  },
  {
   "cell_type": "code",
   "execution_count": 23,
   "metadata": {},
   "outputs": [
    {
     "data": {
      "text/plain": [
       "False"
      ]
     },
     "execution_count": 23,
     "metadata": {},
     "output_type": "execute_result"
    }
   ],
   "source": [
    "a == b"
   ]
  },
  {
   "cell_type": "markdown",
   "metadata": {},
   "source": [
    "O resultado dá negativo porque este operador igual não atende ao significado das expressões, mas apenas à forma. Em termos de forma, elas são diferentes.\n",
    "\n",
    "Matematicamente falando, se $a = b$, então $a-b=0$. Usando esta lógica, podemos usar o SymPy para realmente ver se as expresões são matematicamente equivalentes, fazendo:"
   ]
  },
  {
   "cell_type": "code",
   "execution_count": 24,
   "metadata": {},
   "outputs": [
    {
     "data": {
      "text/latex": [
       "$\\displaystyle 0$"
      ],
      "text/plain": [
       "0"
      ]
     },
     "execution_count": 24,
     "metadata": {},
     "output_type": "execute_result"
    }
   ],
   "source": [
    "sympy.simplify(a-b)"
   ]
  },
  {
   "cell_type": "markdown",
   "metadata": {},
   "source": [
    "O resultado dá 0, provando que as expressões são iguais. \n",
    "\n",
    "O mesmo não acontece, por exemplo, com expressões ligeiramente diferentes:"
   ]
  },
  {
   "cell_type": "code",
   "execution_count": 25,
   "metadata": {},
   "outputs": [
    {
     "data": {
      "text/latex": [
       "$\\displaystyle y$"
      ],
      "text/plain": [
       "y"
      ]
     },
     "execution_count": 25,
     "metadata": {},
     "output_type": "execute_result"
    }
   ],
   "source": [
    "m = 2*x-2*y+1\n",
    "n = 2*x-3*y+1\n",
    "sympy.simplify(m-n)"
   ]
  },
  {
   "cell_type": "markdown",
   "metadata": {},
   "source": [
    "### Exercício\n",
    "\n",
    "3.  Verifique se as seguintes expressões são equivalentes: $$ \\cos(\\pi/2)+1 $$ $$ \\sin(\\pi/2)$$ "
   ]
  },
  {
   "cell_type": "code",
   "execution_count": null,
   "metadata": {},
   "outputs": [],
   "source": []
  },
  {
   "cell_type": "markdown",
   "metadata": {},
   "source": [
    "### Exercício\n",
    "\n",
    "4.  Verifique se as seguintes expressões são equivalentes: $$ x^a \\cdot x^b $$ $$ x^{a+b}$$ "
   ]
  },
  {
   "cell_type": "code",
   "execution_count": null,
   "metadata": {},
   "outputs": [],
   "source": []
  },
  {
   "cell_type": "markdown",
   "metadata": {},
   "source": [
    "### Álbegra linear\n",
    "\n",
    "Nesta ficha introdutória ao SymPy vamos também ver como são representadas e manipuladas as [matrizes](https://docs.sympy.org/latest/modules/matrices/matrices.html)."
   ]
  },
  {
   "cell_type": "code",
   "execution_count": 26,
   "metadata": {},
   "outputs": [
    {
     "data": {
      "text/latex": [
       "$\\displaystyle \\left[\\begin{matrix}2 & -3 & -8 & 7\\\\-2 & -1 & 2 & -7\\\\1 & 0 & -3 & 6\\end{matrix}\\right]$"
      ],
      "text/plain": [
       "Matrix([\n",
       "[ 2, -3, -8,  7],\n",
       "[-2, -1,  2, -7],\n",
       "[ 1,  0, -3,  6]])"
      ]
     },
     "execution_count": 26,
     "metadata": {},
     "output_type": "execute_result"
    }
   ],
   "source": [
    "A = sympy.Matrix( [[ 2,-3,-8, 7],[-2,-1, 2,-7],[ 1, 0,-3, 6]] )\n",
    "A"
   ]
  },
  {
   "cell_type": "markdown",
   "metadata": {},
   "source": [
    "Selecionar partes da matriz:"
   ]
  },
  {
   "cell_type": "code",
   "execution_count": 27,
   "metadata": {},
   "outputs": [
    {
     "data": {
      "text/latex": [
       "$\\displaystyle \\left[\\begin{matrix}-3\\\\-1\\\\0\\end{matrix}\\right]$"
      ],
      "text/plain": [
       "Matrix([\n",
       "[-3],\n",
       "[-1],\n",
       "[ 0]])"
      ]
     },
     "execution_count": 27,
     "metadata": {},
     "output_type": "execute_result"
    }
   ],
   "source": [
    "# linha 0, coluna 0\n",
    "# A[0,0]\n",
    "# primeira linha, terceira coluna\n",
    "# A[0,2]\n",
    "# toda a segunda coluna\n",
    "A[:,1]\n"
   ]
  },
  {
   "cell_type": "markdown",
   "metadata": {},
   "source": [
    "Selecionar uma parte da matriz:\n",
    "\n",
    "Note: repare que os índices seguem a lógica do Python para listas: do limite inferior até ao limite superior **exclusive**."
   ]
  },
  {
   "cell_type": "code",
   "execution_count": 28,
   "metadata": {},
   "outputs": [
    {
     "data": {
      "text/latex": [
       "$\\displaystyle \\left[\\begin{matrix}-1 & 2 & -7\\\\0 & -3 & 6\\end{matrix}\\right]$"
      ],
      "text/plain": [
       "Matrix([\n",
       "[-1,  2, -7],\n",
       "[ 0, -3,  6]])"
      ]
     },
     "execution_count": 28,
     "metadata": {},
     "output_type": "execute_result"
    }
   ],
   "source": [
    "A[1:3,1:4]"
   ]
  },
  {
   "cell_type": "markdown",
   "metadata": {},
   "source": [
    "Outras operações básicas"
   ]
  },
  {
   "cell_type": "code",
   "execution_count": 29,
   "metadata": {},
   "outputs": [
    {
     "data": {
      "text/latex": [
       "$\\displaystyle \\left[\\begin{matrix}1 & 0 & 0\\\\0 & 1 & 0\\\\0 & 0 & 1\\end{matrix}\\right]$"
      ],
      "text/plain": [
       "Matrix([\n",
       "[1, 0, 0],\n",
       "[0, 1, 0],\n",
       "[0, 0, 1]])"
      ]
     },
     "execution_count": 29,
     "metadata": {},
     "output_type": "execute_result"
    }
   ],
   "source": [
    "sympy.eye(3)"
   ]
  },
  {
   "cell_type": "code",
   "execution_count": 30,
   "metadata": {},
   "outputs": [
    {
     "data": {
      "text/latex": [
       "$\\displaystyle \\left[\\begin{matrix}1 & 1\\\\1 & 1\\end{matrix}\\right]$"
      ],
      "text/plain": [
       "Matrix([\n",
       "[1, 1],\n",
       "[1, 1]])"
      ]
     },
     "execution_count": 30,
     "metadata": {},
     "output_type": "execute_result"
    }
   ],
   "source": [
    "sympy.ones(2)"
   ]
  },
  {
   "cell_type": "code",
   "execution_count": 31,
   "metadata": {},
   "outputs": [
    {
     "data": {
      "text/latex": [
       "$\\displaystyle \\left[\\begin{matrix}0 & 0 & 0 & 0\\\\0 & 0 & 0 & 0\\\\0 & 0 & 0 & 0\\\\0 & 0 & 0 & 0\\end{matrix}\\right]$"
      ],
      "text/plain": [
       "Matrix([\n",
       "[0, 0, 0, 0],\n",
       "[0, 0, 0, 0],\n",
       "[0, 0, 0, 0],\n",
       "[0, 0, 0, 0]])"
      ]
     },
     "execution_count": 31,
     "metadata": {},
     "output_type": "execute_result"
    }
   ],
   "source": [
    "sympy.zeros(4)"
   ]
  },
  {
   "cell_type": "code",
   "execution_count": 32,
   "metadata": {},
   "outputs": [
    {
     "data": {
      "text/latex": [
       "$\\displaystyle \\left[\\begin{matrix}2 & -2 & 1\\\\-3 & -1 & 0\\\\-8 & 2 & -3\\\\7 & -7 & 6\\end{matrix}\\right]$"
      ],
      "text/plain": [
       "Matrix([\n",
       "[ 2, -2,  1],\n",
       "[-3, -1,  0],\n",
       "[-8,  2, -3],\n",
       "[ 7, -7,  6]])"
      ]
     },
     "execution_count": 32,
     "metadata": {},
     "output_type": "execute_result"
    }
   ],
   "source": [
    "# A.transpose()\n",
    "# ou também se pode fazer\n",
    "A.T"
   ]
  },
  {
   "cell_type": "markdown",
   "metadata": {},
   "source": [
    "### Exercício\n",
    "\n",
    "5.  Represente no SymPy a seguinte matriz:\n",
    "$$ \n",
    " B =\n",
    " \\begin{bmatrix}\n",
    "  0 & \\frac{1}{2} & 2^2 \\\\\n",
    "  1 & \\sqrt 3 & \\frac{\\sqrt 3}{3}\n",
    "\\end{bmatrix}\n",
    "$$"
   ]
  },
  {
   "cell_type": "code",
   "execution_count": null,
   "metadata": {},
   "outputs": [],
   "source": []
  },
  {
   "cell_type": "markdown",
   "metadata": {},
   "source": [
    "#### Aritmética de matrizes\n",
    "\n",
    "Considere as seguintes matrizes:"
   ]
  },
  {
   "cell_type": "code",
   "execution_count": 33,
   "metadata": {},
   "outputs": [
    {
     "data": {
      "text/latex": [
       "$\\displaystyle \\left[\\begin{matrix}1 & 2\\\\3 & 4\\end{matrix}\\right]$"
      ],
      "text/plain": [
       "Matrix([\n",
       "[1, 2],\n",
       "[3, 4]])"
      ]
     },
     "execution_count": 33,
     "metadata": {},
     "output_type": "execute_result"
    }
   ],
   "source": [
    "A = sympy.Matrix( [ [1, 2], [3, 4] ] ); A"
   ]
  },
  {
   "cell_type": "code",
   "execution_count": 34,
   "metadata": {},
   "outputs": [
    {
     "data": {
      "text/latex": [
       "$\\displaystyle \\left[\\begin{matrix}1 & -2\\\\-1 & 0\\end{matrix}\\right]$"
      ],
      "text/plain": [
       "Matrix([\n",
       "[ 1, -2],\n",
       "[-1,  0]])"
      ]
     },
     "execution_count": 34,
     "metadata": {},
     "output_type": "execute_result"
    }
   ],
   "source": [
    "B = sympy.Matrix( [ [1, -2], [-1, 0] ] ); B"
   ]
  },
  {
   "cell_type": "code",
   "execution_count": 35,
   "metadata": {},
   "outputs": [
    {
     "data": {
      "text/latex": [
       "$\\displaystyle \\left[\\begin{matrix}2 & -2\\\\-2 & 2\\end{matrix}\\right]$"
      ],
      "text/plain": [
       "Matrix([\n",
       "[ 2, -2],\n",
       "[-2,  2]])"
      ]
     },
     "execution_count": 35,
     "metadata": {},
     "output_type": "execute_result"
    }
   ],
   "source": [
    "C = sympy.Matrix( [ [2, -2], [-2, 2] ] ); C"
   ]
  },
  {
   "cell_type": "markdown",
   "metadata": {},
   "source": [
    "### Exercício\n",
    "\n",
    "6.  Calcule $A+B$\n",
    "7.  Calcule $A \\cdot B \\cdot C$"
   ]
  },
  {
   "cell_type": "code",
   "execution_count": null,
   "metadata": {},
   "outputs": [],
   "source": []
  },
  {
   "cell_type": "code",
   "execution_count": null,
   "metadata": {},
   "outputs": [],
   "source": []
  },
  {
   "cell_type": "markdown",
   "metadata": {},
   "source": [
    "### Exercício\n",
    "\n",
    "8.  Se o determinante de B for diferente de 0, calcule a inversa de B."
   ]
  },
  {
   "cell_type": "code",
   "execution_count": null,
   "metadata": {},
   "outputs": [],
   "source": []
  },
  {
   "cell_type": "markdown",
   "metadata": {},
   "source": [
    "9.  Se B é invertível, mostre que $B^{-1}\\cdot B = I$."
   ]
  },
  {
   "cell_type": "code",
   "execution_count": null,
   "metadata": {},
   "outputs": [],
   "source": []
  },
  {
   "cell_type": "markdown",
   "metadata": {},
   "source": [
    "### Resolução de uma equação\n",
    "\n",
    "As equações da forma $ Ax=B $ podem ser resolvidas através do método `sympy.LUsolve()`. "
   ]
  },
  {
   "cell_type": "markdown",
   "metadata": {},
   "source": [
    "### Exercício\n",
    "\n",
    "10.  Resolva o sistema de equações lineares:\n",
    "    \n",
    "$$\n",
    "\\begin{array}{l}\n",
    "x + y + z = 6 \\\\ \n",
    "2y + 5z = -4 \\\\ \n",
    "2x + 5y -z = 27\n",
    "\\end{array}\n",
    "$$\n",
    "\n",
    "Comece por reescrever o sistema de forma a ser mais fácil extrair a matriz A e B:\n",
    "    \n",
    "$$\n",
    "\\begin{array}{ccccccc}\n",
    " x & + &  y & + &  z & = &  6 \\\\ \n",
    "   &   & 2y & + & 5z & = & -4 \\\\ \n",
    "2x & + & 5y & - &  z & = & 27\n",
    "\\end{array}\n",
    "$$\n",
    "\n",
    "Extraindo as matrizes, o que queremos resolver é:\n",
    "\n",
    "$$\n",
    " \\begin{bmatrix}\n",
    " 1 & 1 &  1 \\\\ \n",
    " 0 & 2 &  5 \\\\ \n",
    " 2 & 5 & -1\n",
    "\\end{bmatrix}\n",
    " \\begin{bmatrix}\n",
    "x_1 \\\\ \n",
    "x_2 \\\\ \n",
    "x_3\n",
    "\\end{bmatrix} = \n",
    " \\begin{bmatrix}\n",
    "6 \\\\ \n",
    "-4 \\\\ \n",
    "27\n",
    "\\end{bmatrix}\n",
    "$$"
   ]
  },
  {
   "cell_type": "code",
   "execution_count": null,
   "metadata": {},
   "outputs": [],
   "source": []
  },
  {
   "cell_type": "markdown",
   "metadata": {},
   "source": [
    "Podemos comprovar o resultado, ora usando o método $x = A^{-1} \\cdot B$ ou confirmando que $A \\cdot x = B$."
   ]
  },
  {
   "cell_type": "code",
   "execution_count": null,
   "metadata": {},
   "outputs": [],
   "source": []
  },
  {
   "cell_type": "code",
   "execution_count": null,
   "metadata": {},
   "outputs": [],
   "source": []
  }
 ],
 "metadata": {
  "kernelspec": {
   "display_name": "Python 3.7.5 64-bit",
   "language": "python",
   "name": "python37564bit372a6736cb894d57b7e53a4586aaac58"
  },
  "language_info": {
   "codemirror_mode": {
    "name": "ipython",
    "version": 3
   },
   "file_extension": ".py",
   "mimetype": "text/x-python",
   "name": "python",
   "nbconvert_exporter": "python",
   "pygments_lexer": "ipython3",
   "version": "3.7.5"
  }
 },
 "nbformat": 4,
 "nbformat_minor": 2
}