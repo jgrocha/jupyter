{
 "cells": [
  {
   "cell_type": "markdown",
   "metadata": {},
   "source": [
    "# Cálculo simbólico em Python 🐍\n",
    "#### Jorge Gustavo Rocha<br/>Departamento de Informática, Universidade do Minho\n",
    "\n",
    "Nesta ficha vamos continuar a explorar o cálculo simbólico do módulo `sympy` aplicado à Álegebra Linear."
   ]
  },
  {
   "source": [
    "### Definição de matrizes\n",
    "\n",
    "As matrizes podem ser definidas por enumeração passando um lista de linhas, como se fez na ficha anterior. Na forma mais simples, em que cada linha é um valor escalar, a matriz é apenas um vetor (ou uma matriz de dimensão $n \\times 1$). O exemplo seguinte define uma matriz de dimensão $3 \\times 1$."
   ],
   "cell_type": "markdown",
   "metadata": {}
  },
  {
   "cell_type": "code",
   "execution_count": 2,
   "metadata": {},
   "outputs": [
    {
     "output_type": "execute_result",
     "data": {
      "text/plain": [
       "Matrix([\n",
       "[1],\n",
       "[2],\n",
       "[3]])"
      ],
      "text/latex": "$\\displaystyle \\left[\\begin{matrix}1\\\\2\\\\3\\end{matrix}\\right]$"
     },
     "metadata": {},
     "execution_count": 2
    }
   ],
   "source": [
    "import sympy\n",
    "sympy.Matrix([1, 2, 3])"
   ]
  },
  {
   "source": [
    "Para definir uma matriz de dimensão $n \\times m$, usa-se uma lista de listas, como já se fez na ficha anterior."
   ],
   "cell_type": "markdown",
   "metadata": {}
  },
  {
   "cell_type": "code",
   "execution_count": 3,
   "metadata": {},
   "outputs": [
    {
     "output_type": "execute_result",
     "data": {
      "text/plain": [
       "Matrix([\n",
       "[ 2, -3, -8,  7],\n",
       "[-2, -1,  2, -7],\n",
       "[ 1,  0, -3,  6]])"
      ],
      "text/latex": "$\\displaystyle \\left[\\begin{matrix}2 & -3 & -8 & 7\\\\-2 & -1 & 2 & -7\\\\1 & 0 & -3 & 6\\end{matrix}\\right]$"
     },
     "metadata": {},
     "execution_count": 3
    }
   ],
   "source": [
    "sympy.Matrix( [[ 2,-3,-8, 7],[-2,-1, 2,-7],[ 1, 0,-3, 6]] )"
   ]
  },
  {
   "source": [
    "Para definir uma matriz `[1 2 3]`, podem-se usar estas duas formas:"
   ],
   "cell_type": "markdown",
   "metadata": {}
  },
  {
   "cell_type": "code",
   "execution_count": 5,
   "metadata": {},
   "outputs": [
    {
     "output_type": "execute_result",
     "data": {
      "text/plain": [
       "Matrix([[1, 2, 3]])"
      ],
      "text/latex": "$\\displaystyle \\left[\\begin{matrix}1 & 2 & 3\\end{matrix}\\right]$"
     },
     "metadata": {},
     "execution_count": 5
    }
   ],
   "source": [
    "# sympy.Matrix([[1, 2, 3]])\n",
    "sympy.Matrix([1, 2, 3]).T"
   ]
  },
  {
   "source": [
    "### Definição de matrizes indicando as dimensões\n",
    "\n",
    "Por vezes, dá jeito indicar as dimensões ao criar a matriz. Por exemplo, dada uma lista de números, podemos organizá-los de acordo com uma dada geometria, da seguinte forma:"
   ],
   "cell_type": "markdown",
   "metadata": {}
  },
  {
   "cell_type": "code",
   "execution_count": 7,
   "metadata": {},
   "outputs": [
    {
     "output_type": "execute_result",
     "data": {
      "text/plain": [
       "Matrix([\n",
       "[1, 2, 3],\n",
       "[4, 5, 6]])"
      ],
      "text/latex": "$\\displaystyle \\left[\\begin{matrix}1 & 2 & 3\\\\4 & 5 & 6\\end{matrix}\\right]$"
     },
     "metadata": {},
     "execution_count": 7
    }
   ],
   "source": [
    "sympy.Matrix(2, 3, [1, 2, 3, 4, 5, 6])"
   ]
  },
  {
   "source": [
    "A mesma lista de números pode ser arranjada com uma outra geometria:"
   ],
   "cell_type": "markdown",
   "metadata": {}
  },
  {
   "cell_type": "code",
   "execution_count": 9,
   "metadata": {},
   "outputs": [
    {
     "output_type": "execute_result",
     "data": {
      "text/plain": [
       "Matrix([\n",
       "[1, 2],\n",
       "[3, 4],\n",
       "[5, 6]])"
      ],
      "text/latex": "$\\displaystyle \\left[\\begin{matrix}1 & 2\\\\3 & 4\\\\5 & 6\\end{matrix}\\right]$"
     },
     "metadata": {},
     "execution_count": 9
    }
   ],
   "source": [
    "sympy.Matrix(3, 2, [1, 2, 3, 4, 5, 6])"
   ]
  },
  {
   "source": [
    "Recuperando as definições anteriores de uma matriz `[1 2 3]`, podemos accrescentar uma terceira forma:"
   ],
   "cell_type": "markdown",
   "metadata": {}
  },
  {
   "cell_type": "code",
   "execution_count": 10,
   "metadata": {},
   "outputs": [
    {
     "output_type": "execute_result",
     "data": {
      "text/plain": [
       "Matrix([[1, 2, 3]])"
      ],
      "text/latex": "$\\displaystyle \\left[\\begin{matrix}1 & 2 & 3\\end{matrix}\\right]$"
     },
     "metadata": {},
     "execution_count": 10
    }
   ],
   "source": [
    "sympy.Matrix( 1, 3, [1, 2, 3] )"
   ]
  },
  {
   "source": [
    "### Definição da matrizes por funções\n",
    "\n",
    "Por vezes, as matrizes são-nos dadas por funções.\n",
    "\n",
    "Veja como as seguintes matrizes são definidas numa das fichas de Álgebra Linear e Geometria Analítica:\n",
    "\n",
    "$$\n",
    " A_{i,j} =\n",
    " \\begin{Bmatrix}\n",
    "  -1 & \\mbox{se} & i>j \\\\\n",
    "  0 & \\mbox{se} & i=j \\\\\n",
    "  1 & \\mbox{se} & i<j\n",
    " \\end{Bmatrix}, \n",
    " B_{i,j} = \n",
    " \\begin{Bmatrix}\n",
    "  1 & \\mbox{se} & i+j>5 \\\\\n",
    "  0 & \\mbox{se} & i+j<=5\n",
    " \\end{Bmatrix}, \n",
    " C_{i,j} = -1^{(i-j)}\n",
    "$$\n",
    "\n",
    "Nota: pode revisitar a for de definir estas mesmas matrizes em [Octave](http://octave.di.uminho.pt/index.php/Gerar_matrizes_a_partir_de_fun%C3%A7%C3%B5es_f(i,j))."
   ],
   "cell_type": "markdown",
   "metadata": {}
  },
  {
   "cell_type": "code",
   "execution_count": 13,
   "metadata": {},
   "outputs": [
    {
     "output_type": "execute_result",
     "data": {
      "text/plain": [
       "Matrix([\n",
       "[ 0,  1,  1, 1],\n",
       "[-1,  0,  1, 1],\n",
       "[-1, -1,  0, 1],\n",
       "[-1, -1, -1, 0]])"
      ],
      "text/latex": "$\\displaystyle \\left[\\begin{matrix}0 & 1 & 1 & 1\\\\-1 & 0 & 1 & 1\\\\-1 & -1 & 0 & 1\\\\-1 & -1 & -1 & 0\\end{matrix}\\right]$"
     },
     "metadata": {},
     "execution_count": 13
    }
   ],
   "source": [
    "def a(i,j):\n",
    "    if i > j:\n",
    "        return -1\n",
    "    elif i == j:\n",
    "        return 0\n",
    "    else:\n",
    "        return 1\n",
    "sympy.Matrix(4, 4, a)"
   ]
  },
  {
   "cell_type": "code",
   "execution_count": 14,
   "metadata": {},
   "outputs": [
    {
     "output_type": "execute_result",
     "data": {
      "text/plain": [
       "Matrix([\n",
       "[0, 0, 0, 0],\n",
       "[0, 0, 0, 0],\n",
       "[0, 0, 0, 0],\n",
       "[0, 0, 0, 1]])"
      ],
      "text/latex": "$\\displaystyle \\left[\\begin{matrix}0 & 0 & 0 & 0\\\\0 & 0 & 0 & 0\\\\0 & 0 & 0 & 0\\\\0 & 0 & 0 & 1\\end{matrix}\\right]$"
     },
     "metadata": {},
     "execution_count": 14
    }
   ],
   "source": [
    "def b(i,j):\n",
    "    if i + j > 5:\n",
    "        return 1\n",
    "    else:\n",
    "        return 0\n",
    "sympy.Matrix(4, 4, b)"
   ]
  },
  {
   "cell_type": "code",
   "execution_count": 33,
   "metadata": {},
   "outputs": [
    {
     "output_type": "execute_result",
     "data": {
      "text/plain": [
       "Matrix([\n",
       "[-1,  0,  1,  2],\n",
       "[-2, -1,  0,  1],\n",
       "[-3, -2, -1,  0],\n",
       "[-4, -3, -2, -1]])"
      ],
      "text/latex": "$\\displaystyle \\left[\\begin{matrix}-1 & 0 & 1 & 2\\\\-2 & -1 & 0 & 1\\\\-3 & -2 & -1 & 0\\\\-4 & -3 & -2 & -1\\end{matrix}\\right]$"
     },
     "metadata": {},
     "execution_count": 33
    }
   ],
   "source": [
    "def c(i,j):\n",
    "    return -1^int(i-j)\n",
    "sympy.Matrix(4, 4, c)\n"
   ]
  },
  {
   "source": [
    "As funções inline (lambda) podem ser usadas para escrever expressões mais compactas. A última matriz podia ser definida com a seguinte expressão:"
   ],
   "cell_type": "markdown",
   "metadata": {}
  },
  {
   "cell_type": "code",
   "execution_count": 35,
   "metadata": {},
   "outputs": [
    {
     "output_type": "execute_result",
     "data": {
      "text/plain": [
       "Matrix([\n",
       "[-1,  0,  1,  2],\n",
       "[-2, -1,  0,  1],\n",
       "[-3, -2, -1,  0],\n",
       "[-4, -3, -2, -1]])"
      ],
      "text/latex": "$\\displaystyle \\left[\\begin{matrix}-1 & 0 & 1 & 2\\\\-2 & -1 & 0 & 1\\\\-3 & -2 & -1 & 0\\\\-4 & -3 & -2 & -1\\end{matrix}\\right]$"
     },
     "metadata": {},
     "execution_count": 35
    }
   ],
   "source": [
    "sympy.Matrix(4, 4, lambda i,j: -1^int(i-j) )"
   ]
  }
 ],
 "metadata": {
  "kernelspec": {
   "display_name": "Python 3",
   "language": "python",
   "name": "python3"
  },
  "language_info": {
   "codemirror_mode": {
    "name": "ipython",
    "version": 3
   },
   "file_extension": ".py",
   "mimetype": "text/x-python",
   "name": "python",
   "nbconvert_exporter": "python",
   "pygments_lexer": "ipython3",
   "version": "3.8.5"
  }
 },
 "nbformat": 4,
 "nbformat_minor": 2
}