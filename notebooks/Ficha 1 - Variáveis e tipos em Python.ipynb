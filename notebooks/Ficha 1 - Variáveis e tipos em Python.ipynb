{
 "cells": [
  {
   "cell_type": "markdown",
   "metadata": {},
   "source": [
    "# Variáveis e tipos em Python 🐍\n",
    "Jorge Gustavo Rocha\\\n",
    "Departamento de Informática, Universidade do Minho\\\n",
    "27 de abril de 2020\n",
    "\n",
    "O Python é uma linguagem tipada, isto é, as operações só fazem sentido para um determinado tipo de operando. Se o tipo do operando não é o adequado, o Python interrompe a execução.\n",
    "\n",
    "Nestes exercícios vamos introduzir as variáveis, os tipos e os objectos. São alguns dos conceitos fundamentais para se programar em Python."
   ]
  },
  {
   "cell_type": "markdown",
   "metadata": {},
   "source": [
    "## Variáveis\n",
    "As variáveis são usadas para guardar dados, para posterior utilização.\n",
    "No exemplo seguinte definem-se duas variáveis `g` e `nome`que posteriormente são usadas na função `print()`."
   ]
  },
  {
   "cell_type": "code",
   "execution_count": 1,
   "metadata": {},
   "outputs": [],
   "source": [
    "g = 9.8\n",
    "nome = 'Galileu Galilei'\n",
    "print( \"A aceleração da gravidade é {} m/s^2 e já era do conhecimento do {}\".format( g, nome ))"
   ]
  },
  {
   "cell_type": "markdown",
   "metadata": {},
   "source": [
    "### Nomes das variáveis\n",
    "\n",
    "Como em qualquer linguagem, o Python tem regras muito bem definidas para os [identificadores](https://docs.python.org/3/reference/lexical_analysis.html#identifiers).\n",
    "\n",
    "1. As variáveis têm que começar com uma letra ou `_`. Não podem começar com algarismos.\n",
    "1. As variáveis só podem conter letras, algarismos e `_`. Boa notícia para os portugueses: as letras acentuadas são aceites.\n",
    "1. As letras maiúsculas são diferentes das minúsculas. Por isso, as variáveis `nome`, `Nome` e `NOME` são todas diferentes.\n",
    "\n",
    "Exemplos de identificadores para variáveis:\n",
    "\n",
    "| Válido        | Inválido      | \n",
    "|:-------------:|:-------------:|\n",
    "| `data`        | `2vezes`      | \n",
    "| `data2`       | `%perc`       | \n",
    "| `ângulo`      | `o ângulo`    |\n",
    "| `vel_inicial` | `vel-inicial` | "
   ]
  },
  {
   "cell_type": "markdown",
   "metadata": {},
   "source": [
    "#### Exercício\n",
    "Complete o código seguinte, de forma a provar que as duas variáveis são diferentes (por diferirem em maiúsculas e minúsculas)."
   ]
  },
  {
   "cell_type": "code",
   "execution_count": 2,
   "metadata": {},
   "outputs": [],
   "source": [
    "nome = 'Manuel'\n",
    "Nome = 'Maria'"
   ]
  },
  {
   "cell_type": "markdown",
   "metadata": {},
   "source": [
    "### Atribuição\n",
    "A atribuição de uma valor a uma variável, como já se viu, na sua forma mais simples é:\n",
    "```python\n",
    "g = 9.8\n",
    "```\n",
    "\n",
    "Como usamos o símbolo `=` para atribuir valores a variáveis. Para comparar dois valores, temos que usar um símbolo diferente, que é o `==`. Ou seja, as seguintes expressões são completamente diferentes:\n",
    "```python\n",
    "g = 9.8\n",
    "g == 9.8\n",
    "```\n",
    "A expressão `g == 9.8` dá sempre um resultado booleano (`True` ou `False`)."
   ]
  },
  {
   "cell_type": "markdown",
   "metadata": {},
   "source": [
    "Em Python, pode-se fazer várias atribuições numa só linha. Por exemplo:"
   ]
  },
  {
   "cell_type": "code",
   "execution_count": 3,
   "metadata": {},
   "outputs": [
    {
     "name": "stdout",
     "output_type": "stream",
     "text": [
      "Pode-se formar qualquer cor juntando: Vermelho, Verde e Azul\n"
     ]
    }
   ],
   "source": [
    "r, g, b = \"Vermelho\", \"Verde\", \"Azul\"\n",
    "print(\"Pode-se formar qualquer cor juntando: {}, {} e {}\".format( r, g, b) ) "
   ]
  },
  {
   "cell_type": "markdown",
   "metadata": {},
   "source": [
    "Pode-se, também, atribuir o mesmo valor a várias variáveis."
   ]
  },
  {
   "cell_type": "code",
   "execution_count": 4,
   "metadata": {},
   "outputs": [
    {
     "name": "stdout",
     "output_type": "stream",
     "text": [
      "0 0 0\n"
     ]
    }
   ],
   "source": [
    "i = k = j = 0\n",
    "print(i, j, k)"
   ]
  },
  {
   "cell_type": "markdown",
   "metadata": {},
   "source": [
    "#### Exercício\n",
    "Use a função predefinida [divmod](https://docs.python.org/3/library/functions.html#divmod) para calcular o quociente e o resto da divisão de 17 por 5. \n",
    "\n",
    "Nota: A função `divmod()` retorna um `tuple` (um par)."
   ]
  },
  {
   "cell_type": "code",
   "execution_count": null,
   "metadata": {},
   "outputs": [],
   "source": []
  },
  {
   "cell_type": "markdown",
   "metadata": {},
   "source": [
    "## Tipos\n",
    "Os principais tipos predefinidos do Python são:\n",
    "\n",
    "| Categoria     | Tipo                      | \n",
    "|:--------------|:--------------------------|\n",
    "| Numéricos     | `int`, `float`, `complex` | \n",
    "| Texto         | `str`                     | \n",
    "| Coleções      | `list`, `tuple`, `range`  |\n",
    "| Dicionário    | `dict`                    | \n",
    "| Conjuntos     | `set`, `frozenset`                 | \n",
    "| Booleano      | `bool`                             | \n",
    "| Binários      | `bytes`, `bytearray`, `memoryview` | \n",
    "| Funções       | `builtin_function_or_method` | \n"
   ]
  },
  {
   "cell_type": "markdown",
   "metadata": {},
   "source": [
    "Como o Python é tipado (como já se disse), temos que ter cuidado com as operações e o tipo dos operandos.\n",
    "Por exemplo, tente correr o seguinte código:"
   ]
  },
  {
   "cell_type": "code",
   "execution_count": 5,
   "metadata": {},
   "outputs": [
    {
     "name": "stdout",
     "output_type": "stream",
     "text": [
      "1969\n"
     ]
    },
    {
     "ename": "TypeError",
     "evalue": "unsupported operand type(s) for -: 'int' and 'str'",
     "output_type": "error",
     "traceback": [
      "\u001b[0;31m---------------------------------------------------------------------------\u001b[0m",
      "\u001b[0;31mTypeError\u001b[0m                                 Traceback (most recent call last)",
      "\u001b[0;32m<ipython-input-5-bc9eb23e8dc3>\u001b[0m in \u001b[0;36m<module>\u001b[0;34m\u001b[0m\n\u001b[1;32m      3\u001b[0m \u001b[0;34m\u001b[0m\u001b[0m\n\u001b[1;32m      4\u001b[0m \u001b[0mano_nascimento\u001b[0m \u001b[0;34m=\u001b[0m \u001b[0minput\u001b[0m\u001b[0;34m(\u001b[0m\u001b[0;34m)\u001b[0m\u001b[0;34m\u001b[0m\u001b[0;34m\u001b[0m\u001b[0m\n\u001b[0;32m----> 5\u001b[0;31m \u001b[0mprint\u001b[0m\u001b[0;34m(\u001b[0m\u001b[0;34m\"Você tem {} anos.\"\u001b[0m\u001b[0;34m.\u001b[0m\u001b[0mformat\u001b[0m\u001b[0;34m(\u001b[0m\u001b[0mano_atual\u001b[0m \u001b[0;34m-\u001b[0m \u001b[0mano_nascimento\u001b[0m\u001b[0;34m)\u001b[0m \u001b[0;34m)\u001b[0m\u001b[0;34m\u001b[0m\u001b[0;34m\u001b[0m\u001b[0m\n\u001b[0m",
      "\u001b[0;31mTypeError\u001b[0m: unsupported operand type(s) for -: 'int' and 'str'"
     ]
    }
   ],
   "source": [
    "from datetime import date\n",
    "ano_atual = date.today().year\n",
    "\n",
    "ano_nascimento = input()\n",
    "print(\"Você tem {} anos.\".format(ano_atual - ano_nascimento) )"
   ]
  },
  {
   "cell_type": "markdown",
   "metadata": {},
   "source": [
    "Porque é que o exemplo anterior corre mal? Porque a variável `ano_nascimento` que fica com o resultado da função `input()` é do tipo `str`. Por isso, o Python não consegue fazer a subtração: `ano_atual - ano_nascimento` entre um `int` e uma `str`.\n",
    "\n",
    "No código seguinte, assegura-se que a variável `ano_nascimento` é convertida em `int` com `int(ano_nascimento)`."
   ]
  },
  {
   "cell_type": "code",
   "execution_count": null,
   "metadata": {},
   "outputs": [],
   "source": [
    "from datetime import date\n",
    "ano_atual = date.today().year\n",
    "\n",
    "ano_nascimento = input()\n",
    "print(\"Você tem {} anos.\".format(ano_atual - int(ano_nascimento)) )"
   ]
  },
  {
   "cell_type": "markdown",
   "metadata": {},
   "source": [
    "### Tipo de uma variável\n",
    "Para investigar o tipo de uma variável, usa-se a função `type()`."
   ]
  },
  {
   "cell_type": "code",
   "execution_count": null,
   "metadata": {},
   "outputs": [],
   "source": [
    "ano_nascimento = input()\n",
    "type(ano_nascimento)"
   ]
  },
  {
   "cell_type": "code",
   "execution_count": null,
   "metadata": {},
   "outputs": [],
   "source": [
    "planetas = [ 'Mercúrio', 'Vénus', 'Terra', 'Marte', 'Júpiter', 'Saturno', 'Urano', 'Neptuno' ]\n",
    "type(planetas)"
   ]
  },
  {
   "cell_type": "code",
   "execution_count": null,
   "metadata": {},
   "outputs": [],
   "source": [
    "planetas[0]"
   ]
  },
  {
   "cell_type": "code",
   "execution_count": null,
   "metadata": {},
   "outputs": [],
   "source": [
    "type(planetas[0])"
   ]
  },
  {
   "cell_type": "markdown",
   "metadata": {},
   "source": [
    "Uma variável em Python não tem que ter sempre o mesmo tipo. A qualquer momento pode-se atribuir um valor de outro tipo à mesma variável."
   ]
  },
  {
   "cell_type": "code",
   "execution_count": null,
   "metadata": {},
   "outputs": [],
   "source": [
    "x = 3.14159\n",
    "x = 'Salazar Slytherin'\n",
    "type(x)"
   ]
  },
  {
   "cell_type": "markdown",
   "metadata": {},
   "source": [
    "Caso seja preciso confirmar se uma variável é de um determinado tipo, pode-se usar a função `isinstance()`."
   ]
  },
  {
   "cell_type": "code",
   "execution_count": null,
   "metadata": {},
   "outputs": [],
   "source": [
    "x = 3.14159\n",
    "isinstance(x,int)"
   ]
  },
  {
   "cell_type": "markdown",
   "metadata": {},
   "source": [
    "#### Exercício\n",
    "Prove que `'Amor de perdição'` e `\"Amor de perdição\"`são ambas do tipo `str` e que são iguais, sendo uma escrita com `'` e outra com `\"`."
   ]
  },
  {
   "cell_type": "code",
   "execution_count": null,
   "metadata": {},
   "outputs": [],
   "source": []
  }
 ],
 "metadata": {
  "authors": [
   {
    "name": "Jorge Gustavo Rocha"
   }
  ],
  "kernelspec": {
   "display_name": "Python 3.7.5 64-bit",
   "language": "python",
   "name": "python37564bit372a6736cb894d57b7e53a4586aaac58"
  },
  "language_info": {
   "codemirror_mode": {
    "name": "ipython",
    "version": 3
   },
   "file_extension": ".py",
   "mimetype": "text/x-python",
   "name": "python",
   "nbconvert_exporter": "python",
   "pygments_lexer": "ipython3",
   "version": "3.7.5"
  }
 },
 "nbformat": 4,
 "nbformat_minor": 2
}
