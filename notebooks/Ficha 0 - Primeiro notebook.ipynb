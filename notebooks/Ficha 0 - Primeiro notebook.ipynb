{
 "cells": [
  {
   "cell_type": "markdown",
   "metadata": {},
   "source": [
    "# Primeiro notebook 🐍\n",
    "Jorge Gustavo Rocha\\\n",
    "Departamento de Informática, Universidade do Minho\\\n",
    "30 de março de 2020\n",
    "\n",
    "## Instalação do Python\n",
    "Para a instalação do Python e do Jupyter, existem duas alternativas.\n",
    "\n",
    "A primeira alternativa é minimalista e consiste em instalar apenas os pacotes que interessam. No Windows, descarregue e instale o [Python](https://www.python.org/downloads/). Depois, instale o Jupyter com o comando `pip` fazendo: `pip install notebook`. No Linux já deve ter uma instalação do Python pronta a funcionar. Acrescente o Jupyter como o comando: `pip install notebook` (ou eventualmente `pip3 install notebook`).\n",
    "\n",
    "Em alternativa, use o [Anaconda](https://www.anaconda.com/products/individual) para instalar o Python, o Jupyter e outros módulos. O Anaconda é um ecossitema Python com ferramentas próprias para gerir os módulos.\n",
    "\n",
    "## Documentação sobre o Python\n",
    "Existe imensa documentação sobre o Python. A [documentação oficial](https://docs.python.org/3/) é mais técnica, com a preocupação de ser rigorosa. Não é um bom ponto de partida, mas é seguramente o melhor sítio para alguma dúvida que fique. Complementarmente à documentação oficial, existem muitos tutoriais e cursos de Python, com objetivos mais pedagógicos e fáceis de seguir.\n",
    "\n",
    "## Documentação sobre o Jupyter\n",
    "Enquanto não estiver familiarizado com o Jupyter, o melhor ponto de partida para obter mais informação é o menu Help do próprio Jupyter. A partir daí obtém muita informação.\n",
    " \n",
    "Pode também consultar a [documentação oficial](https://jupyter-notebook.readthedocs.io/en/stable/notebook.html#introduction).\n",
    "\n",
    "Se estiver mesmo a começar, procure e leia um pequeno tutorial, como este [Jupyter Notebook: An Introduction](https://realpython.com/jupyter-notebook-introduction/), entre os muitos que existem na net.\n",
    "\n",
    "Para acelerar a edição no Jupyter, consulte a [lista de atalhos](https://towardsdatascience.com/jypyter-notebook-shortcuts-bf0101a98330) que existem para criar células, mudar o tipo de célula, executar, etc. \n",
    "\n",
    "Por exemplo, fazendo <kbd>Alt</kbd> + <kbd>Enter</kbd>, executa a célula atual e cria uma nova por baixo.\n",
    "\n",
    "Além dos atalhos, há mais uns [truques](https://www.dataquest.io/blog/jupyter-notebook-tips-tricks-shortcuts/) que dão jeito.\n",
    "\n",
    "Para escrever nas células de texto, use o [guia Markdown](https://help.github.com/en/github/writing-on-github/basic-writing-and-formatting-syntax) que é indicado no Help do Jupyter. Em alternativa, uso o [guia de Markdown](https://medium.com/analytics-vidhya/the-ultimate-markdown-guide-for-jupyter-notebook-d5e5abf728fd)."
   ]
  },
  {
   "cell_type": "markdown",
   "metadata": {},
   "source": [
    "### Arrancar o Jupyter\n",
    "\n",
    "Depois de devidamente instalado, arranca-se o Jupyter com:\n",
    "```bash\n",
    "jupyter notebook\n",
    "```\n",
    "\n",
    "O servidor fica a correr, dando a indicação do URL que deve ser usado para se ligar ao servidor. O endereço predefinido é algo como:http://localhost:8888/?token=57b895db2c2294fd9a98d66253849a47106240a3831ab785\n",
    "\n",
    "Em princípio, assim que se lança do servidor, o navegador abre automaticamente no endereço correto."
   ]
  },
  {
   "cell_type": "markdown",
   "metadata": {},
   "source": [
    "Os notebooks são documentos formados por uma sucessão de células. Cada célula pode conter texto ou código Python.\n",
    "\n",
    "As células de texto podem conter texto corrido ou, para uma apresentaçao mais cuidada, formatações de acordo com o formato Markdown.\n",
    "\n",
    "As células com código podem ser executadas pelo Python e o resultado é incluído no próprio notebook."
   ]
  },
  {
   "cell_type": "code",
   "execution_count": 6,
   "metadata": {},
   "outputs": [
    {
     "name": "stdout",
     "output_type": "stream",
     "text": [
      "Bom dia!\n"
     ]
    }
   ],
   "source": [
    "print(\"Bom dia!\")"
   ]
  },
  {
   "cell_type": "markdown",
   "metadata": {},
   "source": [
    "Entre as células com código, pode-se acrescentar toda a documentação necessária."
   ]
  },
  {
   "cell_type": "code",
   "execution_count": 7,
   "metadata": {},
   "outputs": [
    {
     "name": "stdout",
     "output_type": "stream",
     "text": [
      " 1 x 8 =  8 \n",
      " 2 x 8 = 16 \n",
      " 3 x 8 = 24 \n",
      " 4 x 8 = 32 \n",
      " 5 x 8 = 40 \n",
      " 6 x 8 = 48 \n",
      " 7 x 8 = 56 \n",
      " 8 x 8 = 64 \n",
      " 9 x 8 = 72 \n",
      "10 x 8 = 80 \n"
     ]
    }
   ],
   "source": [
    "for i in range(1,11):\n",
    "    print('{:>2} x {} = {:>2} '.format( i, 8, 8*i) )"
   ]
  }
 ],
 "metadata": {
  "authors": [
   {
    "name": "Jorge Gustavo Rocha"
   }
  ],
  "kernelspec": {
   "display_name": "Python 3",
   "language": "python",
   "name": "python3"
  },
  "language_info": {
   "codemirror_mode": {
    "name": "ipython",
    "version": 3
   },
   "file_extension": ".py",
   "mimetype": "text/x-python",
   "name": "python",
   "nbconvert_exporter": "python",
   "pygments_lexer": "ipython3",
   "version": "3.7.5"
  }
 },
 "nbformat": 4,
 "nbformat_minor": 2
}
