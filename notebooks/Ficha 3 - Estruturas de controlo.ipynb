{
 "cells": [
  {
   "attachments": {},
   "cell_type": "markdown",
   "metadata": {},
   "source": [
    "# Estruturas de Controlo em Python🐍\n",
    "Jorge Gustavo Rocha\\\n",
    "Departamento de Informática, Universidade do Minho\\\n",
    "10 de março de 2023\n",
    "\n",
    "Um programa geralmente não segue uma execução linear de todas as instruções.\n",
    "\n",
    "Há instruções que só que querem executar em determinadas condições. Para tal, usa-se uma estrutura de controlo:\n",
    "```\n",
    "if..else...\n",
    "```\n",
    "\n",
    "Noutros casos, pretende-se repetir múltiplas vezes o mesmo conjunto de instruções. Para tal, usam-se as estruturas de controlo:\n",
    "```\n",
    "while\n",
    "for\n",
    "```\n",
    "\n",
    "Um outra forma de controlar a execução, é recorrendo a exceções. As instruções:\n",
    "```\n",
    "raise Exception()\n",
    "try ... except\n",
    "```\n",
    "permitem-nos controlar a execução através de exceções.\n"
   ]
  },
  {
   "cell_type": "markdown",
   "metadata": {},
   "source": [
    "## Condições e declarações If\n",
    "O Python suporta as condições lógicas comuns da matemática:\n",
    "\n",
    "* Igualdade : `a == b`\n",
    "* Diferença : `a != b`\n",
    "* Menor : `a < b`\n",
    "* Menor ou igual : `a <= b`\n",
    "* Maior : `a > b`\n",
    "* Maior ou igual : `a >= b`\n",
    "\n",
    "Estas condições, em conjunto com qualquer outra que retorne um resultado do tipo `bool`, são normalmente utilizadas na construção de declarações `if else` ou em ciclos."
   ]
  },
  {
   "cell_type": "code",
   "execution_count": null,
   "metadata": {},
   "outputs": [],
   "source": [
    "a = 330\n",
    "b = 200\n",
    "if b > a:\n",
    "  print(\"b é maior do que a\")\n",
    "  \n",
    "else:\n",
    "  print(\"a é maior do que b\")"
   ]
  },
  {
   "attachments": {},
   "cell_type": "markdown",
   "metadata": {},
   "source": [
    "### Indentação\n",
    "O Python depende da indentação (n.º de espaços antes de cada declaração) para definir o contexto de cada comando. Nas declarações `if else` e nos ciclos devemos ter especial atenção à indentação.\n",
    "\n",
    "No exemplo seguinte, **a indentação está mal**."
   ]
  },
  {
   "cell_type": "code",
   "execution_count": null,
   "metadata": {},
   "outputs": [],
   "source": [
    "a = 33\n",
    "b = 200\n",
    "if b > a:\n",
    "print(\"b é maior do que a\")"
   ]
  },
  {
   "attachments": {},
   "cell_type": "markdown",
   "metadata": {},
   "source": [
    "## Ciclos\n",
    "\n",
    "Com frequência, pretende-se repetir múltiplas vezes o mesmo conjunto de instruções. Para tal, usam-se as estruturas de controlo `while` e `for`.\n",
    "\n",
    "O ciclo `while` executa um conjunto de instruções enquanto uma condição seja verdadeira."
   ]
  },
  {
   "cell_type": "code",
   "execution_count": null,
   "metadata": {},
   "outputs": [],
   "source": [
    "i = 1\n",
    "while i < 6:\n",
    "    print(i)\n",
    "    i = i + 1"
   ]
  },
  {
   "cell_type": "markdown",
   "metadata": {},
   "source": [
    "O ciclo `for` é usado para iterar sobre uma sequência (lista, tuplo, dicionário, conjunto, ou string). Com o ciclo `for`, podemos executar um conjunto de instruções para cada elemento de uma lista, dicionário, etc."
   ]
  },
  {
   "cell_type": "code",
   "execution_count": null,
   "metadata": {},
   "outputs": [],
   "source": [
    "frutas = [\"maça\", \"banana\", \"cereja\"]\n",
    "for fruta in frutas:\n",
    "  print(fruta.upper())"
   ]
  },
  {
   "cell_type": "markdown",
   "metadata": {},
   "source": [
    "### Declarações `break` e `continue`\n",
    "\n",
    "`break` é utilizado para sair de um ciclo `for` ou `while` antes de este terminar, enquanto que `continue` é utilizado para saltar a execução atual e continuar o ciclo na iteração seguinte."
   ]
  },
  {
   "cell_type": "code",
   "execution_count": null,
   "metadata": {},
   "outputs": [],
   "source": [
    "print('Imprimir números de 0 a 4')\n",
    "count = 0\n",
    "while True:\n",
    "    print(count)\n",
    "    count = count + 1\n",
    "    if count >= 5:\n",
    "        break"
   ]
  },
  {
   "cell_type": "code",
   "execution_count": null,
   "metadata": {},
   "outputs": [],
   "source": [
    "print('\\nImprimir números ímpares de 1 a 10')\n",
    "for x in range(10):\n",
    "    if x % 2 == 0:\n",
    "        continue\n",
    "    print(x)"
   ]
  },
  {
   "cell_type": "markdown",
   "metadata": {},
   "source": [
    "### Tratar exceções\n",
    "Quando ocorre um erro de execução, ou uma exceção como designamos em programação, o Python normalmente interrompe a execução e origina uma mensagem de erro.\n",
    "\n",
    "Essas exceções podem ser tratadas usando a instrução `try ... except`. Através desta estrutura de controlo podemos definir código alternativo para o caso de uma instrução resultar em erro.\n",
    "\n",
    "No seguinte exemplo utilizamos a função `divmod` para calcular o quociente e o resto da divisão inteira de um número introduzido pelo utilizador por 2. Com a utilização do `try ... except` garantimos que mesmo que o utilizador introduza dados que não possam ser convertidos para `int`, o programa não resulta em erro."
   ]
  },
  {
   "cell_type": "code",
   "execution_count": 5,
   "metadata": {},
   "outputs": [
    {
     "name": "stdout",
     "output_type": "stream",
     "text": [
      "A divisão de 123 por 2 tem como resultado quociente 61 e resto 1\n"
     ]
    }
   ],
   "source": [
    "num = input()\n",
    "try:\n",
    "    quociente, resto = divmod(int(num), 2)\n",
    "    print('A divisão de {} por {} tem como resultado quociente {} e resto {}'.format(num, 2, quociente, resto))\n",
    "except:\n",
    "    print('Por favor introduza um número inteiro')"
   ]
  },
  {
   "cell_type": "markdown",
   "metadata": {},
   "source": [
    "**Nota**: quando se usa um bloco `try..except` e ocorre uma exceção, o kernel Python que está por trás a correr o código Python **pode bloquear**. Ou seja, deixa de poder correr o código que está nas células, porque o kernel está parado.\n",
    "\n",
    "Para se poder continuar a correr o código das células normalmente, sem que o kernel fique bloqueado quando é gerada uma exceção, é preciso marcar a célula com um tag especial <kbd>raises-exception</kbd>. \n",
    "\n",
    "Se usar o browser, tem que ir a View → Cell Toolbar → Tags. Passa a ver uma nova barra por cima das células. Acrescente a tag <kbd>raises-exception</kbd> nas células onde usa blocos `try..except`, __como acontece neste notebook__. Depois pode voltar a esconder a toolbar das células, indo a View → Cell Toolbar → None.\n",
    "\n",
    "Se usar o Visual Studio Code, no botão <kbd>...</kbd> tem uma opção <kbd>Add Cell Tag</kbd>. "
   ]
  },
  {
   "cell_type": "markdown",
   "metadata": {},
   "source": [
    "# Dados\n",
    "\n",
    "Para estes exercícios com estruturas de controlo, vamos usar caixas para entrada de dados (usando a função `input()` e as estruturas de dados seguintes."
   ]
  },
  {
   "cell_type": "code",
   "execution_count": 7,
   "metadata": {},
   "outputs": [],
   "source": [
    "import numpy as np\n",
    "populacao = { \"Amares\": 19853, \"Barcelos\": 124555, \"Braga\": 176154, \"Cabeceiras de Basto\": 17635, \"Celorico de Basto\": 19767, \"Esposende\": 35552, \"Fafe\": 53600, \"Guimarães\": 162636, \"Póvoa de Lanhoso\": 24230, \"Terras de Bouro\": 7506, \"Vieira do Minho\": 14077, \"Vila Nova de Famalicão\": 134969, \"Vila Verde\": 49171, \"Vizela\": 24477 }\n",
    "vel = np.array([ 50, 50, 70, 90, 120 ])"
   ]
  },
  {
   "cell_type": "markdown",
   "metadata": {},
   "source": [
    "## Entrada de dados\n",
    "\n",
    "1. (**Resolvido**) Leia o nome do utilizador e apresente o nome em maiúsculas."
   ]
  },
  {
   "cell_type": "code",
   "execution_count": 1,
   "metadata": {},
   "outputs": [
    {
     "data": {
      "text/plain": [
       "'JORGE GUSTAVO'"
      ]
     },
     "execution_count": 1,
     "metadata": {},
     "output_type": "execute_result"
    }
   ],
   "source": [
    "nome=input()\n",
    "nome.upper()"
   ]
  },
  {
   "attachments": {},
   "cell_type": "markdown",
   "metadata": {},
   "source": [
    "2. (**Resolvido**) Leia uma palavra e mostre-a de trás para frente. Use as sugestões do [stackoverflow](https://stackoverflow.com/questions/931092/reverse-a-string-in-python) para calcular a string ao contrário."
   ]
  },
  {
   "cell_type": "code",
   "execution_count": 2,
   "metadata": {},
   "outputs": [
    {
     "name": "stdout",
     "output_type": "stream",
     "text": [
      "luza átse uéc O\n"
     ]
    }
   ],
   "source": [
    "palavra = input()\n",
    "print(palavra[::-1])"
   ]
  },
  {
   "cell_type": "markdown",
   "metadata": {},
   "source": [
    "## Estruturas condicionais\n",
    "\n",
    "1. Leia um número de diga se é um número interiro.\n",
    "1. Leia um número de diga se é um número real.\n",
    "1. Leia um número de diga se é positivo, negativo ou zero.\n",
    "1. Leia um número e diga se é par ou ímpar, mas se e só se o número for inteiro. Se não for um inteiro, diga: \"Número inválido: tem que ser um número inteiro\"\n",
    "1. Leia a data de nascimento e diga a idade que o utilizador tem. Use a função `date.today()` para saber a data de hoje (tem que preceder com `from datetime import date`).\n",
    "1. Leia o nome próprio do utilizador. Responda 'válido', se o nome não contém nenhum espaço. Resposta 'inválido', se o nome contém um espaço como em `Ana Rita`, por exemplo."
   ]
  },
  {
   "cell_type": "markdown",
   "metadata": {},
   "source": [
    "## Estruturas cíclicas: `for`\n",
    "\n",
    "1. Use um ciclo `for` para mostrar o nome dos concelhos do dicionário `populacao`.\n",
    "1. Use o mesmo ciclo `for` e mostre apenas os concelhos do dicionário `populacao` que têm mais de 50 000 habitantes\n",
    "1. Use um ciclo `for` para calcular a média das velocidades do vetor `vel`.\n",
    "1. Use um ciclo `for` para calcular a velocidade máxima que consta do vetor `vel`."
   ]
  },
  {
   "cell_type": "markdown",
   "metadata": {},
   "source": [
    "## Estruturas cíclicas: `while`\n",
    "\n",
    "1.  Use um ciclo `while` para percorrer o dicionário `populacao` e mostrar os concelhos que seriam precisos para juntar no mínimo 200 000 habitantes.\n",
    "1. Use um ciclo `while` para percorrer o dicionário `populacao` e mostrar os três primeiros concelhos que tenham o nome formado por mais do que uma palavra (como `\"Cabeceiras de Basto\"`, por exemplo."
   ]
  }
 ],
 "metadata": {
  "authors": [
   {
    "name": "Jorge Gustavo Rocha"
   }
  ],
  "kernelspec": {
   "display_name": "Python 3",
   "language": "python",
   "name": "python3"
  },
  "language_info": {
   "codemirror_mode": {
    "name": "ipython",
    "version": 3
   },
   "file_extension": ".py",
   "mimetype": "text/x-python",
   "name": "python",
   "nbconvert_exporter": "python",
   "pygments_lexer": "ipython3",
   "version": "3.10.6"
  }
 },
 "nbformat": 4,
 "nbformat_minor": 2
}
