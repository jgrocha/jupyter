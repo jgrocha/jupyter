{
 "cells": [
  {
   "cell_type": "markdown",
   "metadata": {},
   "source": [
    "# Programação Orientada a Objetos em Python 🐍\n",
    "#### Jorge Gustavo Rocha<br/>Departamento de Informática, Universidade do Minho<br/>27 de abril de 2020\n",
    "\n",
    "\n",
    "O Python é uma linguagem de programação que complementa os conceitos da Programação Imperativa com a Programação Orientada a Objectos.\n",
    "\n",
    "Esta ficha introduz apenas conceitos e não tem exercícios."
   ]
  },
  {
   "cell_type": "markdown",
   "metadata": {},
   "source": [
    "## Funções\n",
    "Em Python estamos recorrentemente a usar funções predefinidas, como `print()`, `type()`, `len()`, etc ou mesmo a definir novas funções. As funções são uma peça fundamental na **Programação Imperativa** para construir programas, pois permitem agregar uma sequência de instruções muito utilizada numa função, que depois se usa quantas vezes for preciso.\n",
    "\n",
    "Na **Programação Imperativa** tipicamente usam-se funções e módulos (que nos permite dividir os programas em blocos que se podem reutilizar) para construir programas mais complexos."
   ]
  },
  {
   "cell_type": "markdown",
   "metadata": {},
   "source": [
    "## Classes e métodos\n",
    "O Python é também uma Linguagem Orientada a Objectos. Para além das suas características da programação imperativa, permite desenvolver programas à custa da definição de [classes](https://docs.python.org/3/tutorial/classes.html) e da criação de **objectos** dessas classes. As classes são uma forma de juntar dados e código numa única unidade. Enquanto que uma função agrega apenas código que se pode reutilizar, as classes permitem reutilizar dados e código.\n",
    "\n",
    "É complicado começar a criar classes e a desenvolver programas orientados a objectos, mas não é difícil perceber um exemplo. Vamos tentar ilustrar a programação orientada a objectos com uma classe `Cão`.\n",
    "\n",
    "Vamos fazer esta introdução para percebermos que existem **métodos** para além das **funções**, já que terá que usar muitos destes métodos, mesmo nos programas mais simples. Os métodos são muito utilizados em Python."
   ]
  },
  {
   "cell_type": "code",
   "execution_count": 1,
   "metadata": {},
   "outputs": [],
   "source": [
    "from datetime import date\n",
    "\n",
    "class Cão:\n",
    "    \n",
    "    # variável da classe (comum a todas as instâncias)\n",
    "    familia = 'Canis lupus familiaris'\n",
    "\n",
    "    def __init__(self, nome, nascimento):\n",
    "        # variáveis próprias de cada instância\n",
    "        self.nome = nome\n",
    "        self.nascimento = nascimento\n",
    "        \n",
    "    def ladra(self):\n",
    "        print(\"Au, au!\")\n",
    "        \n",
    "    def idade(self):\n",
    "        return date.today().year - self.nascimento;"
   ]
  },
  {
   "cell_type": "markdown",
   "metadata": {},
   "source": [
    "Já está criada a classe `Cão`. A classe dá-nos agora a possibilidade de criar objectos (dessa classe). Vamos criar então um programa com dois cães diferentes 🐕 🐕."
   ]
  },
  {
   "cell_type": "code",
   "execution_count": 2,
   "metadata": {},
   "outputs": [],
   "source": [
    "x = Cão('Artemisa', 2007)\n",
    "y = Cão('Apolo', 2018)"
   ]
  },
  {
   "cell_type": "markdown",
   "metadata": {},
   "source": [
    "`x` e `y` são **objectos**. Estes objetos tem propriedades (atributos) e métodos associados (código). Vamos exemplificar:"
   ]
  },
  {
   "cell_type": "code",
   "execution_count": 3,
   "metadata": {},
   "outputs": [
    {
     "data": {
      "text/plain": [
       "'Artemisa'"
      ]
     },
     "execution_count": 3,
     "metadata": {},
     "output_type": "execute_result"
    }
   ],
   "source": [
    "x.nome"
   ]
  },
  {
   "cell_type": "code",
   "execution_count": 4,
   "metadata": {},
   "outputs": [
    {
     "name": "stdout",
     "output_type": "stream",
     "text": [
      "Au, au!\n"
     ]
    }
   ],
   "source": [
    "y.ladra()"
   ]
  },
  {
   "cell_type": "code",
   "execution_count": 5,
   "metadata": {},
   "outputs": [
    {
     "data": {
      "text/plain": [
       "13"
      ]
     },
     "execution_count": 5,
     "metadata": {},
     "output_type": "execute_result"
    }
   ],
   "source": [
    "x.idade()"
   ]
  },
  {
   "cell_type": "code",
   "execution_count": 6,
   "metadata": {},
   "outputs": [
    {
     "data": {
      "text/plain": [
       "'Canis lupus familiaris'"
      ]
     },
     "execution_count": 6,
     "metadata": {},
     "output_type": "execute_result"
    }
   ],
   "source": [
    "y.familia"
   ]
  },
  {
   "cell_type": "markdown",
   "metadata": {},
   "source": [
    "### Métodos\n",
    "Vamos focar-nos nos métodos por agora, só para reforçar que estes são ligeiramente diferentes das funções. Enquanto que uma função se invoca através do nome da função, os métodos são sempre invocados no contexto de um objecto. No exemplo anterior, usou-se a sintaxe `y.ladra()` para invocar o método `ladra()`."
   ]
  },
  {
   "cell_type": "code",
   "execution_count": 7,
   "metadata": {},
   "outputs": [
    {
     "name": "stdout",
     "output_type": "stream",
     "text": [
      "Au, au!\n"
     ]
    }
   ],
   "source": [
    "y.ladra()"
   ]
  },
  {
   "cell_type": "markdown",
   "metadata": {},
   "source": [
    "Este introdução à programação orientada a objectos ajuda a perceber porque é que já encontrou nos exemplos anteriores situações em que se usam métodos em vez de funções.\n",
    "\n",
    "Um exemplo muito simples é o método `str.format()` que já viu ser utilizado. Se é um método da classe `str`, usa-se no contexto de um objecto dessa classe, da mesma forma que o método `ladra()` se usou no contexto do um objeto da classe `Cão`.\n",
    "\n",
    "Vamos aplicar o método `str.format()` a um objeto da classe `str`. Começamos por confirmar que o objecto é uma instância da classe `str` (só por curiosidade):"
   ]
  },
  {
   "cell_type": "code",
   "execution_count": 8,
   "metadata": {},
   "outputs": [
    {
     "data": {
      "text/plain": [
       "str"
      ]
     },
     "execution_count": 8,
     "metadata": {},
     "output_type": "execute_result"
    }
   ],
   "source": [
    "type(\"O gasóleo está a {:0.2f} €\")"
   ]
  },
  {
   "cell_type": "markdown",
   "metadata": {},
   "source": [
    "Invocação do método `str.format()`:"
   ]
  },
  {
   "cell_type": "code",
   "execution_count": 9,
   "metadata": {},
   "outputs": [
    {
     "data": {
      "text/plain": [
       "'O gasóleo está a 1.21 €'"
      ]
     },
     "execution_count": 9,
     "metadata": {},
     "output_type": "execute_result"
    }
   ],
   "source": [
    "\"O gasóleo está a {:0.2f} €\".format(1.214)"
   ]
  },
  {
   "cell_type": "markdown",
   "metadata": {},
   "source": [
    "#### Exercício (resolvido)\n",
    "Use o método `str.upper()` aplicado ao exercício anterior, para apresentar a mensagem em maiúsculas."
   ]
  },
  {
   "cell_type": "code",
   "execution_count": 10,
   "metadata": {},
   "outputs": [
    {
     "data": {
      "text/plain": [
       "'O GASÓLEO ESTÁ A {:0.2F} €'"
      ]
     },
     "execution_count": 10,
     "metadata": {},
     "output_type": "execute_result"
    }
   ],
   "source": [
    "\"O gasóleo está a {:0.2f} €\".upper()"
   ]
  },
  {
   "cell_type": "markdown",
   "metadata": {},
   "source": [
    "Da mesma forma, começará a usar outros métodos da classe `str`, como `str.find()` ou `str.strip()`, por exemplo. Começará também a usar métodos de muitas outras classes. Fica, para já, com a noção de que se a invocação for desta forma, trata-se de um método e não de uma função."
   ]
  },
  {
   "cell_type": "markdown",
   "metadata": {},
   "source": [
    "Nota: Complicando as coisas, na verdade o método `ladra()` é uma função da classe `Cão`. Por essa razão, é equivalente usar `y.ladra()` e `Cão.ladra(y)`. Mas isto já são coisas complicadas 🤪\n"
   ]
  }
 ],
 "metadata": {
  "authors": [
   {
    "name": "Jorge Gustavo Rocha"
   }
  ],
  "kernelspec": {
   "display_name": "Python 3.7.5 64-bit",
   "language": "python",
   "name": "python37564bit372a6736cb894d57b7e53a4586aaac58"
  },
  "language_info": {
   "codemirror_mode": {
    "name": "ipython",
    "version": 3
   },
   "file_extension": ".py",
   "mimetype": "text/x-python",
   "name": "python",
   "nbconvert_exporter": "python",
   "pygments_lexer": "ipython3",
   "version": "3.7.5"
  }
 },
 "nbformat": 4,
 "nbformat_minor": 2
}
