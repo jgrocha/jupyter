{
 "cells": [
  {
   "cell_type": "markdown",
   "metadata": {},
   "source": [
    "# Testes unitários #\n",
    "\n",
    "Os testes unitários são uma prática do desenvolvimento de software. São testes desenhados para validar as partes mais atómicas de uma aplicação. \n",
    "\n",
    "Basicamente, para cada uma dessas unidades mais pequenas de um programa, como seja uma classe, um método ou uma função, escrevem-se um conjunto de possíveis invocações e, para cada uma deles, indica-se o resultado esperado. \n",
    "\n",
    "## Ciclo de vida dos testes ##\n",
    "\n",
    "O código só está pronto quando passa todos os testes. Idealmente, **os testes não devem ser escritos pela mesmo programador que escreveu o código**, pois o mesmo será tendencioso e facilmente lhe escapará situações que ele próprio não previu ao escrever o código.\n",
    "\n",
    "Quando se altera o código, os testes voltam a ser executados para garantir que as novas alterações não partem o código existente.\n",
    "\n",
    "Sempre que aparece um bug relacionado com as funcionalidades testadas, deve-se acrescentar os testes em falta.\n",
    "\n",
    "Estes testes podem ser escritos mesmo antes de se desenvolver as funções/métodos/classes a que dizem respeito.\n",
    "\n",
    "## Exercícios sem testes ##\n",
    "\n",
    "Neste notebook propõe-se a resolução de dois exercícios. Devem-se escrever as funções pedidas e depois devem-se fazer várias invocações para garantir que a solução está adequada.\n",
    "\n",
    "## Testes ##\n",
    "\n",
    "Na segunda parte, escrevem-se testes unitários para cada uma das funções."
   ]
  },
  {
   "cell_type": "markdown",
   "metadata": {},
   "source": [
    "### Exercício: validar NIF ###\n",
    "\n",
    "Escreva uma função Python que recebe um número de contribuinte Português e indica se é válido ou não.\n",
    "\n",
    "Verificar a validade resume-se a verificar que a entrada só tem dígitos, o número de dígitos tem que ser 9 e o check digit calculado tem que ser igual ao check digit do NIF (o último algarismo).\n",
    "\n",
    "```\n",
    "5\t1\t0\t9\t0\t6\t1\t0\t9\tNIF\t\n",
    "9\t8\t7\t6\t5\t4\t3\t2\t\tFatores\t\t\n",
    "45\t8\t0\t54\t0\t24\t3\t0\t\t134\t    '=SUM(A5:H5)\t        Soma\n",
    "\t\t\t\t\t\t\t\t\t2\t    '=MOD(J5;11)\t        Resto da divisão\n",
    "\t\t\t\t\t\t\t\t\t9\t    '=IF(J6<2;0;11-J6)\t    Condição\n",
    "\t\t\t\t\t\t\t\t\tválido\t'=IF(J7=I3;\"válido\";\"Inválido\")\t\n",
    "```\n",
    "\n",
    "Exemplos: \n",
    "```\n",
    "validanif(\"196628865\") → True\n",
    "validanif(\"510906109\") → True\n",
    "validanif(\"510906100\") → False\n",
    "```"
   ]
  },
  {
   "cell_type": "code",
   "execution_count": 41,
   "metadata": {},
   "outputs": [],
   "source": [
    "def validanif(entrada):\n",
    "    entrada = entrada.replace(\" \", \"\")\n",
    "    if (entrada.isdigit() and len(entrada) == 9):\n",
    "        fator = 9\n",
    "        soma = 0\n",
    "        for x in entrada[0:8]:\n",
    "            soma += int(x) * fator\n",
    "            fator -= 1\n",
    "        resto = soma % 11\n",
    "        novo = 0 if resto < 2 else 11 - resto\n",
    "        res = novo == int(entrada[8])\n",
    "    else:\n",
    "        res = False\n",
    "    return res"
   ]
  },
  {
   "cell_type": "code",
   "execution_count": 4,
   "metadata": {},
   "outputs": [
    {
     "data": {
      "text/plain": [
       "True"
      ]
     },
     "execution_count": 4,
     "metadata": {},
     "output_type": "execute_result"
    }
   ],
   "source": [
    "validanif(\"196 628 865\")"
   ]
  },
  {
   "cell_type": "markdown",
   "metadata": {},
   "source": [
    "### Exercício: validar Cartão de Cidadão ###\n",
    "\n",
    "Valide o número do cartão de cidadão, de acordo com as regras da AMA.\n",
    "\n",
    "Consulte o seguinte documento: \n",
    "[Validação de Número de Documento\n",
    "do Cartão de Cidadão](https://apps.autenticacao.gov.pt/documents/10179/11463/Valida%C3%A7%C3%A3o+de+N%C3%BAmero+de+Documento+do+Cart%C3%A3o+de+Cidad%C3%A3o/0dbc446b-3718-41e5-b982-551a72f8b8a8)\n",
    "\n",
    "Use o seu número de cartão de cidadão para testar a sua função de validação.\n",
    "\n",
    "Exemplo:\n",
    "```\n",
    "validanif(\"8432271 3 ZW3\") → True\n",
    "```"
   ]
  },
  {
   "cell_type": "code",
   "execution_count": 17,
   "metadata": {},
   "outputs": [],
   "source": [
    "def converte(c):\n",
    "    assert c.isalnum(), \"Tem que ser letra ou algarismo\"\n",
    "    if c.isdigit():\n",
    "        res = int(c)\n",
    "    else:\n",
    "        res = ord(c.lower())-87\n",
    "    return res"
   ]
  },
  {
   "cell_type": "code",
   "execution_count": 18,
   "metadata": {},
   "outputs": [
    {
     "ename": "AssertionError",
     "evalue": "Tem que ser letra ou algarismo",
     "output_type": "error",
     "traceback": [
      "\u001b[0;31m---------------------------------------------------------------------------\u001b[0m",
      "\u001b[0;31mAssertionError\u001b[0m                            Traceback (most recent call last)",
      "Cell \u001b[0;32mIn [18], line 1\u001b[0m\n\u001b[0;32m----> 1\u001b[0m converte(\u001b[39m'\u001b[39m\u001b[39m0\u001b[39m\u001b[39m'\u001b[39m), converte(\u001b[39m'\u001b[39m\u001b[39mA\u001b[39m\u001b[39m'\u001b[39m), converte(\u001b[39m'\u001b[39m\u001b[39mz\u001b[39m\u001b[39m'\u001b[39m), converte(\u001b[39m'\u001b[39m\u001b[39m \u001b[39m\u001b[39m'\u001b[39m)\n",
      "Cell \u001b[0;32mIn [17], line 2\u001b[0m, in \u001b[0;36mconverte\u001b[0;34m(c)\u001b[0m\n\u001b[1;32m      1\u001b[0m \u001b[39mdef\u001b[39;00m \u001b[39mconverte\u001b[39m(c):\n\u001b[0;32m----> 2\u001b[0m     \u001b[39massert\u001b[39;00m c\u001b[39m.\u001b[39misalnum(), \u001b[39m\"\u001b[39m\u001b[39mTem que ser letra ou algarismo\u001b[39m\u001b[39m\"\u001b[39m\n\u001b[1;32m      3\u001b[0m     \u001b[39mif\u001b[39;00m c\u001b[39m.\u001b[39misdigit():\n\u001b[1;32m      4\u001b[0m         res \u001b[39m=\u001b[39m \u001b[39mint\u001b[39m(c)\n",
      "\u001b[0;31mAssertionError\u001b[0m: Tem que ser letra ou algarismo"
     ]
    }
   ],
   "source": [
    "converte('0'), converte('A'), converte('z'), converte(' ')"
   ]
  },
  {
   "cell_type": "code",
   "execution_count": 13,
   "metadata": {},
   "outputs": [
    {
     "name": "stdout",
     "output_type": "stream",
     "text": [
      "ERRO: Por favor use apenas letras ou algarismos\n",
      "False\n"
     ]
    }
   ],
   "source": [
    "try:\n",
    "    res = validanif(' 84322711ZW3')\n",
    "except:\n",
    "    print('ERRO: Por favor use apenas letras ou algarismos')\n",
    "print(res)\n",
    "\n"
   ]
  },
  {
   "cell_type": "code",
   "execution_count": 26,
   "metadata": {},
   "outputs": [
    {
     "data": {
      "text/plain": [
       "[71, 117, 115, 116, 97, 118, 111]"
      ]
     },
     "execution_count": 26,
     "metadata": {},
     "output_type": "execute_result"
    }
   ],
   "source": [
    "map(list(map(ord, \"Gustavo\"))\n"
   ]
  },
  {
   "cell_type": "code",
   "execution_count": 40,
   "metadata": {},
   "outputs": [],
   "source": [
    "def validacc(entrada):\n",
    "    entrada = entrada.replace(\" \", \"\")\n",
    "    if (entrada.isalnum() and (len(entrada) == 11 or len(entrada) == 12)):\n",
    "        digitos = list(map( converte, entrada ))\n",
    "        soma = 0\n",
    "        for (i, valor) in enumerate(reversed(digitos)):\n",
    "            # print(i, valor)\n",
    "            if i % 2 == 1:\n",
    "                aux = (valor * 2) if (valor * 2) < 10 else (valor * 2) - 9\n",
    "            else:\n",
    "                aux = valor\n",
    "            soma += aux\n",
    "        res = soma % 10 == 0\n",
    "    else:\n",
    "        res = False\n",
    "    return res    "
   ]
  },
  {
   "cell_type": "markdown",
   "metadata": {},
   "source": [
    "## Exercício: validar data ##\n"
   ]
  },
  {
   "cell_type": "code",
   "execution_count": null,
   "metadata": {},
   "outputs": [],
   "source": [
    "import unittest\n",
    "\n",
    "class TestValidaNIF(unittest.TestCase):\n",
    "    def test_validanif_vazio(self):\n",
    "        self.assertFalse( validanif(\"\") )\n",
    "\n",
    "    def test_validanif_email(self):\n",
    "        self.assertFalse( validanif(\"estibordo@gmail.com\") )    \n",
    "        \n",
    "    def test_validanif_cc(self):\n",
    "        self.assertFalse( validanif(\"8432271\") )\n",
    "        \n",
    "    def test_validanif_pequeno(self):\n",
    "        self.assertFalse( validanif(\"96628865\") )\n",
    "\n",
    "    def test_validanif_com_espaços(self):\n",
    "        self.assertTrue( validanif(\"196 628 865\") )\n",
    "\n",
    "    def test_validanif_com_espaço_inicio(self):\n",
    "        self.assertTrue( validanif(\" 510906109\") )\n",
    "\n",
    "    def test_validanif_checkdigit_invalido(self):\n",
    "        self.assertFalse( validanif(\"196628866\") )\n",
    "\n",
    "    def test_validanif_reverso(self):\n",
    "        self.assertFalse( validanif('568826691') )\n",
    "\n",
    "    def test_validanif_999999999(self):\n",
    "        self.assertFalse( validanif('999999999') )    \n",
    "\n",
    "    def test_validanif_999999990(self):\n",
    "        self.assertTrue( validanif('999999990') )    \n",
    "\n",
    "    def test_validanif_000000000(self):\n",
    "        self.assertTrue( validanif('000000000') )                 \n",
    "\n",
    "suite = unittest.TestLoader().loadTestsFromTestCase(TestValidaNIF)\n",
    "unittest.TextTestRunner( verbosity=3 ).run( suite )"
   ]
  },
  {
   "cell_type": "markdown",
   "metadata": {},
   "source": [
    "## Testes ##\n",
    "\n",
    "Vamos usar o módulo `unittest` (ver [documentação](https://docs.python.org/3/library/unittest.html)) para escrever os testes. "
   ]
  },
  {
   "cell_type": "markdown",
   "metadata": {},
   "source": [
    "### Testar a função validanif() ###\n",
    "\n",
    "Para testar a função `validanif()` escrevem-se vários casos. Os casos têm que consagrar uma diversidade de situações."
   ]
  },
  {
   "cell_type": "code",
   "execution_count": 31,
   "metadata": {},
   "outputs": [],
   "source": [
    "def validadata(entrada):\n",
    "    if len(entrada) == 10:\n",
    "        res = True\n",
    "    else:\n",
    "        res = False\n",
    "    return res"
   ]
  },
  {
   "cell_type": "code",
   "execution_count": 32,
   "metadata": {},
   "outputs": [
    {
     "data": {
      "text/plain": [
       "False"
      ]
     },
     "execution_count": 32,
     "metadata": {},
     "output_type": "execute_result"
    }
   ],
   "source": [
    "validadata(\"\")"
   ]
  },
  {
   "cell_type": "code",
   "execution_count": 29,
   "metadata": {},
   "outputs": [
    {
     "data": {
      "text/plain": [
       "datetime.date(2022, 11, 24)"
      ]
     },
     "execution_count": 29,
     "metadata": {},
     "output_type": "execute_result"
    }
   ],
   "source": [
    "import re\n",
    "import datetime\n",
    "p = re.compile('(\\d\\d)[-/](\\d\\d)[-/](\\d\\d\\d\\d)')\n",
    "# res = p.match(\"O céu está azul\")\n",
    "res = p.search(\"24/11/2022\")\n",
    "dia = res.groups()[0]\n",
    "mes = res.groups()[1]\n",
    "ano = res.groups()[2]\n",
    "dia, mes, ano\n",
    "d = datetime.date(int(ano), int(mes), int(dia))\n",
    "d\n",
    "\n"
   ]
  },
  {
   "cell_type": "code",
   "execution_count": 50,
   "metadata": {},
   "outputs": [
    {
     "name": "stdout",
     "output_type": "stream",
     "text": [
      "Gonçalves, Joana, nascido em 2001\n"
     ]
    }
   ],
   "source": [
    "import re\n",
    "\n",
    "p = re.compile('(\\w+) (\\w+),? (\\d{4})')\n",
    "\n",
    "res = p.match(\"Jorge Gustavo, 1969/07/25\")\n",
    "res = p.match(\"Joana Gonçalves 2001/07/25\")\n",
    "print(\"{}, {}, nascido em {}\".format( res.groups()[1], res.groups()[0], res.groups()[2] )) "
   ]
  },
  {
   "cell_type": "code",
   "execution_count": 64,
   "metadata": {},
   "outputs": [
    {
     "data": {
      "text/plain": [
       "(<re.Match object; span=(0, 10), match='02/11/1975'>,\n",
       " <re.Match object; span=(0, 10), match='02-11-1975'>)"
      ]
     },
     "execution_count": 64,
     "metadata": {},
     "output_type": "execute_result"
    }
   ],
   "source": [
    "import re\n",
    "\n",
    "# p = re.compile('\\d\\d/\\d\\d/\\d\\d\\d\\d')\n",
    "# p = re.compile('\\d{2}/\\d{2}/\\d{4}')\n",
    "p = re.compile('\\d{2}[-/]\\d{2}[-/]\\d{4}')\n",
    "p.match(\"02/11/1975\"), p.match(\"02-11-1975\")"
   ]
  },
  {
   "cell_type": "code",
   "execution_count": 65,
   "metadata": {},
   "outputs": [
    {
     "data": {
      "text/plain": [
       "(None, None)"
      ]
     },
     "execution_count": 65,
     "metadata": {},
     "output_type": "execute_result"
    }
   ],
   "source": [
    "import re\n",
    "\n",
    "p = re.compile('\\d{2}[-/]\\d{2}[-/]\\d{4}')\n",
    "p.match(\"  02/11/1975  \"), p.match(\"0000002-11-19755555\")"
   ]
  },
  {
   "cell_type": "code",
   "execution_count": 78,
   "metadata": {},
   "outputs": [
    {
     "data": {
      "text/plain": [
       "True"
      ]
     },
     "execution_count": 78,
     "metadata": {},
     "output_type": "execute_result"
    }
   ],
   "source": [
    "entrada = '25/07/1969'\n",
    "# int(entrada[3:5]) in (1, 3, 5, 7, 8, 10, 12)\n",
    "'/' in entrada"
   ]
  },
  {
   "cell_type": "code",
   "execution_count": 97,
   "metadata": {},
   "outputs": [
    {
     "name": "stderr",
     "output_type": "stream",
     "text": [
      "test_validadata_abr (__main__.TestValidaData) ... ok\n",
      "test_validadata_ano_abreviado (__main__.TestValidaData) ... ok\n",
      "test_validadata_correta_1 (__main__.TestValidaData) ... ok\n",
      "test_validadata_correta_2 (__main__.TestValidaData) ... ok\n",
      "test_validadata_fev (__main__.TestValidaData) ... ok\n",
      "test_validadata_set (__main__.TestValidaData) ... ok\n",
      "test_validadata_vazio (__main__.TestValidaData) ... ok\n",
      "\n",
      "----------------------------------------------------------------------\n",
      "Ran 7 tests in 0.006s\n",
      "\n",
      "OK\n"
     ]
    },
    {
     "data": {
      "text/plain": [
       "<unittest.runner.TextTestResult run=7 errors=0 failures=0>"
      ]
     },
     "execution_count": 97,
     "metadata": {},
     "output_type": "execute_result"
    }
   ],
   "source": [
    "import unittest\n",
    "\n",
    "class TestValidaData(unittest.TestCase):\n",
    "    def test_validadata_vazio(self):\n",
    "        self.assertFalse( validadata(\"\") )\n",
    "\n",
    "    def test_validadata_correta_1(self):\n",
    "        self.assertTrue( validadata(\"25-07-2022\") )    \n",
    "        \n",
    "    def test_validadata_correta_2(self):\n",
    "        self.assertTrue( validadata(\"25/07/2022\") )    \n",
    "\n",
    "    def test_validadata_fev(self):\n",
    "        self.assertFalse( validadata(\"30/02/2022\") )\n",
    "\n",
    "    def test_validadata_set(self):\n",
    "        self.assertFalse( validadata(\"31/09/2000\") )\n",
    "\n",
    "    def test_validadata_abr(self):\n",
    "        self.assertFalse( validadata(\"31/04/1991\") )        \n",
    "                 \n",
    "    def test_validadata_ano_abreviado(self):\n",
    "        self.assertFalse( validadata(\"31/04/91\") )                        \n",
    "\n",
    "suite = unittest.TestLoader().loadTestsFromTestCase(TestValidaData)\n",
    "unittest.TextTestRunner( verbosity=3 ).run( suite )"
   ]
  },
  {
   "cell_type": "code",
   "execution_count": 31,
   "metadata": {},
   "outputs": [
    {
     "data": {
      "text/plain": [
       "'568826691'"
      ]
     },
     "execution_count": 31,
     "metadata": {},
     "output_type": "execute_result"
    }
   ],
   "source": [
    "\"196628865\"[::-1]"
   ]
  },
  {
   "cell_type": "markdown",
   "metadata": {},
   "source": [
    "### Testar a função converte() ###\n",
    "\n",
    "Para testar a função `converte()` escrevem-se vários casos."
   ]
  },
  {
   "cell_type": "code",
   "execution_count": 33,
   "metadata": {},
   "outputs": [
    {
     "name": "stderr",
     "output_type": "stream",
     "text": [
      "test_digito (__main__.TestConverteChar) ... ok\n",
      "test_espaço (__main__.TestConverteChar) ... FAIL\n",
      "test_letra_minuscula_b (__main__.TestConverteChar) ... FAIL\n",
      "test_letra_minuscula_maiuscula_b (__main__.TestConverteChar) ... ok\n",
      "test_letra_minuscula_maiuscula_z (__main__.TestConverteChar) ... ok\n",
      "test_letra_minuscula_z (__main__.TestConverteChar) ... ok\n",
      "test_simboloo (__main__.TestConverteChar) ... FAIL\n",
      "\n",
      "======================================================================\n",
      "FAIL: test_espaço (__main__.TestConverteChar)\n",
      "----------------------------------------------------------------------\n",
      "Traceback (most recent call last):\n",
      "  File \"/tmp/ipykernel_9826/3002870830.py\", line 5, in test_espaço\n",
      "    self.assertEqual( converte(' '), 0 )\n",
      "  File \"/tmp/ipykernel_9826/3056004863.py\", line 2, in converte\n",
      "    assert c.isalnum(), \"Tem que ser letra ou algarismo\"\n",
      "AssertionError: Tem que ser letra ou algarismo\n",
      "\n",
      "======================================================================\n",
      "FAIL: test_letra_minuscula_b (__main__.TestConverteChar)\n",
      "----------------------------------------------------------------------\n",
      "Traceback (most recent call last):\n",
      "  File \"/tmp/ipykernel_9826/3002870830.py\", line 14, in test_letra_minuscula_b\n",
      "    self.assertEqual( 'b', 11 )\n",
      "AssertionError: 'b' != 11\n",
      "\n",
      "======================================================================\n",
      "FAIL: test_simboloo (__main__.TestConverteChar)\n",
      "----------------------------------------------------------------------\n",
      "Traceback (most recent call last):\n",
      "  File \"/tmp/ipykernel_9826/3002870830.py\", line 8, in test_simboloo\n",
      "    self.assertEqual( converte('-'), 0 )\n",
      "  File \"/tmp/ipykernel_9826/3056004863.py\", line 2, in converte\n",
      "    assert c.isalnum(), \"Tem que ser letra ou algarismo\"\n",
      "AssertionError: Tem que ser letra ou algarismo\n",
      "\n",
      "----------------------------------------------------------------------\n",
      "Ran 7 tests in 0.005s\n",
      "\n",
      "FAILED (failures=3)\n"
     ]
    },
    {
     "data": {
      "text/plain": [
       "<unittest.runner.TextTestResult run=7 errors=0 failures=3>"
      ]
     },
     "execution_count": 33,
     "metadata": {},
     "output_type": "execute_result"
    }
   ],
   "source": [
    "import unittest\n",
    "\n",
    "class TestConverteChar(unittest.TestCase):\n",
    "    def test_espaço(self):\n",
    "        self.assertEqual( converte(' '), 0 )\n",
    "    \n",
    "    def test_simboloo(self):\n",
    "        self.assertEqual( converte('-'), 0 )\n",
    "        \n",
    "    def test_digito(self):\n",
    "        self.assertEqual( converte('6'), 6 )\n",
    "        \n",
    "    def test_letra_minuscula_b(self):\n",
    "        self.assertEqual( 'b', 11 )\n",
    "\n",
    "    def test_letra_minuscula_z(self):\n",
    "        self.assertEqual( converte('z'), 35 )\n",
    "\n",
    "    def test_letra_minuscula_maiuscula_b(self):\n",
    "        self.assertEqual( converte('b'), converte('B') )\n",
    "\n",
    "    def test_letra_minuscula_maiuscula_z(self):\n",
    "        self.assertEqual( converte('z'), converte('Z') )\n",
    "     \n",
    "suite = unittest.TestLoader().loadTestsFromTestCase(TestConverteChar)\n",
    "unittest.TextTestRunner( verbosity=3 ).run( suite )"
   ]
  },
  {
   "cell_type": "markdown",
   "metadata": {},
   "source": [
    "### Testar a função validanif() ###\n",
    "\n",
    "Para testar a função `validanif()` escrevem-se vários casos."
   ]
  },
  {
   "cell_type": "code",
   "execution_count": 9,
   "metadata": {},
   "outputs": [
    {
     "name": "stderr",
     "output_type": "stream",
     "text": [
      "test_validacc_11_digitos_invalido (__main__.TestValidaCC) ... ok\n",
      "test_validacc_11_digitos_valido (__main__.TestValidaCC) ... ok\n",
      "test_validacc_com_espacos (__main__.TestValidaCC) ... ok\n",
      "test_validacc_nome (__main__.TestValidaCC) ... ok\n",
      "test_validacc_reverso (__main__.TestValidaCC) ... ok\n",
      "test_validacc_vazio (__main__.TestValidaCC) ... ok\n",
      "\n",
      "----------------------------------------------------------------------\n",
      "Ran 6 tests in 0.004s\n",
      "\n",
      "OK\n"
     ]
    },
    {
     "data": {
      "text/plain": [
       "<unittest.runner.TextTestResult run=6 errors=0 failures=0>"
      ]
     },
     "execution_count": 9,
     "metadata": {},
     "output_type": "execute_result"
    }
   ],
   "source": [
    "import unittest\n",
    "\n",
    "class TestValidaNIF(unittest.TestCase):\n",
    "    def test_validanif_vazio(self):\n",
    "        self.assertFalse( validanif(\"\") )\n",
    "        \n",
    "    def test_validanif_nome(self):\n",
    "        self.assertFalse( validanif(\"gustavo\") )\n",
    "\n",
    "    def test_validanif_11_digitos_invalido(self):\n",
    "        self.assertFalse( validanif(\"84322713ZW4\") )\n",
    "\n",
    "    def test_validanif_11_digitos_valido(self):\n",
    "        self.assertTrue( validanif(\"84322713ZW3\") )\n",
    "\n",
    "    def test_validanif_reverso(self):\n",
    "        self.assertFalse( validanif(\"3WZ317223480\") )\n",
    "\n",
    "    def test_validanif_com_espacos(self):\n",
    "        self.assertTrue( validanif(\" 8432271 3 ZW3\") )   \n",
    "\n",
    "suite = unittest.TestLoader().loadTestsFromTestCase(TestValidaNIF)\n",
    "unittest.TextTestRunner( verbosity=3 ).run( suite )"
   ]
  }
 ],
 "metadata": {
  "kernelspec": {
   "display_name": "Python 3.10.6 64-bit",
   "language": "python",
   "name": "python3"
  },
  "language_info": {
   "codemirror_mode": {
    "name": "ipython",
    "version": 3
   },
   "file_extension": ".py",
   "mimetype": "text/x-python",
   "name": "python",
   "nbconvert_exporter": "python",
   "pygments_lexer": "ipython3",
   "version": "3.10.6"
  },
  "vscode": {
   "interpreter": {
    "hash": "916dbcbb3f70747c44a77c7bcd40155683ae19c65e1c03b4aa3499c5328201f1"
   }
  }
 },
 "nbformat": 4,
 "nbformat_minor": 2
}
